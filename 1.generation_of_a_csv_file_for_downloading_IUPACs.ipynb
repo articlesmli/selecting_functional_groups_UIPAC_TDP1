{
 "cells": [
  {
   "cell_type": "markdown",
   "id": "18f6f4f5-a126-4c4f-950b-8cc6ffa916b6",
   "metadata": {},
   "source": [
    "# Generation of a csv file for downloading of IUPACs name related to the the TDP1 inhibitors\n"
   ]
  },
  {
   "cell_type": "markdown",
   "id": "1dcf9d82-657a-4656-b3f3-c8905d770694",
   "metadata": {},
   "source": [
    "### Content   <a name=\"content\"></a>"
   ]
  },
  {
   "cell_type": "markdown",
   "id": "b3551b8d-c497-4ba0-b627-ebcdd8e64a99",
   "metadata": {},
   "source": [
    "1. [Load and analyse PubChem BioAssay GPR151 protein activators data](#1)\n",
    "2. [Create a data frame with CIDs and targets](#2)\n",
    "3. [Reduce the inactive compounds](#3)\n",
    "4. [Generate the csv file for IUPAC names dowloading](#4)"
   ]
  },
  {
   "cell_type": "markdown",
   "id": "4b14090e-b376-4ffb-86be-653a06cb09e0",
   "metadata": {},
   "source": [
    "### Load and analyse PubChem BioAssay data <a name=\"1\"></a>"
   ]
  },
  {
   "cell_type": "code",
   "execution_count": 1,
   "id": "e72d2861-3f2d-4804-803e-1c60ad3dbaaa",
   "metadata": {
    "scrolled": true
   },
   "outputs": [
    {
     "name": "stdout",
     "output_type": "stream",
     "text": [
      "Shape of the data frame:  (424003, 48)\n"
     ]
    },
    {
     "data": {
      "text/html": [
       "<div>\n",
       "<style scoped>\n",
       "    .dataframe tbody tr th:only-of-type {\n",
       "        vertical-align: middle;\n",
       "    }\n",
       "\n",
       "    .dataframe tbody tr th {\n",
       "        vertical-align: top;\n",
       "    }\n",
       "\n",
       "    .dataframe thead th {\n",
       "        text-align: right;\n",
       "    }\n",
       "</style>\n",
       "<table border=\"1\" class=\"dataframe\">\n",
       "  <thead>\n",
       "    <tr style=\"text-align: right;\">\n",
       "      <th></th>\n",
       "      <th>PUBCHEM_RESULT_TAG</th>\n",
       "      <th>PUBCHEM_SID</th>\n",
       "      <th>PUBCHEM_CID</th>\n",
       "      <th>PUBCHEM_EXT_DATASOURCE_SMILES</th>\n",
       "      <th>PUBCHEM_ACTIVITY_OUTCOME</th>\n",
       "      <th>PUBCHEM_ACTIVITY_SCORE</th>\n",
       "      <th>PUBCHEM_ACTIVITY_URL</th>\n",
       "      <th>PUBCHEM_ASSAYDATA_COMMENT</th>\n",
       "      <th>Phenotype</th>\n",
       "      <th>Potency</th>\n",
       "      <th>Efficacy</th>\n",
       "      <th>Analysis Comment</th>\n",
       "      <th>Activity_Score</th>\n",
       "      <th>Curve_Description</th>\n",
       "      <th>Fit_LogAC50</th>\n",
       "      <th>Fit_HillSlope</th>\n",
       "      <th>Fit_R2</th>\n",
       "      <th>Fit_InfiniteActivity</th>\n",
       "      <th>Fit_ZeroActivity</th>\n",
       "      <th>Fit_CurveClass</th>\n",
       "      <th>Excluded_Points</th>\n",
       "      <th>Max_Response</th>\n",
       "      <th>Activity at 0.0000295000 uM</th>\n",
       "      <th>Activity at 0.0000590000 uM</th>\n",
       "      <th>Activity at 0.0001503265 uM</th>\n",
       "      <th>Activity at 0.0002712146 uM</th>\n",
       "      <th>Activity at 0.0005895491 uM</th>\n",
       "      <th>Activity at 0.00117 uM</th>\n",
       "      <th>Activity at 0.00179 uM</th>\n",
       "      <th>Activity at 0.00299 uM</th>\n",
       "      <th>Activity at 0.00672 uM</th>\n",
       "      <th>Activity at 0.014 uM</th>\n",
       "      <th>Activity at 0.026 uM</th>\n",
       "      <th>Activity at 0.040 uM</th>\n",
       "      <th>Activity at 0.074 uM</th>\n",
       "      <th>Activity at 0.167 uM</th>\n",
       "      <th>Activity at 0.363 uM</th>\n",
       "      <th>Activity at 0.628 uM</th>\n",
       "      <th>Activity at 0.975 uM</th>\n",
       "      <th>Activity at 1.849 uM</th>\n",
       "      <th>Activity at 4.119 uM</th>\n",
       "      <th>Activity at 9.037 uM</th>\n",
       "      <th>Activity at 15.83 uM</th>\n",
       "      <th>Activity at 21.08 uM</th>\n",
       "      <th>Activity at 46.23 uM</th>\n",
       "      <th>Activity at 92.54 uM</th>\n",
       "      <th>Activity at 165.6 uM</th>\n",
       "      <th>Compound QC;;;;</th>\n",
       "    </tr>\n",
       "  </thead>\n",
       "  <tbody>\n",
       "    <tr>\n",
       "      <th>0</th>\n",
       "      <td>1</td>\n",
       "      <td>109967258</td>\n",
       "      <td>50897788.0</td>\n",
       "      <td>CNCC1=NC2=C(C=C(C=C2)Cl)C(=N1)C3=CC=CN3</td>\n",
       "      <td>Active</td>\n",
       "      <td>42</td>\n",
       "      <td>http://assay.nih.gov/htsws/rest/display/dd-tdp...</td>\n",
       "      <td>NaN</td>\n",
       "      <td>Inhibitor</td>\n",
       "      <td>14.1254</td>\n",
       "      <td>136.5470</td>\n",
       "      <td>NaN</td>\n",
       "      <td>42.0</td>\n",
       "      <td>Partial curve; high efficacy</td>\n",
       "      <td>-4.850</td>\n",
       "      <td>1.0100</td>\n",
       "      <td>0.9948</td>\n",
       "      <td>-134.4880</td>\n",
       "      <td>2.0597</td>\n",
       "      <td>-2.1</td>\n",
       "      <td>0 0 0 0 0</td>\n",
       "      <td>-106.3110</td>\n",
       "      <td>NaN</td>\n",
       "      <td>NaN</td>\n",
       "      <td>NaN</td>\n",
       "      <td>NaN</td>\n",
       "      <td>NaN</td>\n",
       "      <td>NaN</td>\n",
       "      <td>NaN</td>\n",
       "      <td>NaN</td>\n",
       "      <td>NaN</td>\n",
       "      <td>2.0597</td>\n",
       "      <td>NaN</td>\n",
       "      <td>NaN</td>\n",
       "      <td>NaN</td>\n",
       "      <td>NaN</td>\n",
       "      <td>0.5007</td>\n",
       "      <td>NaN</td>\n",
       "      <td>NaN</td>\n",
       "      <td>-17.4373</td>\n",
       "      <td>NaN</td>\n",
       "      <td>-48.5138</td>\n",
       "      <td>NaN</td>\n",
       "      <td>NaN</td>\n",
       "      <td>-106.3110</td>\n",
       "      <td>NaN</td>\n",
       "      <td>NaN</td>\n",
       "      <td>QC'd by AA Pharmaceuticals;;;</td>\n",
       "    </tr>\n",
       "    <tr>\n",
       "      <th>1</th>\n",
       "      <td>2</td>\n",
       "      <td>144206324</td>\n",
       "      <td>65628.0</td>\n",
       "      <td>CN1C2=C(C=C(C=C2)N(CCCl)CCCl)N=C1CCCC(=O)O</td>\n",
       "      <td>Active</td>\n",
       "      <td>41</td>\n",
       "      <td>http://assay.nih.gov/htsws/rest/display/dd-tdp...</td>\n",
       "      <td>NaN</td>\n",
       "      <td>Inhibitor</td>\n",
       "      <td>18.8375</td>\n",
       "      <td>82.1468</td>\n",
       "      <td>NaN</td>\n",
       "      <td>41.0</td>\n",
       "      <td>Partial curve; high efficacy</td>\n",
       "      <td>-4.725</td>\n",
       "      <td>1.9887</td>\n",
       "      <td>0.9829</td>\n",
       "      <td>-82.6097</td>\n",
       "      <td>-0.4629</td>\n",
       "      <td>-2.1</td>\n",
       "      <td>0 0 0 0 0 0 0 0</td>\n",
       "      <td>-70.9545</td>\n",
       "      <td>NaN</td>\n",
       "      <td>NaN</td>\n",
       "      <td>NaN</td>\n",
       "      <td>NaN</td>\n",
       "      <td>-3.2819</td>\n",
       "      <td>NaN</td>\n",
       "      <td>NaN</td>\n",
       "      <td>1.1641</td>\n",
       "      <td>NaN</td>\n",
       "      <td>5.8554</td>\n",
       "      <td>NaN</td>\n",
       "      <td>NaN</td>\n",
       "      <td>-1.8326</td>\n",
       "      <td>NaN</td>\n",
       "      <td>-4.9853</td>\n",
       "      <td>NaN</td>\n",
       "      <td>NaN</td>\n",
       "      <td>0.0798</td>\n",
       "      <td>NaN</td>\n",
       "      <td>-16.3921</td>\n",
       "      <td>NaN</td>\n",
       "      <td>NaN</td>\n",
       "      <td>-70.9545</td>\n",
       "      <td>NaN</td>\n",
       "      <td>NaN</td>\n",
       "      <td>QC'd by ACC;;;</td>\n",
       "    </tr>\n",
       "    <tr>\n",
       "      <th>2</th>\n",
       "      <td>3</td>\n",
       "      <td>144206325</td>\n",
       "      <td>14708.0</td>\n",
       "      <td>C[C@]12CC[C@H]3[C@H]([C@@H]1CC[C@]2(C)O)CC[C@@...</td>\n",
       "      <td>Inconclusive</td>\n",
       "      <td>10</td>\n",
       "      <td>http://assay.nih.gov/htsws/rest/display/dd-tdp...</td>\n",
       "      <td>NaN</td>\n",
       "      <td>Inhibitor</td>\n",
       "      <td>21.1360</td>\n",
       "      <td>39.2903</td>\n",
       "      <td>NaN</td>\n",
       "      <td>10.0</td>\n",
       "      <td>Single point of activity</td>\n",
       "      <td>-4.675</td>\n",
       "      <td>2.7868</td>\n",
       "      <td>0.9357</td>\n",
       "      <td>-43.4549</td>\n",
       "      <td>-4.1646</td>\n",
       "      <td>-3.0</td>\n",
       "      <td>0 0 0 0 0 0 0 0</td>\n",
       "      <td>-39.2270</td>\n",
       "      <td>NaN</td>\n",
       "      <td>NaN</td>\n",
       "      <td>NaN</td>\n",
       "      <td>NaN</td>\n",
       "      <td>-4.1400</td>\n",
       "      <td>NaN</td>\n",
       "      <td>NaN</td>\n",
       "      <td>-5.7369</td>\n",
       "      <td>NaN</td>\n",
       "      <td>0.1681</td>\n",
       "      <td>NaN</td>\n",
       "      <td>NaN</td>\n",
       "      <td>-8.2838</td>\n",
       "      <td>NaN</td>\n",
       "      <td>-6.9258</td>\n",
       "      <td>NaN</td>\n",
       "      <td>NaN</td>\n",
       "      <td>1.0188</td>\n",
       "      <td>NaN</td>\n",
       "      <td>-7.8647</td>\n",
       "      <td>NaN</td>\n",
       "      <td>NaN</td>\n",
       "      <td>-39.2270</td>\n",
       "      <td>NaN</td>\n",
       "      <td>NaN</td>\n",
       "      <td>QC'd by ACC;;;;</td>\n",
       "    </tr>\n",
       "    <tr>\n",
       "      <th>3</th>\n",
       "      <td>4</td>\n",
       "      <td>144206326</td>\n",
       "      <td>3085168.0</td>\n",
       "      <td>CC1=NC=C(C(=N1)N)CN(C=O)/C(=C(\\CCO)/SS/C(=C(/C...</td>\n",
       "      <td>Inactive</td>\n",
       "      <td>0</td>\n",
       "      <td>http://assay.nih.gov/htsws/rest/display/dd-tdp...</td>\n",
       "      <td>NaN</td>\n",
       "      <td>Inactive</td>\n",
       "      <td>NaN</td>\n",
       "      <td>NaN</td>\n",
       "      <td>NaN</td>\n",
       "      <td>0.0</td>\n",
       "      <td>NaN</td>\n",
       "      <td>NaN</td>\n",
       "      <td>4.9549</td>\n",
       "      <td>0.6177</td>\n",
       "      <td>2.0768</td>\n",
       "      <td>-13.6113</td>\n",
       "      <td>4.0</td>\n",
       "      <td>0 0 0 0 0 0 0 1</td>\n",
       "      <td>-5.7844</td>\n",
       "      <td>NaN</td>\n",
       "      <td>NaN</td>\n",
       "      <td>NaN</td>\n",
       "      <td>NaN</td>\n",
       "      <td>-11.9232</td>\n",
       "      <td>NaN</td>\n",
       "      <td>NaN</td>\n",
       "      <td>-14.5799</td>\n",
       "      <td>NaN</td>\n",
       "      <td>8.2225</td>\n",
       "      <td>NaN</td>\n",
       "      <td>NaN</td>\n",
       "      <td>4.9756</td>\n",
       "      <td>NaN</td>\n",
       "      <td>4.8996</td>\n",
       "      <td>NaN</td>\n",
       "      <td>NaN</td>\n",
       "      <td>-10.1081</td>\n",
       "      <td>NaN</td>\n",
       "      <td>3.3805</td>\n",
       "      <td>NaN</td>\n",
       "      <td>NaN</td>\n",
       "      <td>-5.7844</td>\n",
       "      <td>NaN</td>\n",
       "      <td>NaN</td>\n",
       "      <td>QC'd by ACC;;;;</td>\n",
       "    </tr>\n",
       "    <tr>\n",
       "      <th>4</th>\n",
       "      <td>5</td>\n",
       "      <td>144206327</td>\n",
       "      <td>2449.0</td>\n",
       "      <td>CC1=C(C(=O)C(=C(C1=O)C)C(CCCCCC(=O)O)C2=CC=CC=...</td>\n",
       "      <td>Inconclusive</td>\n",
       "      <td>10</td>\n",
       "      <td>http://assay.nih.gov/htsws/rest/display/dd-tdp...</td>\n",
       "      <td>NaN</td>\n",
       "      <td>Inhibitor</td>\n",
       "      <td>26.6086</td>\n",
       "      <td>77.9682</td>\n",
       "      <td>NaN</td>\n",
       "      <td>10.0</td>\n",
       "      <td>Single point of activity</td>\n",
       "      <td>-4.575</td>\n",
       "      <td>3.5117</td>\n",
       "      <td>0.9609</td>\n",
       "      <td>-82.1111</td>\n",
       "      <td>-4.1429</td>\n",
       "      <td>-3.0</td>\n",
       "      <td>0 0 0 0 0 0 0 0</td>\n",
       "      <td>-72.3569</td>\n",
       "      <td>NaN</td>\n",
       "      <td>NaN</td>\n",
       "      <td>NaN</td>\n",
       "      <td>NaN</td>\n",
       "      <td>-10.6429</td>\n",
       "      <td>NaN</td>\n",
       "      <td>NaN</td>\n",
       "      <td>-2.5661</td>\n",
       "      <td>NaN</td>\n",
       "      <td>-11.5870</td>\n",
       "      <td>NaN</td>\n",
       "      <td>NaN</td>\n",
       "      <td>-4.3838</td>\n",
       "      <td>NaN</td>\n",
       "      <td>1.2149</td>\n",
       "      <td>NaN</td>\n",
       "      <td>NaN</td>\n",
       "      <td>1.7567</td>\n",
       "      <td>NaN</td>\n",
       "      <td>-5.8883</td>\n",
       "      <td>NaN</td>\n",
       "      <td>NaN</td>\n",
       "      <td>-72.3569</td>\n",
       "      <td>NaN</td>\n",
       "      <td>NaN</td>\n",
       "      <td>QC'd by ACC;;;;</td>\n",
       "    </tr>\n",
       "  </tbody>\n",
       "</table>\n",
       "</div>"
      ],
      "text/plain": [
       "   PUBCHEM_RESULT_TAG  PUBCHEM_SID  PUBCHEM_CID  \\\n",
       "0                   1    109967258   50897788.0   \n",
       "1                   2    144206324      65628.0   \n",
       "2                   3    144206325      14708.0   \n",
       "3                   4    144206326    3085168.0   \n",
       "4                   5    144206327       2449.0   \n",
       "\n",
       "                       PUBCHEM_EXT_DATASOURCE_SMILES PUBCHEM_ACTIVITY_OUTCOME  \\\n",
       "0            CNCC1=NC2=C(C=C(C=C2)Cl)C(=N1)C3=CC=CN3                   Active   \n",
       "1         CN1C2=C(C=C(C=C2)N(CCCl)CCCl)N=C1CCCC(=O)O                   Active   \n",
       "2  C[C@]12CC[C@H]3[C@H]([C@@H]1CC[C@]2(C)O)CC[C@@...             Inconclusive   \n",
       "3  CC1=NC=C(C(=N1)N)CN(C=O)/C(=C(\\CCO)/SS/C(=C(/C...                 Inactive   \n",
       "4  CC1=C(C(=O)C(=C(C1=O)C)C(CCCCCC(=O)O)C2=CC=CC=...             Inconclusive   \n",
       "\n",
       "   PUBCHEM_ACTIVITY_SCORE                               PUBCHEM_ACTIVITY_URL  \\\n",
       "0                      42  http://assay.nih.gov/htsws/rest/display/dd-tdp...   \n",
       "1                      41  http://assay.nih.gov/htsws/rest/display/dd-tdp...   \n",
       "2                      10  http://assay.nih.gov/htsws/rest/display/dd-tdp...   \n",
       "3                       0  http://assay.nih.gov/htsws/rest/display/dd-tdp...   \n",
       "4                      10  http://assay.nih.gov/htsws/rest/display/dd-tdp...   \n",
       "\n",
       "   PUBCHEM_ASSAYDATA_COMMENT  Phenotype  Potency  Efficacy  Analysis Comment  \\\n",
       "0                        NaN  Inhibitor  14.1254  136.5470               NaN   \n",
       "1                        NaN  Inhibitor  18.8375   82.1468               NaN   \n",
       "2                        NaN  Inhibitor  21.1360   39.2903               NaN   \n",
       "3                        NaN   Inactive      NaN       NaN               NaN   \n",
       "4                        NaN  Inhibitor  26.6086   77.9682               NaN   \n",
       "\n",
       "   Activity_Score             Curve_Description  Fit_LogAC50  Fit_HillSlope  \\\n",
       "0            42.0  Partial curve; high efficacy       -4.850         1.0100   \n",
       "1            41.0  Partial curve; high efficacy       -4.725         1.9887   \n",
       "2            10.0      Single point of activity       -4.675         2.7868   \n",
       "3             0.0                           NaN          NaN         4.9549   \n",
       "4            10.0      Single point of activity       -4.575         3.5117   \n",
       "\n",
       "   Fit_R2  Fit_InfiniteActivity  Fit_ZeroActivity  Fit_CurveClass  \\\n",
       "0  0.9948             -134.4880            2.0597            -2.1   \n",
       "1  0.9829              -82.6097           -0.4629            -2.1   \n",
       "2  0.9357              -43.4549           -4.1646            -3.0   \n",
       "3  0.6177                2.0768          -13.6113             4.0   \n",
       "4  0.9609              -82.1111           -4.1429            -3.0   \n",
       "\n",
       "   Excluded_Points  Max_Response  Activity at 0.0000295000 uM  \\\n",
       "0        0 0 0 0 0     -106.3110                          NaN   \n",
       "1  0 0 0 0 0 0 0 0      -70.9545                          NaN   \n",
       "2  0 0 0 0 0 0 0 0      -39.2270                          NaN   \n",
       "3  0 0 0 0 0 0 0 1       -5.7844                          NaN   \n",
       "4  0 0 0 0 0 0 0 0      -72.3569                          NaN   \n",
       "\n",
       "   Activity at 0.0000590000 uM  Activity at 0.0001503265 uM  \\\n",
       "0                          NaN                          NaN   \n",
       "1                          NaN                          NaN   \n",
       "2                          NaN                          NaN   \n",
       "3                          NaN                          NaN   \n",
       "4                          NaN                          NaN   \n",
       "\n",
       "   Activity at 0.0002712146 uM  Activity at 0.0005895491 uM  \\\n",
       "0                          NaN                          NaN   \n",
       "1                          NaN                      -3.2819   \n",
       "2                          NaN                      -4.1400   \n",
       "3                          NaN                     -11.9232   \n",
       "4                          NaN                     -10.6429   \n",
       "\n",
       "   Activity at 0.00117 uM  Activity at 0.00179 uM  Activity at 0.00299 uM  \\\n",
       "0                     NaN                     NaN                     NaN   \n",
       "1                     NaN                     NaN                  1.1641   \n",
       "2                     NaN                     NaN                 -5.7369   \n",
       "3                     NaN                     NaN                -14.5799   \n",
       "4                     NaN                     NaN                 -2.5661   \n",
       "\n",
       "   Activity at 0.00672 uM  Activity at 0.014 uM  Activity at 0.026 uM  \\\n",
       "0                     NaN                2.0597                   NaN   \n",
       "1                     NaN                5.8554                   NaN   \n",
       "2                     NaN                0.1681                   NaN   \n",
       "3                     NaN                8.2225                   NaN   \n",
       "4                     NaN              -11.5870                   NaN   \n",
       "\n",
       "   Activity at 0.040 uM  Activity at 0.074 uM  Activity at 0.167 uM  \\\n",
       "0                   NaN                   NaN                   NaN   \n",
       "1                   NaN               -1.8326                   NaN   \n",
       "2                   NaN               -8.2838                   NaN   \n",
       "3                   NaN                4.9756                   NaN   \n",
       "4                   NaN               -4.3838                   NaN   \n",
       "\n",
       "   Activity at 0.363 uM  Activity at 0.628 uM  Activity at 0.975 uM  \\\n",
       "0                0.5007                   NaN                   NaN   \n",
       "1               -4.9853                   NaN                   NaN   \n",
       "2               -6.9258                   NaN                   NaN   \n",
       "3                4.8996                   NaN                   NaN   \n",
       "4                1.2149                   NaN                   NaN   \n",
       "\n",
       "   Activity at 1.849 uM  Activity at 4.119 uM  Activity at 9.037 uM  \\\n",
       "0              -17.4373                   NaN              -48.5138   \n",
       "1                0.0798                   NaN              -16.3921   \n",
       "2                1.0188                   NaN               -7.8647   \n",
       "3              -10.1081                   NaN                3.3805   \n",
       "4                1.7567                   NaN               -5.8883   \n",
       "\n",
       "   Activity at 15.83 uM  Activity at 21.08 uM  Activity at 46.23 uM  \\\n",
       "0                   NaN                   NaN             -106.3110   \n",
       "1                   NaN                   NaN              -70.9545   \n",
       "2                   NaN                   NaN              -39.2270   \n",
       "3                   NaN                   NaN               -5.7844   \n",
       "4                   NaN                   NaN              -72.3569   \n",
       "\n",
       "   Activity at 92.54 uM  Activity at 165.6 uM                Compound QC;;;;  \n",
       "0                   NaN                   NaN  QC'd by AA Pharmaceuticals;;;  \n",
       "1                   NaN                   NaN                 QC'd by ACC;;;  \n",
       "2                   NaN                   NaN                QC'd by ACC;;;;  \n",
       "3                   NaN                   NaN                QC'd by ACC;;;;  \n",
       "4                   NaN                   NaN                QC'd by ACC;;;;  "
      ]
     },
     "execution_count": 1,
     "metadata": {},
     "output_type": "execute_result"
    }
   ],
   "source": [
    "import pandas as pd \n",
    "\n",
    "# load the PubChem AID 686978 bioassy dataset\n",
    "# https://pubchem.ncbi.nlm.nih.gov/bioassay/686978\n",
    "# df = pd.read_csv('AID_686978_datatable.csv', sep=';', low_memory=False, on_bad_lines='skip')\n",
    "df = pd.read_csv('AID_686978_data.csv', low_memory=False, on_bad_lines='skip')\n",
    "\n",
    "# To avoid truncation of some columns during data frame display\n",
    "pd.set_option('display.max_columns', None) \n",
    "\n",
    "# Display the data frame\n",
    "print('Shape of the data frame: ', df.shape)\n",
    "df.head()"
   ]
  },
  {
   "cell_type": "code",
   "execution_count": 2,
   "id": "71e6f3b5-70bd-4164-98b0-439aed626be9",
   "metadata": {},
   "outputs": [
    {
     "name": "stdout",
     "output_type": "stream",
     "text": [
      "<class 'pandas.core.frame.DataFrame'>\n",
      "RangeIndex: 424003 entries, 0 to 424002\n",
      "Data columns (total 48 columns):\n",
      " #   Column                         Non-Null Count   Dtype  \n",
      "---  ------                         --------------   -----  \n",
      " 0   PUBCHEM_RESULT_TAG             424003 non-null  int64  \n",
      " 1   PUBCHEM_SID                    424003 non-null  int64  \n",
      " 2   PUBCHEM_CID                    423975 non-null  float64\n",
      " 3   PUBCHEM_EXT_DATASOURCE_SMILES  423975 non-null  object \n",
      " 4   PUBCHEM_ACTIVITY_OUTCOME       424003 non-null  object \n",
      " 5   PUBCHEM_ACTIVITY_SCORE         424003 non-null  int64  \n",
      " 6   PUBCHEM_ACTIVITY_URL           424003 non-null  object \n",
      " 7   PUBCHEM_ASSAYDATA_COMMENT      0 non-null       float64\n",
      " 8   Phenotype                      424003 non-null  object \n",
      " 9   Potency                        175189 non-null  float64\n",
      " 10  Efficacy                       175189 non-null  float64\n",
      " 11  Analysis Comment               0 non-null       float64\n",
      " 12  Activity_Score                 423178 non-null  float64\n",
      " 13  Curve_Description              181619 non-null  object \n",
      " 14  Fit_LogAC50                    201416 non-null  float64\n",
      " 15  Fit_HillSlope                  402791 non-null  float64\n",
      " 16  Fit_R2                         402791 non-null  float64\n",
      " 17  Fit_InfiniteActivity           402791 non-null  float64\n",
      " 18  Fit_ZeroActivity               402791 non-null  float64\n",
      " 19  Fit_CurveClass                 424003 non-null  float64\n",
      " 20  Excluded_Points                402791 non-null  object \n",
      " 21  Max_Response                   424003 non-null  float64\n",
      " 22  Activity at 0.0000295000 uM    17 non-null      float64\n",
      " 23  Activity at 0.0000590000 uM    1 non-null       float64\n",
      " 24  Activity at 0.0001503265 uM    20 non-null      float64\n",
      " 25  Activity at 0.0002712146 uM    524 non-null     float64\n",
      " 26  Activity at 0.0005895491 uM    4330 non-null    float64\n",
      " 27  Activity at 0.00117 uM         2007 non-null    float64\n",
      " 28  Activity at 0.00179 uM         221 non-null     float64\n",
      " 29  Activity at 0.00299 uM         413492 non-null  float64\n",
      " 30  Activity at 0.00672 uM         2214 non-null    float64\n",
      " 31  Activity at 0.014 uM           18879 non-null   float64\n",
      " 32  Activity at 0.026 uM           369 non-null     float64\n",
      " 33  Activity at 0.040 uM           1978 non-null    float64\n",
      " 34  Activity at 0.074 uM           17897 non-null   float64\n",
      " 35  Activity at 0.167 uM           2223 non-null    float64\n",
      " 36  Activity at 0.363 uM           421561 non-null  float64\n",
      " 37  Activity at 0.628 uM           362 non-null     float64\n",
      " 38  Activity at 0.975 uM           1989 non-null    float64\n",
      " 39  Activity at 1.849 uM           420261 non-null  float64\n",
      " 40  Activity at 4.119 uM           2247 non-null    float64\n",
      " 41  Activity at 9.037 uM           420223 non-null  float64\n",
      " 42  Activity at 15.83 uM           339 non-null     float64\n",
      " 43  Activity at 21.08 uM           1868 non-null    float64\n",
      " 44  Activity at 46.23 uM           422907 non-null  float64\n",
      " 45  Activity at 92.54 uM           286 non-null     float64\n",
      " 46  Activity at 165.6 uM           13 non-null      float64\n",
      " 47  Compound QC;;;;                424003 non-null  object \n",
      "dtypes: float64(38), int64(3), object(7)\n",
      "memory usage: 155.3+ MB\n"
     ]
    }
   ],
   "source": [
    "df.info()"
   ]
  },
  {
   "cell_type": "code",
   "execution_count": 3,
   "id": "cea09354-94b6-45a4-a2d0-6fa810d86a26",
   "metadata": {},
   "outputs": [
    {
     "data": {
      "text/plain": [
       "(423975, 48)"
      ]
     },
     "execution_count": 3,
     "metadata": {},
     "output_type": "execute_result"
    }
   ],
   "source": [
    "# Remive missing values\n",
    "df = df[df['PUBCHEM_CID'].notna()]\n",
    "df.shape"
   ]
  },
  {
   "cell_type": "code",
   "execution_count": 4,
   "id": "dd9b495c-dd4b-4c61-8755-386c0f7cacd1",
   "metadata": {},
   "outputs": [
    {
     "data": {
      "text/plain": [
       "(410564, 48)"
      ]
     },
     "execution_count": 4,
     "metadata": {},
     "output_type": "execute_result"
    }
   ],
   "source": [
    "# Remove duplicates without keeping a sample ofthem and reset the indexes \n",
    "df = df.drop_duplicates(subset='PUBCHEM_CID', keep=False).reset_index(drop=True)\n",
    "df.shape"
   ]
  },
  {
   "cell_type": "code",
   "execution_count": 5,
   "id": "7db5e6c6-c93d-4587-b6b3-315a3c1852c7",
   "metadata": {},
   "outputs": [],
   "source": [
    "# Turn CID float data type into integer\n",
    "df['PUBCHEM_CID'] = df['PUBCHEM_CID'].astype('int64') "
   ]
  },
  {
   "cell_type": "code",
   "execution_count": 6,
   "id": "d80f60b9-0463-4dfc-961b-8dbf76ad0dac",
   "metadata": {},
   "outputs": [
    {
     "data": {
      "text/plain": [
       "(410564, 3)"
      ]
     },
     "execution_count": 6,
     "metadata": {},
     "output_type": "execute_result"
    }
   ],
   "source": [
    "# Filter inhibitors \n",
    "df = df[['PUBCHEM_CID',\n",
    "         'PUBCHEM_SID',\n",
    "         'PUBCHEM_ACTIVITY_OUTCOME']] \n",
    "df.shape # 646675"
   ]
  },
  {
   "cell_type": "code",
   "execution_count": 7,
   "id": "732c994f-ea48-4579-a33d-eb0a54231445",
   "metadata": {},
   "outputs": [
    {
     "name": "stdout",
     "output_type": "stream",
     "text": [
      "<class 'pandas.core.frame.DataFrame'>\n",
      "RangeIndex: 410564 entries, 0 to 410563\n",
      "Data columns (total 3 columns):\n",
      " #   Column                    Non-Null Count   Dtype \n",
      "---  ------                    --------------   ----- \n",
      " 0   PUBCHEM_CID               410564 non-null  int64 \n",
      " 1   PUBCHEM_SID               410564 non-null  int64 \n",
      " 2   PUBCHEM_ACTIVITY_OUTCOME  410564 non-null  object\n",
      "dtypes: int64(2), object(1)\n",
      "memory usage: 9.4+ MB\n"
     ]
    }
   ],
   "source": [
    "df.info()"
   ]
  },
  {
   "cell_type": "markdown",
   "id": "50d49afb-f776-4dd3-b5bc-f90124cf9507",
   "metadata": {},
   "source": [
    "[<a href=\"#content\">Back to top</a>]"
   ]
  },
  {
   "cell_type": "markdown",
   "id": "464374f5-3a0f-4beb-aaaa-85d49b376fb5",
   "metadata": {},
   "source": [
    "## Create a data frame with CIDs and targets <a name=\"2\"></a>"
   ]
  },
  {
   "cell_type": "code",
   "execution_count": 8,
   "id": "22eb165d-558c-45ab-a6ab-9fc084858f1c",
   "metadata": {},
   "outputs": [
    {
     "data": {
      "text/plain": [
       "array(['Active', 'Inconclusive', 'Inactive'], dtype=object)"
      ]
     },
     "execution_count": 8,
     "metadata": {},
     "output_type": "execute_result"
    }
   ],
   "source": [
    "df['PUBCHEM_ACTIVITY_OUTCOME'] = df['PUBCHEM_ACTIVITY_OUTCOME'].astype(str) \n",
    "# Get unique values from 'column1'\n",
    "unique_values = df['PUBCHEM_ACTIVITY_OUTCOME'].unique()\n",
    "unique_values "
   ]
  },
  {
   "cell_type": "code",
   "execution_count": 9,
   "id": "1c09ddea-4a56-4081-86df-267095aff749",
   "metadata": {
    "scrolled": true
   },
   "outputs": [
    {
     "name": "stdout",
     "output_type": "stream",
     "text": [
      "Shape of the data frame:  (410564, 3)\n"
     ]
    },
    {
     "data": {
      "text/html": [
       "<div>\n",
       "<style scoped>\n",
       "    .dataframe tbody tr th:only-of-type {\n",
       "        vertical-align: middle;\n",
       "    }\n",
       "\n",
       "    .dataframe tbody tr th {\n",
       "        vertical-align: top;\n",
       "    }\n",
       "\n",
       "    .dataframe thead th {\n",
       "        text-align: right;\n",
       "    }\n",
       "</style>\n",
       "<table border=\"1\" class=\"dataframe\">\n",
       "  <thead>\n",
       "    <tr style=\"text-align: right;\">\n",
       "      <th></th>\n",
       "      <th>CID</th>\n",
       "      <th>SID</th>\n",
       "      <th>target</th>\n",
       "    </tr>\n",
       "  </thead>\n",
       "  <tbody>\n",
       "    <tr>\n",
       "      <th>0</th>\n",
       "      <td>50897788</td>\n",
       "      <td>109967258</td>\n",
       "      <td>1</td>\n",
       "    </tr>\n",
       "    <tr>\n",
       "      <th>1</th>\n",
       "      <td>65628</td>\n",
       "      <td>144206324</td>\n",
       "      <td>1</td>\n",
       "    </tr>\n",
       "    <tr>\n",
       "      <th>2</th>\n",
       "      <td>14708</td>\n",
       "      <td>144206325</td>\n",
       "      <td>2</td>\n",
       "    </tr>\n",
       "    <tr>\n",
       "      <th>3</th>\n",
       "      <td>3085168</td>\n",
       "      <td>144206326</td>\n",
       "      <td>0</td>\n",
       "    </tr>\n",
       "    <tr>\n",
       "      <th>4</th>\n",
       "      <td>2449</td>\n",
       "      <td>144206327</td>\n",
       "      <td>2</td>\n",
       "    </tr>\n",
       "  </tbody>\n",
       "</table>\n",
       "</div>"
      ],
      "text/plain": [
       "        CID        SID target\n",
       "0  50897788  109967258      1\n",
       "1     65628  144206324      1\n",
       "2     14708  144206325      2\n",
       "3   3085168  144206326      0\n",
       "4      2449  144206327      2"
      ]
     },
     "execution_count": 9,
     "metadata": {},
     "output_type": "execute_result"
    }
   ],
   "source": [
    "df.rename(columns={'PUBCHEM_CID':'CID',\n",
    "                   'PUBCHEM_SID':'SID',\n",
    "                   'PUBCHEM_ACTIVITY_OUTCOME':'target'}, inplace=True)\n",
    "\n",
    "# Set the option to explicitly handle downcasting\n",
    "pd.set_option('future.no_silent_downcasting', True)\n",
    "\n",
    "# Create a mapping dictionary to replace string values with numeric values\n",
    "mapping = {'Active': 1, 'Inactive': 0, 'Inconclusive':2}\n",
    "\n",
    "# Replace string values with numeric values using the mapping dictionary\n",
    "df['target'] = df['target'].replace(mapping)\n",
    "\n",
    "# Display the data frame\n",
    "print('Shape of the data frame: ', df.shape)\n",
    "df.head()"
   ]
  },
  {
   "cell_type": "code",
   "execution_count": 10,
   "id": "c38a04fa-4156-4971-af7f-7f7ae6c99d65",
   "metadata": {},
   "outputs": [],
   "source": [
    "# Turn CID float data type into integer\n",
    "df['target'] = pd.to_numeric(df['target']) "
   ]
  },
  {
   "cell_type": "code",
   "execution_count": 11,
   "id": "7953101b-96a7-47c0-a697-e26e7a787113",
   "metadata": {},
   "outputs": [
    {
     "data": {
      "text/plain": [
       "target\n",
       "0    236226\n",
       "2    112867\n",
       "1     61471\n",
       "Name: count, dtype: int64"
      ]
     },
     "execution_count": 11,
     "metadata": {},
     "output_type": "execute_result"
    }
   ],
   "source": [
    "df['target'].value_counts()"
   ]
  },
  {
   "cell_type": "code",
   "execution_count": 12,
   "id": "ef23cc9d-76b2-417f-8dc5-67dbf3c6bf00",
   "metadata": {},
   "outputs": [
    {
     "data": {
      "text/plain": [
       "(61471, 3)"
      ]
     },
     "execution_count": 12,
     "metadata": {},
     "output_type": "execute_result"
    }
   ],
   "source": [
    "df_1 = df[df['target']==1]\n",
    "df_1.shape"
   ]
  },
  {
   "cell_type": "markdown",
   "id": "0d36615f-0c28-4f6f-aa58-40c7bf0c06bc",
   "metadata": {},
   "source": [
    "[<a href=\"#content\">Back to top</a>]"
   ]
  },
  {
   "cell_type": "markdown",
   "id": "0d429725-306e-47a0-b48d-359550c8d1dc",
   "metadata": {},
   "source": [
    "## Reduce the inactive compounds <a name=\"3\"></a>"
   ]
  },
  {
   "cell_type": "code",
   "execution_count": 13,
   "id": "09b6482e-5692-456b-9876-9d0440dfb802",
   "metadata": {},
   "outputs": [
    {
     "name": "stdout",
     "output_type": "stream",
     "text": [
      "Shape of df_0:  (236226, 3)\n"
     ]
    }
   ],
   "source": [
    "# CSeparate target 0 compounds\n",
    "df_0 = df[df['target']==0]\n",
    "\n",
    "# Display the data frame\n",
    "print('Shape of df_0: ', df_0.shape)"
   ]
  },
  {
   "cell_type": "code",
   "execution_count": 14,
   "id": "52247354-5d79-4191-96c9-b58c4829fd23",
   "metadata": {},
   "outputs": [
    {
     "data": {
      "text/plain": [
       "(78742, 3)"
      ]
     },
     "execution_count": 14,
     "metadata": {},
     "output_type": "execute_result"
    }
   ],
   "source": [
    "# Shuffle the resulting data set\n",
    "df_0 = df_0.sample(\n",
    "    frac = 1,        # Return entire dataframe\n",
    "    random_state=1   # Make result reproducible\n",
    "    ).reset_index(drop=True)\n",
    "\n",
    "# Extract every nth row     \n",
    "n = 3\n",
    "df_0 = df_0[df_0.index % n == 0] \n",
    "df_0.shape"
   ]
  },
  {
   "cell_type": "code",
   "execution_count": 15,
   "id": "264b8006-c3ed-46ef-a856-0e09aff3a5c5",
   "metadata": {},
   "outputs": [],
   "source": [
    "# Concatenate target 1 and 0 compounds \n",
    "df = pd.concat([df_0, df_1])"
   ]
  },
  {
   "cell_type": "code",
   "execution_count": 16,
   "id": "e234190f-43ab-45fd-b143-a86f4c722cb3",
   "metadata": {},
   "outputs": [
    {
     "data": {
      "text/plain": [
       "target\n",
       "0    78742\n",
       "1    61471\n",
       "Name: count, dtype: int64"
      ]
     },
     "execution_count": 16,
     "metadata": {},
     "output_type": "execute_result"
    }
   ],
   "source": [
    "# Count each of the binary targets\n",
    "df['target'].value_counts()"
   ]
  },
  {
   "cell_type": "code",
   "execution_count": 17,
   "id": "f6e4f71b-9466-402e-8e87-a1f08323b196",
   "metadata": {},
   "outputs": [
    {
     "name": "stdout",
     "output_type": "stream",
     "text": [
      "<class 'pandas.core.frame.DataFrame'>\n",
      "Index: 140213 entries, 0 to 410562\n",
      "Data columns (total 3 columns):\n",
      " #   Column  Non-Null Count   Dtype\n",
      "---  ------  --------------   -----\n",
      " 0   CID     140213 non-null  int64\n",
      " 1   SID     140213 non-null  int64\n",
      " 2   target  140213 non-null  int64\n",
      "dtypes: int64(3)\n",
      "memory usage: 4.3 MB\n"
     ]
    }
   ],
   "source": [
    "df.info()"
   ]
  },
  {
   "cell_type": "code",
   "execution_count": 18,
   "id": "8b76c721-1302-42da-b38a-7944a1f6722f",
   "metadata": {},
   "outputs": [
    {
     "name": "stdout",
     "output_type": "stream",
     "text": [
      "Shape of df:  (140213, 3)\n"
     ]
    },
    {
     "data": {
      "text/html": [
       "<div>\n",
       "<style scoped>\n",
       "    .dataframe tbody tr th:only-of-type {\n",
       "        vertical-align: middle;\n",
       "    }\n",
       "\n",
       "    .dataframe tbody tr th {\n",
       "        vertical-align: top;\n",
       "    }\n",
       "\n",
       "    .dataframe thead th {\n",
       "        text-align: right;\n",
       "    }\n",
       "</style>\n",
       "<table border=\"1\" class=\"dataframe\">\n",
       "  <thead>\n",
       "    <tr style=\"text-align: right;\">\n",
       "      <th></th>\n",
       "      <th>CID</th>\n",
       "      <th>SID</th>\n",
       "      <th>target</th>\n",
       "    </tr>\n",
       "  </thead>\n",
       "  <tbody>\n",
       "    <tr>\n",
       "      <th>0</th>\n",
       "      <td>7936857</td>\n",
       "      <td>49828105</td>\n",
       "      <td>0</td>\n",
       "    </tr>\n",
       "    <tr>\n",
       "      <th>1</th>\n",
       "      <td>3201532</td>\n",
       "      <td>17431515</td>\n",
       "      <td>1</td>\n",
       "    </tr>\n",
       "    <tr>\n",
       "      <th>2</th>\n",
       "      <td>53299818</td>\n",
       "      <td>124753804</td>\n",
       "      <td>1</td>\n",
       "    </tr>\n",
       "    <tr>\n",
       "      <th>3</th>\n",
       "      <td>16010787</td>\n",
       "      <td>24387343</td>\n",
       "      <td>1</td>\n",
       "    </tr>\n",
       "    <tr>\n",
       "      <th>4</th>\n",
       "      <td>51360167</td>\n",
       "      <td>121284805</td>\n",
       "      <td>0</td>\n",
       "    </tr>\n",
       "  </tbody>\n",
       "</table>\n",
       "</div>"
      ],
      "text/plain": [
       "        CID        SID  target\n",
       "0   7936857   49828105       0\n",
       "1   3201532   17431515       1\n",
       "2  53299818  124753804       1\n",
       "3  16010787   24387343       1\n",
       "4  51360167  121284805       0"
      ]
     },
     "execution_count": 18,
     "metadata": {},
     "output_type": "execute_result"
    }
   ],
   "source": [
    "# Shuffle the resulting data set\n",
    "df = df.sample(\n",
    "    frac = 1,        # Return entire dataframe\n",
    "    random_state=1   # Make result reproducible\n",
    "    ).reset_index(drop=True)\n",
    "\n",
    "# Display the data frame\n",
    "print('Shape of df: ', df.shape)\n",
    "df.head()"
   ]
  },
  {
   "cell_type": "markdown",
   "id": "0dbee87c-acc2-4afb-bb44-3594024cec9b",
   "metadata": {},
   "source": [
    "[<a href=\"#content\">Back to top</a>]"
   ]
  },
  {
   "cell_type": "markdown",
   "id": "ad3f599f-d02e-4692-afdb-23d76ad34924",
   "metadata": {},
   "source": [
    "## Generate a csv file with CIDs and targets for IUPAC names dowloading  <a name=\"4\"></a>"
   ]
  },
  {
   "cell_type": "code",
   "execution_count": 20,
   "id": "1b078d4f-ac4b-4652-82e0-727cedbc6cab",
   "metadata": {},
   "outputs": [],
   "source": [
    "df.to_csv('CIDs_targets_TDP1.csv') "
   ]
  },
  {
   "cell_type": "markdown",
   "id": "5aaac897-6524-461a-96f0-c8b075c8b16b",
   "metadata": {},
   "source": [
    "[<a href=\"#content\">Back to top</a>]"
   ]
  }
 ],
 "metadata": {
  "kernelspec": {
   "display_name": "Python 3 (ipykernel)",
   "language": "python",
   "name": "python3"
  },
  "language_info": {
   "codemirror_mode": {
    "name": "ipython",
    "version": 3
   },
   "file_extension": ".py",
   "mimetype": "text/x-python",
   "name": "python",
   "nbconvert_exporter": "python",
   "pygments_lexer": "ipython3",
   "version": "3.12.2"
  }
 },
 "nbformat": 4,
 "nbformat_minor": 5
}
