{
 "cells": [
  {
   "cell_type": "markdown",
   "id": "18f6f4f5-a126-4c4f-950b-8cc6ffa916b6",
   "metadata": {},
   "source": [
    "# CID_SID ML model for TDP1 inhibitors\n"
   ]
  },
  {
   "cell_type": "markdown",
   "id": "1dcf9d82-657a-4656-b3f3-c8905d770694",
   "metadata": {},
   "source": [
    "### Content   <a name=\"content\"></a>"
   ]
  },
  {
   "cell_type": "markdown",
   "id": "b3551b8d-c497-4ba0-b627-ebcdd8e64a99",
   "metadata": {},
   "source": [
    "1. [Load and analyse PubChem BioAssay data](#1)\n",
    "2. [Create a data frame with CIDs and targets](#2)\n",
    "3. [Reduce the inactive compounds](#3)\n",
    "4. [Ensure equal number of both targets](#4)\n",
    "5. [Balancing](#5)\n",
    "6. [Machine Learning](#6)\n",
    "7. [Cross-validation](#7)\n",
    "8. [Scrutinize for overfitting](#8)\n",
    "9. [Hyperparameter tuning with Optuna](#9)\n",
    "10. [Confusion Matrix and Classification report](#10)"
   ]
  },
  {
   "cell_type": "markdown",
   "id": "4b14090e-b376-4ffb-86be-653a06cb09e0",
   "metadata": {},
   "source": [
    "### Load and analyse PubChem BioAssay data <a name=\"1\"></a>"
   ]
  },
  {
   "cell_type": "code",
   "execution_count": 1,
   "id": "e72d2861-3f2d-4804-803e-1c60ad3dbaaa",
   "metadata": {
    "scrolled": true
   },
   "outputs": [
    {
     "name": "stdout",
     "output_type": "stream",
     "text": [
      "Shape of the data frame:  (424003, 48)\n"
     ]
    },
    {
     "data": {
      "text/html": [
       "<div>\n",
       "<style scoped>\n",
       "    .dataframe tbody tr th:only-of-type {\n",
       "        vertical-align: middle;\n",
       "    }\n",
       "\n",
       "    .dataframe tbody tr th {\n",
       "        vertical-align: top;\n",
       "    }\n",
       "\n",
       "    .dataframe thead th {\n",
       "        text-align: right;\n",
       "    }\n",
       "</style>\n",
       "<table border=\"1\" class=\"dataframe\">\n",
       "  <thead>\n",
       "    <tr style=\"text-align: right;\">\n",
       "      <th></th>\n",
       "      <th>PUBCHEM_RESULT_TAG</th>\n",
       "      <th>PUBCHEM_SID</th>\n",
       "      <th>PUBCHEM_CID</th>\n",
       "      <th>PUBCHEM_EXT_DATASOURCE_SMILES</th>\n",
       "      <th>PUBCHEM_ACTIVITY_OUTCOME</th>\n",
       "      <th>PUBCHEM_ACTIVITY_SCORE</th>\n",
       "      <th>PUBCHEM_ACTIVITY_URL</th>\n",
       "      <th>PUBCHEM_ASSAYDATA_COMMENT</th>\n",
       "      <th>Phenotype</th>\n",
       "      <th>Potency</th>\n",
       "      <th>Efficacy</th>\n",
       "      <th>Analysis Comment</th>\n",
       "      <th>Activity_Score</th>\n",
       "      <th>Curve_Description</th>\n",
       "      <th>Fit_LogAC50</th>\n",
       "      <th>Fit_HillSlope</th>\n",
       "      <th>Fit_R2</th>\n",
       "      <th>Fit_InfiniteActivity</th>\n",
       "      <th>Fit_ZeroActivity</th>\n",
       "      <th>Fit_CurveClass</th>\n",
       "      <th>Excluded_Points</th>\n",
       "      <th>Max_Response</th>\n",
       "      <th>Activity at 0.0000295000 uM</th>\n",
       "      <th>Activity at 0.0000590000 uM</th>\n",
       "      <th>Activity at 0.0001503265 uM</th>\n",
       "      <th>Activity at 0.0002712146 uM</th>\n",
       "      <th>Activity at 0.0005895491 uM</th>\n",
       "      <th>Activity at 0.00117 uM</th>\n",
       "      <th>Activity at 0.00179 uM</th>\n",
       "      <th>Activity at 0.00299 uM</th>\n",
       "      <th>Activity at 0.00672 uM</th>\n",
       "      <th>Activity at 0.014 uM</th>\n",
       "      <th>Activity at 0.026 uM</th>\n",
       "      <th>Activity at 0.040 uM</th>\n",
       "      <th>Activity at 0.074 uM</th>\n",
       "      <th>Activity at 0.167 uM</th>\n",
       "      <th>Activity at 0.363 uM</th>\n",
       "      <th>Activity at 0.628 uM</th>\n",
       "      <th>Activity at 0.975 uM</th>\n",
       "      <th>Activity at 1.849 uM</th>\n",
       "      <th>Activity at 4.119 uM</th>\n",
       "      <th>Activity at 9.037 uM</th>\n",
       "      <th>Activity at 15.83 uM</th>\n",
       "      <th>Activity at 21.08 uM</th>\n",
       "      <th>Activity at 46.23 uM</th>\n",
       "      <th>Activity at 92.54 uM</th>\n",
       "      <th>Activity at 165.6 uM</th>\n",
       "      <th>Compound QC;;;;</th>\n",
       "    </tr>\n",
       "  </thead>\n",
       "  <tbody>\n",
       "    <tr>\n",
       "      <th>0</th>\n",
       "      <td>1</td>\n",
       "      <td>109967258</td>\n",
       "      <td>50897788.0</td>\n",
       "      <td>CNCC1=NC2=C(C=C(C=C2)Cl)C(=N1)C3=CC=CN3</td>\n",
       "      <td>Active</td>\n",
       "      <td>42</td>\n",
       "      <td>http://assay.nih.gov/htsws/rest/display/dd-tdp...</td>\n",
       "      <td>NaN</td>\n",
       "      <td>Inhibitor</td>\n",
       "      <td>14.1254</td>\n",
       "      <td>136.5470</td>\n",
       "      <td>NaN</td>\n",
       "      <td>42.0</td>\n",
       "      <td>Partial curve; high efficacy</td>\n",
       "      <td>-4.850</td>\n",
       "      <td>1.0100</td>\n",
       "      <td>0.9948</td>\n",
       "      <td>-134.4880</td>\n",
       "      <td>2.0597</td>\n",
       "      <td>-2.1</td>\n",
       "      <td>0 0 0 0 0</td>\n",
       "      <td>-106.3110</td>\n",
       "      <td>NaN</td>\n",
       "      <td>NaN</td>\n",
       "      <td>NaN</td>\n",
       "      <td>NaN</td>\n",
       "      <td>NaN</td>\n",
       "      <td>NaN</td>\n",
       "      <td>NaN</td>\n",
       "      <td>NaN</td>\n",
       "      <td>NaN</td>\n",
       "      <td>2.0597</td>\n",
       "      <td>NaN</td>\n",
       "      <td>NaN</td>\n",
       "      <td>NaN</td>\n",
       "      <td>NaN</td>\n",
       "      <td>0.5007</td>\n",
       "      <td>NaN</td>\n",
       "      <td>NaN</td>\n",
       "      <td>-17.4373</td>\n",
       "      <td>NaN</td>\n",
       "      <td>-48.5138</td>\n",
       "      <td>NaN</td>\n",
       "      <td>NaN</td>\n",
       "      <td>-106.3110</td>\n",
       "      <td>NaN</td>\n",
       "      <td>NaN</td>\n",
       "      <td>QC'd by AA Pharmaceuticals;;;</td>\n",
       "    </tr>\n",
       "    <tr>\n",
       "      <th>1</th>\n",
       "      <td>2</td>\n",
       "      <td>144206324</td>\n",
       "      <td>65628.0</td>\n",
       "      <td>CN1C2=C(C=C(C=C2)N(CCCl)CCCl)N=C1CCCC(=O)O</td>\n",
       "      <td>Active</td>\n",
       "      <td>41</td>\n",
       "      <td>http://assay.nih.gov/htsws/rest/display/dd-tdp...</td>\n",
       "      <td>NaN</td>\n",
       "      <td>Inhibitor</td>\n",
       "      <td>18.8375</td>\n",
       "      <td>82.1468</td>\n",
       "      <td>NaN</td>\n",
       "      <td>41.0</td>\n",
       "      <td>Partial curve; high efficacy</td>\n",
       "      <td>-4.725</td>\n",
       "      <td>1.9887</td>\n",
       "      <td>0.9829</td>\n",
       "      <td>-82.6097</td>\n",
       "      <td>-0.4629</td>\n",
       "      <td>-2.1</td>\n",
       "      <td>0 0 0 0 0 0 0 0</td>\n",
       "      <td>-70.9545</td>\n",
       "      <td>NaN</td>\n",
       "      <td>NaN</td>\n",
       "      <td>NaN</td>\n",
       "      <td>NaN</td>\n",
       "      <td>-3.2819</td>\n",
       "      <td>NaN</td>\n",
       "      <td>NaN</td>\n",
       "      <td>1.1641</td>\n",
       "      <td>NaN</td>\n",
       "      <td>5.8554</td>\n",
       "      <td>NaN</td>\n",
       "      <td>NaN</td>\n",
       "      <td>-1.8326</td>\n",
       "      <td>NaN</td>\n",
       "      <td>-4.9853</td>\n",
       "      <td>NaN</td>\n",
       "      <td>NaN</td>\n",
       "      <td>0.0798</td>\n",
       "      <td>NaN</td>\n",
       "      <td>-16.3921</td>\n",
       "      <td>NaN</td>\n",
       "      <td>NaN</td>\n",
       "      <td>-70.9545</td>\n",
       "      <td>NaN</td>\n",
       "      <td>NaN</td>\n",
       "      <td>QC'd by ACC;;;</td>\n",
       "    </tr>\n",
       "    <tr>\n",
       "      <th>2</th>\n",
       "      <td>3</td>\n",
       "      <td>144206325</td>\n",
       "      <td>14708.0</td>\n",
       "      <td>C[C@]12CC[C@H]3[C@H]([C@@H]1CC[C@]2(C)O)CC[C@@...</td>\n",
       "      <td>Inconclusive</td>\n",
       "      <td>10</td>\n",
       "      <td>http://assay.nih.gov/htsws/rest/display/dd-tdp...</td>\n",
       "      <td>NaN</td>\n",
       "      <td>Inhibitor</td>\n",
       "      <td>21.1360</td>\n",
       "      <td>39.2903</td>\n",
       "      <td>NaN</td>\n",
       "      <td>10.0</td>\n",
       "      <td>Single point of activity</td>\n",
       "      <td>-4.675</td>\n",
       "      <td>2.7868</td>\n",
       "      <td>0.9357</td>\n",
       "      <td>-43.4549</td>\n",
       "      <td>-4.1646</td>\n",
       "      <td>-3.0</td>\n",
       "      <td>0 0 0 0 0 0 0 0</td>\n",
       "      <td>-39.2270</td>\n",
       "      <td>NaN</td>\n",
       "      <td>NaN</td>\n",
       "      <td>NaN</td>\n",
       "      <td>NaN</td>\n",
       "      <td>-4.1400</td>\n",
       "      <td>NaN</td>\n",
       "      <td>NaN</td>\n",
       "      <td>-5.7369</td>\n",
       "      <td>NaN</td>\n",
       "      <td>0.1681</td>\n",
       "      <td>NaN</td>\n",
       "      <td>NaN</td>\n",
       "      <td>-8.2838</td>\n",
       "      <td>NaN</td>\n",
       "      <td>-6.9258</td>\n",
       "      <td>NaN</td>\n",
       "      <td>NaN</td>\n",
       "      <td>1.0188</td>\n",
       "      <td>NaN</td>\n",
       "      <td>-7.8647</td>\n",
       "      <td>NaN</td>\n",
       "      <td>NaN</td>\n",
       "      <td>-39.2270</td>\n",
       "      <td>NaN</td>\n",
       "      <td>NaN</td>\n",
       "      <td>QC'd by ACC;;;;</td>\n",
       "    </tr>\n",
       "    <tr>\n",
       "      <th>3</th>\n",
       "      <td>4</td>\n",
       "      <td>144206326</td>\n",
       "      <td>3085168.0</td>\n",
       "      <td>CC1=NC=C(C(=N1)N)CN(C=O)/C(=C(\\CCO)/SS/C(=C(/C...</td>\n",
       "      <td>Inactive</td>\n",
       "      <td>0</td>\n",
       "      <td>http://assay.nih.gov/htsws/rest/display/dd-tdp...</td>\n",
       "      <td>NaN</td>\n",
       "      <td>Inactive</td>\n",
       "      <td>NaN</td>\n",
       "      <td>NaN</td>\n",
       "      <td>NaN</td>\n",
       "      <td>0.0</td>\n",
       "      <td>NaN</td>\n",
       "      <td>NaN</td>\n",
       "      <td>4.9549</td>\n",
       "      <td>0.6177</td>\n",
       "      <td>2.0768</td>\n",
       "      <td>-13.6113</td>\n",
       "      <td>4.0</td>\n",
       "      <td>0 0 0 0 0 0 0 1</td>\n",
       "      <td>-5.7844</td>\n",
       "      <td>NaN</td>\n",
       "      <td>NaN</td>\n",
       "      <td>NaN</td>\n",
       "      <td>NaN</td>\n",
       "      <td>-11.9232</td>\n",
       "      <td>NaN</td>\n",
       "      <td>NaN</td>\n",
       "      <td>-14.5799</td>\n",
       "      <td>NaN</td>\n",
       "      <td>8.2225</td>\n",
       "      <td>NaN</td>\n",
       "      <td>NaN</td>\n",
       "      <td>4.9756</td>\n",
       "      <td>NaN</td>\n",
       "      <td>4.8996</td>\n",
       "      <td>NaN</td>\n",
       "      <td>NaN</td>\n",
       "      <td>-10.1081</td>\n",
       "      <td>NaN</td>\n",
       "      <td>3.3805</td>\n",
       "      <td>NaN</td>\n",
       "      <td>NaN</td>\n",
       "      <td>-5.7844</td>\n",
       "      <td>NaN</td>\n",
       "      <td>NaN</td>\n",
       "      <td>QC'd by ACC;;;;</td>\n",
       "    </tr>\n",
       "    <tr>\n",
       "      <th>4</th>\n",
       "      <td>5</td>\n",
       "      <td>144206327</td>\n",
       "      <td>2449.0</td>\n",
       "      <td>CC1=C(C(=O)C(=C(C1=O)C)C(CCCCCC(=O)O)C2=CC=CC=...</td>\n",
       "      <td>Inconclusive</td>\n",
       "      <td>10</td>\n",
       "      <td>http://assay.nih.gov/htsws/rest/display/dd-tdp...</td>\n",
       "      <td>NaN</td>\n",
       "      <td>Inhibitor</td>\n",
       "      <td>26.6086</td>\n",
       "      <td>77.9682</td>\n",
       "      <td>NaN</td>\n",
       "      <td>10.0</td>\n",
       "      <td>Single point of activity</td>\n",
       "      <td>-4.575</td>\n",
       "      <td>3.5117</td>\n",
       "      <td>0.9609</td>\n",
       "      <td>-82.1111</td>\n",
       "      <td>-4.1429</td>\n",
       "      <td>-3.0</td>\n",
       "      <td>0 0 0 0 0 0 0 0</td>\n",
       "      <td>-72.3569</td>\n",
       "      <td>NaN</td>\n",
       "      <td>NaN</td>\n",
       "      <td>NaN</td>\n",
       "      <td>NaN</td>\n",
       "      <td>-10.6429</td>\n",
       "      <td>NaN</td>\n",
       "      <td>NaN</td>\n",
       "      <td>-2.5661</td>\n",
       "      <td>NaN</td>\n",
       "      <td>-11.5870</td>\n",
       "      <td>NaN</td>\n",
       "      <td>NaN</td>\n",
       "      <td>-4.3838</td>\n",
       "      <td>NaN</td>\n",
       "      <td>1.2149</td>\n",
       "      <td>NaN</td>\n",
       "      <td>NaN</td>\n",
       "      <td>1.7567</td>\n",
       "      <td>NaN</td>\n",
       "      <td>-5.8883</td>\n",
       "      <td>NaN</td>\n",
       "      <td>NaN</td>\n",
       "      <td>-72.3569</td>\n",
       "      <td>NaN</td>\n",
       "      <td>NaN</td>\n",
       "      <td>QC'd by ACC;;;;</td>\n",
       "    </tr>\n",
       "  </tbody>\n",
       "</table>\n",
       "</div>"
      ],
      "text/plain": [
       "   PUBCHEM_RESULT_TAG  PUBCHEM_SID  PUBCHEM_CID  \\\n",
       "0                   1    109967258   50897788.0   \n",
       "1                   2    144206324      65628.0   \n",
       "2                   3    144206325      14708.0   \n",
       "3                   4    144206326    3085168.0   \n",
       "4                   5    144206327       2449.0   \n",
       "\n",
       "                       PUBCHEM_EXT_DATASOURCE_SMILES PUBCHEM_ACTIVITY_OUTCOME  \\\n",
       "0            CNCC1=NC2=C(C=C(C=C2)Cl)C(=N1)C3=CC=CN3                   Active   \n",
       "1         CN1C2=C(C=C(C=C2)N(CCCl)CCCl)N=C1CCCC(=O)O                   Active   \n",
       "2  C[C@]12CC[C@H]3[C@H]([C@@H]1CC[C@]2(C)O)CC[C@@...             Inconclusive   \n",
       "3  CC1=NC=C(C(=N1)N)CN(C=O)/C(=C(\\CCO)/SS/C(=C(/C...                 Inactive   \n",
       "4  CC1=C(C(=O)C(=C(C1=O)C)C(CCCCCC(=O)O)C2=CC=CC=...             Inconclusive   \n",
       "\n",
       "   PUBCHEM_ACTIVITY_SCORE                               PUBCHEM_ACTIVITY_URL  \\\n",
       "0                      42  http://assay.nih.gov/htsws/rest/display/dd-tdp...   \n",
       "1                      41  http://assay.nih.gov/htsws/rest/display/dd-tdp...   \n",
       "2                      10  http://assay.nih.gov/htsws/rest/display/dd-tdp...   \n",
       "3                       0  http://assay.nih.gov/htsws/rest/display/dd-tdp...   \n",
       "4                      10  http://assay.nih.gov/htsws/rest/display/dd-tdp...   \n",
       "\n",
       "   PUBCHEM_ASSAYDATA_COMMENT  Phenotype  Potency  Efficacy  Analysis Comment  \\\n",
       "0                        NaN  Inhibitor  14.1254  136.5470               NaN   \n",
       "1                        NaN  Inhibitor  18.8375   82.1468               NaN   \n",
       "2                        NaN  Inhibitor  21.1360   39.2903               NaN   \n",
       "3                        NaN   Inactive      NaN       NaN               NaN   \n",
       "4                        NaN  Inhibitor  26.6086   77.9682               NaN   \n",
       "\n",
       "   Activity_Score             Curve_Description  Fit_LogAC50  Fit_HillSlope  \\\n",
       "0            42.0  Partial curve; high efficacy       -4.850         1.0100   \n",
       "1            41.0  Partial curve; high efficacy       -4.725         1.9887   \n",
       "2            10.0      Single point of activity       -4.675         2.7868   \n",
       "3             0.0                           NaN          NaN         4.9549   \n",
       "4            10.0      Single point of activity       -4.575         3.5117   \n",
       "\n",
       "   Fit_R2  Fit_InfiniteActivity  Fit_ZeroActivity  Fit_CurveClass  \\\n",
       "0  0.9948             -134.4880            2.0597            -2.1   \n",
       "1  0.9829              -82.6097           -0.4629            -2.1   \n",
       "2  0.9357              -43.4549           -4.1646            -3.0   \n",
       "3  0.6177                2.0768          -13.6113             4.0   \n",
       "4  0.9609              -82.1111           -4.1429            -3.0   \n",
       "\n",
       "   Excluded_Points  Max_Response  Activity at 0.0000295000 uM  \\\n",
       "0        0 0 0 0 0     -106.3110                          NaN   \n",
       "1  0 0 0 0 0 0 0 0      -70.9545                          NaN   \n",
       "2  0 0 0 0 0 0 0 0      -39.2270                          NaN   \n",
       "3  0 0 0 0 0 0 0 1       -5.7844                          NaN   \n",
       "4  0 0 0 0 0 0 0 0      -72.3569                          NaN   \n",
       "\n",
       "   Activity at 0.0000590000 uM  Activity at 0.0001503265 uM  \\\n",
       "0                          NaN                          NaN   \n",
       "1                          NaN                          NaN   \n",
       "2                          NaN                          NaN   \n",
       "3                          NaN                          NaN   \n",
       "4                          NaN                          NaN   \n",
       "\n",
       "   Activity at 0.0002712146 uM  Activity at 0.0005895491 uM  \\\n",
       "0                          NaN                          NaN   \n",
       "1                          NaN                      -3.2819   \n",
       "2                          NaN                      -4.1400   \n",
       "3                          NaN                     -11.9232   \n",
       "4                          NaN                     -10.6429   \n",
       "\n",
       "   Activity at 0.00117 uM  Activity at 0.00179 uM  Activity at 0.00299 uM  \\\n",
       "0                     NaN                     NaN                     NaN   \n",
       "1                     NaN                     NaN                  1.1641   \n",
       "2                     NaN                     NaN                 -5.7369   \n",
       "3                     NaN                     NaN                -14.5799   \n",
       "4                     NaN                     NaN                 -2.5661   \n",
       "\n",
       "   Activity at 0.00672 uM  Activity at 0.014 uM  Activity at 0.026 uM  \\\n",
       "0                     NaN                2.0597                   NaN   \n",
       "1                     NaN                5.8554                   NaN   \n",
       "2                     NaN                0.1681                   NaN   \n",
       "3                     NaN                8.2225                   NaN   \n",
       "4                     NaN              -11.5870                   NaN   \n",
       "\n",
       "   Activity at 0.040 uM  Activity at 0.074 uM  Activity at 0.167 uM  \\\n",
       "0                   NaN                   NaN                   NaN   \n",
       "1                   NaN               -1.8326                   NaN   \n",
       "2                   NaN               -8.2838                   NaN   \n",
       "3                   NaN                4.9756                   NaN   \n",
       "4                   NaN               -4.3838                   NaN   \n",
       "\n",
       "   Activity at 0.363 uM  Activity at 0.628 uM  Activity at 0.975 uM  \\\n",
       "0                0.5007                   NaN                   NaN   \n",
       "1               -4.9853                   NaN                   NaN   \n",
       "2               -6.9258                   NaN                   NaN   \n",
       "3                4.8996                   NaN                   NaN   \n",
       "4                1.2149                   NaN                   NaN   \n",
       "\n",
       "   Activity at 1.849 uM  Activity at 4.119 uM  Activity at 9.037 uM  \\\n",
       "0              -17.4373                   NaN              -48.5138   \n",
       "1                0.0798                   NaN              -16.3921   \n",
       "2                1.0188                   NaN               -7.8647   \n",
       "3              -10.1081                   NaN                3.3805   \n",
       "4                1.7567                   NaN               -5.8883   \n",
       "\n",
       "   Activity at 15.83 uM  Activity at 21.08 uM  Activity at 46.23 uM  \\\n",
       "0                   NaN                   NaN             -106.3110   \n",
       "1                   NaN                   NaN              -70.9545   \n",
       "2                   NaN                   NaN              -39.2270   \n",
       "3                   NaN                   NaN               -5.7844   \n",
       "4                   NaN                   NaN              -72.3569   \n",
       "\n",
       "   Activity at 92.54 uM  Activity at 165.6 uM                Compound QC;;;;  \n",
       "0                   NaN                   NaN  QC'd by AA Pharmaceuticals;;;  \n",
       "1                   NaN                   NaN                 QC'd by ACC;;;  \n",
       "2                   NaN                   NaN                QC'd by ACC;;;;  \n",
       "3                   NaN                   NaN                QC'd by ACC;;;;  \n",
       "4                   NaN                   NaN                QC'd by ACC;;;;  "
      ]
     },
     "execution_count": 1,
     "metadata": {},
     "output_type": "execute_result"
    }
   ],
   "source": [
    "import pandas as pd \n",
    "\n",
    "# load the PubChem AID 686978 bioassy dataset\n",
    "# https://pubchem.ncbi.nlm.nih.gov/bioassay/686978\n",
    "df = pd.read_csv('AID_686978_data.csv', low_memory=False, on_bad_lines='skip')\n",
    "\n",
    "# To avoid truncation of some columns during data frame display\n",
    "pd.set_option('display.max_columns', None) \n",
    "\n",
    "# Display the data frame\n",
    "print('Shape of the data frame: ', df.shape)\n",
    "df.head()"
   ]
  },
  {
   "cell_type": "code",
   "execution_count": 2,
   "id": "71e6f3b5-70bd-4164-98b0-439aed626be9",
   "metadata": {},
   "outputs": [
    {
     "name": "stdout",
     "output_type": "stream",
     "text": [
      "<class 'pandas.core.frame.DataFrame'>\n",
      "RangeIndex: 424003 entries, 0 to 424002\n",
      "Data columns (total 48 columns):\n",
      " #   Column                         Non-Null Count   Dtype  \n",
      "---  ------                         --------------   -----  \n",
      " 0   PUBCHEM_RESULT_TAG             424003 non-null  int64  \n",
      " 1   PUBCHEM_SID                    424003 non-null  int64  \n",
      " 2   PUBCHEM_CID                    423975 non-null  float64\n",
      " 3   PUBCHEM_EXT_DATASOURCE_SMILES  423975 non-null  object \n",
      " 4   PUBCHEM_ACTIVITY_OUTCOME       424003 non-null  object \n",
      " 5   PUBCHEM_ACTIVITY_SCORE         424003 non-null  int64  \n",
      " 6   PUBCHEM_ACTIVITY_URL           424003 non-null  object \n",
      " 7   PUBCHEM_ASSAYDATA_COMMENT      0 non-null       float64\n",
      " 8   Phenotype                      424003 non-null  object \n",
      " 9   Potency                        175189 non-null  float64\n",
      " 10  Efficacy                       175189 non-null  float64\n",
      " 11  Analysis Comment               0 non-null       float64\n",
      " 12  Activity_Score                 423178 non-null  float64\n",
      " 13  Curve_Description              181619 non-null  object \n",
      " 14  Fit_LogAC50                    201416 non-null  float64\n",
      " 15  Fit_HillSlope                  402791 non-null  float64\n",
      " 16  Fit_R2                         402791 non-null  float64\n",
      " 17  Fit_InfiniteActivity           402791 non-null  float64\n",
      " 18  Fit_ZeroActivity               402791 non-null  float64\n",
      " 19  Fit_CurveClass                 424003 non-null  float64\n",
      " 20  Excluded_Points                402791 non-null  object \n",
      " 21  Max_Response                   424003 non-null  float64\n",
      " 22  Activity at 0.0000295000 uM    17 non-null      float64\n",
      " 23  Activity at 0.0000590000 uM    1 non-null       float64\n",
      " 24  Activity at 0.0001503265 uM    20 non-null      float64\n",
      " 25  Activity at 0.0002712146 uM    524 non-null     float64\n",
      " 26  Activity at 0.0005895491 uM    4330 non-null    float64\n",
      " 27  Activity at 0.00117 uM         2007 non-null    float64\n",
      " 28  Activity at 0.00179 uM         221 non-null     float64\n",
      " 29  Activity at 0.00299 uM         413492 non-null  float64\n",
      " 30  Activity at 0.00672 uM         2214 non-null    float64\n",
      " 31  Activity at 0.014 uM           18879 non-null   float64\n",
      " 32  Activity at 0.026 uM           369 non-null     float64\n",
      " 33  Activity at 0.040 uM           1978 non-null    float64\n",
      " 34  Activity at 0.074 uM           17897 non-null   float64\n",
      " 35  Activity at 0.167 uM           2223 non-null    float64\n",
      " 36  Activity at 0.363 uM           421561 non-null  float64\n",
      " 37  Activity at 0.628 uM           362 non-null     float64\n",
      " 38  Activity at 0.975 uM           1989 non-null    float64\n",
      " 39  Activity at 1.849 uM           420261 non-null  float64\n",
      " 40  Activity at 4.119 uM           2247 non-null    float64\n",
      " 41  Activity at 9.037 uM           420223 non-null  float64\n",
      " 42  Activity at 15.83 uM           339 non-null     float64\n",
      " 43  Activity at 21.08 uM           1868 non-null    float64\n",
      " 44  Activity at 46.23 uM           422907 non-null  float64\n",
      " 45  Activity at 92.54 uM           286 non-null     float64\n",
      " 46  Activity at 165.6 uM           13 non-null      float64\n",
      " 47  Compound QC;;;;                424003 non-null  object \n",
      "dtypes: float64(38), int64(3), object(7)\n",
      "memory usage: 155.3+ MB\n"
     ]
    }
   ],
   "source": [
    "df.info()"
   ]
  },
  {
   "cell_type": "code",
   "execution_count": 3,
   "id": "cea09354-94b6-45a4-a2d0-6fa810d86a26",
   "metadata": {},
   "outputs": [
    {
     "data": {
      "text/plain": [
       "(423975, 48)"
      ]
     },
     "execution_count": 3,
     "metadata": {},
     "output_type": "execute_result"
    }
   ],
   "source": [
    "# Remive missing values\n",
    "df = df[df['PUBCHEM_CID'].notna()]\n",
    "df.shape"
   ]
  },
  {
   "cell_type": "code",
   "execution_count": 4,
   "id": "dd9b495c-dd4b-4c61-8755-386c0f7cacd1",
   "metadata": {},
   "outputs": [
    {
     "data": {
      "text/plain": [
       "(410564, 48)"
      ]
     },
     "execution_count": 4,
     "metadata": {},
     "output_type": "execute_result"
    }
   ],
   "source": [
    "# Remove duplicates without keeping a sample ofthem and reset the indexes \n",
    "df = df.drop_duplicates(subset='PUBCHEM_CID', keep=False).reset_index(drop=True)\n",
    "df.shape"
   ]
  },
  {
   "cell_type": "code",
   "execution_count": 5,
   "id": "7db5e6c6-c93d-4587-b6b3-315a3c1852c7",
   "metadata": {},
   "outputs": [],
   "source": [
    "# Turn CID float data type into integer\n",
    "df['PUBCHEM_CID'] = df['PUBCHEM_CID'].astype('int64') "
   ]
  },
  {
   "cell_type": "code",
   "execution_count": 6,
   "id": "d80f60b9-0463-4dfc-961b-8dbf76ad0dac",
   "metadata": {},
   "outputs": [
    {
     "data": {
      "text/plain": [
       "(410564, 3)"
      ]
     },
     "execution_count": 6,
     "metadata": {},
     "output_type": "execute_result"
    }
   ],
   "source": [
    "# Filter inhibitors \n",
    "df = df[['PUBCHEM_CID',\n",
    "         'PUBCHEM_SID',\n",
    "         'PUBCHEM_ACTIVITY_OUTCOME']] \n",
    "df.shape # 646675"
   ]
  },
  {
   "cell_type": "code",
   "execution_count": 7,
   "id": "732c994f-ea48-4579-a33d-eb0a54231445",
   "metadata": {},
   "outputs": [
    {
     "name": "stdout",
     "output_type": "stream",
     "text": [
      "<class 'pandas.core.frame.DataFrame'>\n",
      "RangeIndex: 410564 entries, 0 to 410563\n",
      "Data columns (total 3 columns):\n",
      " #   Column                    Non-Null Count   Dtype \n",
      "---  ------                    --------------   ----- \n",
      " 0   PUBCHEM_CID               410564 non-null  int64 \n",
      " 1   PUBCHEM_SID               410564 non-null  int64 \n",
      " 2   PUBCHEM_ACTIVITY_OUTCOME  410564 non-null  object\n",
      "dtypes: int64(2), object(1)\n",
      "memory usage: 9.4+ MB\n"
     ]
    }
   ],
   "source": [
    "df.info()"
   ]
  },
  {
   "cell_type": "markdown",
   "id": "50d49afb-f776-4dd3-b5bc-f90124cf9507",
   "metadata": {},
   "source": [
    "[<a href=\"#content\">Back to top</a>]"
   ]
  },
  {
   "cell_type": "markdown",
   "id": "464374f5-3a0f-4beb-aaaa-85d49b376fb5",
   "metadata": {},
   "source": [
    "## Create a data frame with CIDs and targets <a name=\"2\"></a>"
   ]
  },
  {
   "cell_type": "code",
   "execution_count": 8,
   "id": "22eb165d-558c-45ab-a6ab-9fc084858f1c",
   "metadata": {},
   "outputs": [
    {
     "data": {
      "text/plain": [
       "array(['Active', 'Inconclusive', 'Inactive'], dtype=object)"
      ]
     },
     "execution_count": 8,
     "metadata": {},
     "output_type": "execute_result"
    }
   ],
   "source": [
    "df['PUBCHEM_ACTIVITY_OUTCOME'] = df['PUBCHEM_ACTIVITY_OUTCOME'].astype(str) \n",
    "# Get unique values from 'column1'\n",
    "unique_values = df['PUBCHEM_ACTIVITY_OUTCOME'].unique()\n",
    "unique_values "
   ]
  },
  {
   "cell_type": "code",
   "execution_count": 9,
   "id": "1c09ddea-4a56-4081-86df-267095aff749",
   "metadata": {
    "scrolled": true
   },
   "outputs": [
    {
     "name": "stdout",
     "output_type": "stream",
     "text": [
      "Shape of the data frame:  (410564, 3)\n"
     ]
    },
    {
     "data": {
      "text/html": [
       "<div>\n",
       "<style scoped>\n",
       "    .dataframe tbody tr th:only-of-type {\n",
       "        vertical-align: middle;\n",
       "    }\n",
       "\n",
       "    .dataframe tbody tr th {\n",
       "        vertical-align: top;\n",
       "    }\n",
       "\n",
       "    .dataframe thead th {\n",
       "        text-align: right;\n",
       "    }\n",
       "</style>\n",
       "<table border=\"1\" class=\"dataframe\">\n",
       "  <thead>\n",
       "    <tr style=\"text-align: right;\">\n",
       "      <th></th>\n",
       "      <th>CID</th>\n",
       "      <th>SID</th>\n",
       "      <th>target</th>\n",
       "    </tr>\n",
       "  </thead>\n",
       "  <tbody>\n",
       "    <tr>\n",
       "      <th>0</th>\n",
       "      <td>50897788</td>\n",
       "      <td>109967258</td>\n",
       "      <td>1</td>\n",
       "    </tr>\n",
       "    <tr>\n",
       "      <th>1</th>\n",
       "      <td>65628</td>\n",
       "      <td>144206324</td>\n",
       "      <td>1</td>\n",
       "    </tr>\n",
       "    <tr>\n",
       "      <th>2</th>\n",
       "      <td>14708</td>\n",
       "      <td>144206325</td>\n",
       "      <td>2</td>\n",
       "    </tr>\n",
       "    <tr>\n",
       "      <th>3</th>\n",
       "      <td>3085168</td>\n",
       "      <td>144206326</td>\n",
       "      <td>0</td>\n",
       "    </tr>\n",
       "    <tr>\n",
       "      <th>4</th>\n",
       "      <td>2449</td>\n",
       "      <td>144206327</td>\n",
       "      <td>2</td>\n",
       "    </tr>\n",
       "  </tbody>\n",
       "</table>\n",
       "</div>"
      ],
      "text/plain": [
       "        CID        SID target\n",
       "0  50897788  109967258      1\n",
       "1     65628  144206324      1\n",
       "2     14708  144206325      2\n",
       "3   3085168  144206326      0\n",
       "4      2449  144206327      2"
      ]
     },
     "execution_count": 9,
     "metadata": {},
     "output_type": "execute_result"
    }
   ],
   "source": [
    "df.rename(columns={'PUBCHEM_CID':'CID',\n",
    "                   'PUBCHEM_SID':'SID',\n",
    "                   'PUBCHEM_ACTIVITY_OUTCOME':'target'}, inplace=True)\n",
    "\n",
    "# Set the option to explicitly handle downcasting\n",
    "pd.set_option('future.no_silent_downcasting', True)\n",
    "\n",
    "# Create a mapping dictionary to replace string values with numeric values\n",
    "mapping = {'Active': 1, 'Inactive': 0, 'Inconclusive':2}\n",
    "\n",
    "# Replace string values with numeric values using the mapping dictionary\n",
    "df['target'] = df['target'].replace(mapping)\n",
    "\n",
    "# Display the data frame\n",
    "print('Shape of the data frame: ', df.shape)\n",
    "df.head()"
   ]
  },
  {
   "cell_type": "code",
   "execution_count": 10,
   "id": "c38a04fa-4156-4971-af7f-7f7ae6c99d65",
   "metadata": {},
   "outputs": [],
   "source": [
    "# Turn CID float data type into integer\n",
    "df['target'] = pd.to_numeric(df['target']) "
   ]
  },
  {
   "cell_type": "code",
   "execution_count": 11,
   "id": "7953101b-96a7-47c0-a697-e26e7a787113",
   "metadata": {},
   "outputs": [
    {
     "data": {
      "text/plain": [
       "target\n",
       "0    236226\n",
       "2    112867\n",
       "1     61471\n",
       "Name: count, dtype: int64"
      ]
     },
     "execution_count": 11,
     "metadata": {},
     "output_type": "execute_result"
    }
   ],
   "source": [
    "df['target'].value_counts()"
   ]
  },
  {
   "cell_type": "code",
   "execution_count": 12,
   "id": "ef23cc9d-76b2-417f-8dc5-67dbf3c6bf00",
   "metadata": {},
   "outputs": [
    {
     "data": {
      "text/plain": [
       "(61471, 3)"
      ]
     },
     "execution_count": 12,
     "metadata": {},
     "output_type": "execute_result"
    }
   ],
   "source": [
    "df_1 = df[df['target']==1]\n",
    "df_1.shape"
   ]
  },
  {
   "cell_type": "markdown",
   "id": "0d36615f-0c28-4f6f-aa58-40c7bf0c06bc",
   "metadata": {},
   "source": [
    "[<a href=\"#content\">Back to top</a>]"
   ]
  },
  {
   "cell_type": "markdown",
   "id": "0d429725-306e-47a0-b48d-359550c8d1dc",
   "metadata": {},
   "source": [
    "## Reduce the inactive compounds <a name=\"3\"></a>"
   ]
  },
  {
   "cell_type": "code",
   "execution_count": 13,
   "id": "97f6933c-fc1f-48b1-a479-70e3e5597b3a",
   "metadata": {},
   "outputs": [
    {
     "name": "stdout",
     "output_type": "stream",
     "text": [
      "Shape of the data frame:  (57859, 30)\n"
     ]
    },
    {
     "data": {
      "text/html": [
       "<div>\n",
       "<style scoped>\n",
       "    .dataframe tbody tr th:only-of-type {\n",
       "        vertical-align: middle;\n",
       "    }\n",
       "\n",
       "    .dataframe tbody tr th {\n",
       "        vertical-align: top;\n",
       "    }\n",
       "\n",
       "    .dataframe thead th {\n",
       "        text-align: right;\n",
       "    }\n",
       "</style>\n",
       "<table border=\"1\" class=\"dataframe\">\n",
       "  <thead>\n",
       "    <tr style=\"text-align: right;\">\n",
       "      <th></th>\n",
       "      <th>PUBCHEM_RESULT_TAG</th>\n",
       "      <th>SID</th>\n",
       "      <th>CID</th>\n",
       "      <th>PUBCHEM_EXT_DATASOURCE_SMILES</th>\n",
       "      <th>OUTCOME</th>\n",
       "      <th>PUBCHEM_ACTIVITY_SCORE</th>\n",
       "      <th>PUBCHEM_ACTIVITY_URL</th>\n",
       "      <th>PUBCHEM_ASSAYDATA_COMMENT</th>\n",
       "      <th>Solubility at pH 7.4_Qualifier_Mean</th>\n",
       "      <th>Solubility at pH 7.4_Mean</th>\n",
       "      <th>Test Concentration_1</th>\n",
       "      <th>Solubility at pH 7.4_Qualifier_1</th>\n",
       "      <th>Solubility at pH 7.4_1</th>\n",
       "      <th>Solubility at pH 7.4_Comment_1</th>\n",
       "      <th>Solubility of Astemizole at pH 7.4_Qualifier_1</th>\n",
       "      <th>Solubility of Astemizole at pH 7.4_1</th>\n",
       "      <th>Solubility of Sulfamethizole at pH 7.4_Qualifier_1</th>\n",
       "      <th>Solubility of Sulfamethizole at pH 7.4_1</th>\n",
       "      <th>Solubility of Imipramine HCl at pH 7.4_Qualifier_1</th>\n",
       "      <th>Solubility of Imipramine HCl at pH 7.4_1</th>\n",
       "      <th>Test Concentration_2</th>\n",
       "      <th>Solubility at pH 7.4_Qualifier_2</th>\n",
       "      <th>Solubility at pH 7.4_2</th>\n",
       "      <th>Solubility at pH 7.4_Comment_2</th>\n",
       "      <th>Solubility of Astemizole at pH 7.4_Qualifier_2</th>\n",
       "      <th>Solubility of Astemizole at pH 7.4_2</th>\n",
       "      <th>Solubility of Sulfamethizole at pH 7.4_Qualifier_2</th>\n",
       "      <th>Solubility of Sulfamethizole at pH 7.4_2</th>\n",
       "      <th>Solubility of Imipramine HCl at pH 7.4_Qualifier_2</th>\n",
       "      <th>Solubility of Imipramine HCl at pH 7.4_2</th>\n",
       "    </tr>\n",
       "  </thead>\n",
       "  <tbody>\n",
       "    <tr>\n",
       "      <th>0</th>\n",
       "      <td>1</td>\n",
       "      <td>24826444</td>\n",
       "      <td>2374148</td>\n",
       "      <td>COC1=CC=C(C=C1)OCC2=NNC(=S)N2N</td>\n",
       "      <td>Active</td>\n",
       "      <td>40</td>\n",
       "      <td>NaN</td>\n",
       "      <td>NaN</td>\n",
       "      <td>=</td>\n",
       "      <td>10.85</td>\n",
       "      <td>200</td>\n",
       "      <td>&lt;</td>\n",
       "      <td>0.1</td>\n",
       "      <td>Below LOQ</td>\n",
       "      <td>=</td>\n",
       "      <td>14.2</td>\n",
       "      <td>&gt;</td>\n",
       "      <td>40.5</td>\n",
       "      <td>&gt;</td>\n",
       "      <td>47.5</td>\n",
       "      <td>200.0</td>\n",
       "      <td>=</td>\n",
       "      <td>21.6</td>\n",
       "      <td>NaN</td>\n",
       "      <td>=</td>\n",
       "      <td>27.7</td>\n",
       "      <td>&gt;</td>\n",
       "      <td>40.5</td>\n",
       "      <td>&gt;</td>\n",
       "      <td>47.5</td>\n",
       "    </tr>\n",
       "    <tr>\n",
       "      <th>1</th>\n",
       "      <td>2</td>\n",
       "      <td>49669186</td>\n",
       "      <td>5295761</td>\n",
       "      <td>CC1=CC(=C(C=C1)NC2=NC3=CC=CC=C3N4C2=NN=C4)Cl</td>\n",
       "      <td>Inactive</td>\n",
       "      <td>0</td>\n",
       "      <td>NaN</td>\n",
       "      <td>NaN</td>\n",
       "      <td>&lt;</td>\n",
       "      <td>0.10</td>\n",
       "      <td>200</td>\n",
       "      <td>&lt;</td>\n",
       "      <td>0.1</td>\n",
       "      <td>Below LOQ</td>\n",
       "      <td>=</td>\n",
       "      <td>12.3</td>\n",
       "      <td>&gt;</td>\n",
       "      <td>40.5</td>\n",
       "      <td>&gt;</td>\n",
       "      <td>47.5</td>\n",
       "      <td>NaN</td>\n",
       "      <td>NaN</td>\n",
       "      <td>NaN</td>\n",
       "      <td>NaN</td>\n",
       "      <td>NaN</td>\n",
       "      <td>NaN</td>\n",
       "      <td>NaN</td>\n",
       "      <td>NaN</td>\n",
       "      <td>NaN</td>\n",
       "      <td>NaN</td>\n",
       "    </tr>\n",
       "    <tr>\n",
       "      <th>2</th>\n",
       "      <td>3</td>\n",
       "      <td>49669768</td>\n",
       "      <td>22431387</td>\n",
       "      <td>CC1=CC(=CC=C1)CCNC2=NC3=C(C=C(C=C3)C)N4C2=NN=C4</td>\n",
       "      <td>Inactive</td>\n",
       "      <td>0</td>\n",
       "      <td>NaN</td>\n",
       "      <td>NaN</td>\n",
       "      <td>&lt;</td>\n",
       "      <td>0.10</td>\n",
       "      <td>200</td>\n",
       "      <td>&lt;</td>\n",
       "      <td>0.1</td>\n",
       "      <td>Below LOQ</td>\n",
       "      <td>=</td>\n",
       "      <td>12.3</td>\n",
       "      <td>&gt;</td>\n",
       "      <td>40.5</td>\n",
       "      <td>&gt;</td>\n",
       "      <td>47.5</td>\n",
       "      <td>NaN</td>\n",
       "      <td>NaN</td>\n",
       "      <td>NaN</td>\n",
       "      <td>NaN</td>\n",
       "      <td>NaN</td>\n",
       "      <td>NaN</td>\n",
       "      <td>NaN</td>\n",
       "      <td>NaN</td>\n",
       "      <td>NaN</td>\n",
       "      <td>NaN</td>\n",
       "    </tr>\n",
       "    <tr>\n",
       "      <th>3</th>\n",
       "      <td>4</td>\n",
       "      <td>8139962</td>\n",
       "      <td>14296</td>\n",
       "      <td>CC1=C(N=C(C(=N1)C)C)C</td>\n",
       "      <td>Inactive</td>\n",
       "      <td>0</td>\n",
       "      <td>NaN</td>\n",
       "      <td>NaN</td>\n",
       "      <td>&lt;</td>\n",
       "      <td>0.10</td>\n",
       "      <td>200</td>\n",
       "      <td>&lt;</td>\n",
       "      <td>0.1</td>\n",
       "      <td>Below LOQ</td>\n",
       "      <td>=</td>\n",
       "      <td>11.4</td>\n",
       "      <td>&gt;</td>\n",
       "      <td>40.5</td>\n",
       "      <td>&gt;</td>\n",
       "      <td>47.5</td>\n",
       "      <td>NaN</td>\n",
       "      <td>NaN</td>\n",
       "      <td>NaN</td>\n",
       "      <td>NaN</td>\n",
       "      <td>NaN</td>\n",
       "      <td>NaN</td>\n",
       "      <td>NaN</td>\n",
       "      <td>NaN</td>\n",
       "      <td>NaN</td>\n",
       "      <td>NaN</td>\n",
       "    </tr>\n",
       "    <tr>\n",
       "      <th>4</th>\n",
       "      <td>5</td>\n",
       "      <td>24803435</td>\n",
       "      <td>865684</td>\n",
       "      <td>CC1=CC2=NC(=C(C=C2C=C1)C#N)NC3=CC=CC=C3OC</td>\n",
       "      <td>Inactive</td>\n",
       "      <td>0</td>\n",
       "      <td>NaN</td>\n",
       "      <td>NaN</td>\n",
       "      <td>&lt;</td>\n",
       "      <td>0.20</td>\n",
       "      <td>200</td>\n",
       "      <td>&lt;</td>\n",
       "      <td>0.2</td>\n",
       "      <td>Below LOQ</td>\n",
       "      <td>=</td>\n",
       "      <td>11.4</td>\n",
       "      <td>&gt;</td>\n",
       "      <td>40.5</td>\n",
       "      <td>&gt;</td>\n",
       "      <td>47.5</td>\n",
       "      <td>NaN</td>\n",
       "      <td>NaN</td>\n",
       "      <td>NaN</td>\n",
       "      <td>NaN</td>\n",
       "      <td>NaN</td>\n",
       "      <td>NaN</td>\n",
       "      <td>NaN</td>\n",
       "      <td>NaN</td>\n",
       "      <td>NaN</td>\n",
       "      <td>NaN</td>\n",
       "    </tr>\n",
       "  </tbody>\n",
       "</table>\n",
       "</div>"
      ],
      "text/plain": [
       "   PUBCHEM_RESULT_TAG       SID       CID  \\\n",
       "0                   1  24826444   2374148   \n",
       "1                   2  49669186   5295761   \n",
       "2                   3  49669768  22431387   \n",
       "3                   4   8139962     14296   \n",
       "4                   5  24803435    865684   \n",
       "\n",
       "                     PUBCHEM_EXT_DATASOURCE_SMILES   OUTCOME  \\\n",
       "0                   COC1=CC=C(C=C1)OCC2=NNC(=S)N2N    Active   \n",
       "1     CC1=CC(=C(C=C1)NC2=NC3=CC=CC=C3N4C2=NN=C4)Cl  Inactive   \n",
       "2  CC1=CC(=CC=C1)CCNC2=NC3=C(C=C(C=C3)C)N4C2=NN=C4  Inactive   \n",
       "3                            CC1=C(N=C(C(=N1)C)C)C  Inactive   \n",
       "4        CC1=CC2=NC(=C(C=C2C=C1)C#N)NC3=CC=CC=C3OC  Inactive   \n",
       "\n",
       "   PUBCHEM_ACTIVITY_SCORE  PUBCHEM_ACTIVITY_URL  PUBCHEM_ASSAYDATA_COMMENT  \\\n",
       "0                      40                   NaN                        NaN   \n",
       "1                       0                   NaN                        NaN   \n",
       "2                       0                   NaN                        NaN   \n",
       "3                       0                   NaN                        NaN   \n",
       "4                       0                   NaN                        NaN   \n",
       "\n",
       "  Solubility at pH 7.4_Qualifier_Mean  Solubility at pH 7.4_Mean  \\\n",
       "0                                   =                      10.85   \n",
       "1                                   <                       0.10   \n",
       "2                                   <                       0.10   \n",
       "3                                   <                       0.10   \n",
       "4                                   <                       0.20   \n",
       "\n",
       "   Test Concentration_1 Solubility at pH 7.4_Qualifier_1  \\\n",
       "0                   200                                <   \n",
       "1                   200                                <   \n",
       "2                   200                                <   \n",
       "3                   200                                <   \n",
       "4                   200                                <   \n",
       "\n",
       "   Solubility at pH 7.4_1 Solubility at pH 7.4_Comment_1  \\\n",
       "0                     0.1                      Below LOQ   \n",
       "1                     0.1                      Below LOQ   \n",
       "2                     0.1                      Below LOQ   \n",
       "3                     0.1                      Below LOQ   \n",
       "4                     0.2                      Below LOQ   \n",
       "\n",
       "  Solubility of Astemizole at pH 7.4_Qualifier_1  \\\n",
       "0                                              =   \n",
       "1                                              =   \n",
       "2                                              =   \n",
       "3                                              =   \n",
       "4                                              =   \n",
       "\n",
       "   Solubility of Astemizole at pH 7.4_1  \\\n",
       "0                                  14.2   \n",
       "1                                  12.3   \n",
       "2                                  12.3   \n",
       "3                                  11.4   \n",
       "4                                  11.4   \n",
       "\n",
       "  Solubility of Sulfamethizole at pH 7.4_Qualifier_1  \\\n",
       "0                                                  >   \n",
       "1                                                  >   \n",
       "2                                                  >   \n",
       "3                                                  >   \n",
       "4                                                  >   \n",
       "\n",
       "   Solubility of Sulfamethizole at pH 7.4_1  \\\n",
       "0                                      40.5   \n",
       "1                                      40.5   \n",
       "2                                      40.5   \n",
       "3                                      40.5   \n",
       "4                                      40.5   \n",
       "\n",
       "  Solubility of Imipramine HCl at pH 7.4_Qualifier_1  \\\n",
       "0                                                  >   \n",
       "1                                                  >   \n",
       "2                                                  >   \n",
       "3                                                  >   \n",
       "4                                                  >   \n",
       "\n",
       "   Solubility of Imipramine HCl at pH 7.4_1  Test Concentration_2  \\\n",
       "0                                      47.5                 200.0   \n",
       "1                                      47.5                   NaN   \n",
       "2                                      47.5                   NaN   \n",
       "3                                      47.5                   NaN   \n",
       "4                                      47.5                   NaN   \n",
       "\n",
       "  Solubility at pH 7.4_Qualifier_2  Solubility at pH 7.4_2  \\\n",
       "0                                =                    21.6   \n",
       "1                              NaN                     NaN   \n",
       "2                              NaN                     NaN   \n",
       "3                              NaN                     NaN   \n",
       "4                              NaN                     NaN   \n",
       "\n",
       "  Solubility at pH 7.4_Comment_2  \\\n",
       "0                            NaN   \n",
       "1                            NaN   \n",
       "2                            NaN   \n",
       "3                            NaN   \n",
       "4                            NaN   \n",
       "\n",
       "  Solubility of Astemizole at pH 7.4_Qualifier_2  \\\n",
       "0                                              =   \n",
       "1                                            NaN   \n",
       "2                                            NaN   \n",
       "3                                            NaN   \n",
       "4                                            NaN   \n",
       "\n",
       "   Solubility of Astemizole at pH 7.4_2  \\\n",
       "0                                  27.7   \n",
       "1                                   NaN   \n",
       "2                                   NaN   \n",
       "3                                   NaN   \n",
       "4                                   NaN   \n",
       "\n",
       "  Solubility of Sulfamethizole at pH 7.4_Qualifier_2  \\\n",
       "0                                                  >   \n",
       "1                                                NaN   \n",
       "2                                                NaN   \n",
       "3                                                NaN   \n",
       "4                                                NaN   \n",
       "\n",
       "   Solubility of Sulfamethizole at pH 7.4_2  \\\n",
       "0                                      40.5   \n",
       "1                                       NaN   \n",
       "2                                       NaN   \n",
       "3                                       NaN   \n",
       "4                                       NaN   \n",
       "\n",
       "  Solubility of Imipramine HCl at pH 7.4_Qualifier_2  \\\n",
       "0                                                  >   \n",
       "1                                                NaN   \n",
       "2                                                NaN   \n",
       "3                                                NaN   \n",
       "4                                                NaN   \n",
       "\n",
       "   Solubility of Imipramine HCl at pH 7.4_2  \n",
       "0                                      47.5  \n",
       "1                                       NaN  \n",
       "2                                       NaN  \n",
       "3                                       NaN  \n",
       "4                                       NaN  "
      ]
     },
     "execution_count": 13,
     "metadata": {},
     "output_type": "execute_result"
    }
   ],
   "source": [
    "# load the water solunility data \n",
    "df_sol = pd.read_csv('AID_1996_data.csv')\n",
    "\n",
    "# Display the data frame\n",
    "print('Shape of the data frame: ', df_sol.shape)\n",
    "df_sol.head()"
   ]
  },
  {
   "cell_type": "code",
   "execution_count": 14,
   "id": "fe454108-8d01-4817-856f-7d75855928fd",
   "metadata": {},
   "outputs": [
    {
     "name": "stdout",
     "output_type": "stream",
     "text": [
      "Shape of the data frame:  (57859,)\n"
     ]
    }
   ],
   "source": [
    "# Keep only the CID values \n",
    "df_sol = df_sol[\"CID\"]\n",
    "\n",
    "# Reduce values keeping only the common for both datasets CID\n",
    "df = pd.merge(df, df_sol, on=\"CID\")\n",
    "\n",
    "# Display the data frame\n",
    "print('Shape of the data frame: ', df_sol.shape)"
   ]
  },
  {
   "cell_type": "code",
   "execution_count": 15,
   "id": "4a78ee33-a779-4328-a4ed-cb49927f7956",
   "metadata": {},
   "outputs": [
    {
     "data": {
      "text/plain": [
       "target\n",
       "0    40405\n",
       "2    12015\n",
       "1     4430\n",
       "Name: count, dtype: int64"
      ]
     },
     "execution_count": 15,
     "metadata": {},
     "output_type": "execute_result"
    }
   ],
   "source": [
    "df['target'].value_counts()"
   ]
  },
  {
   "cell_type": "code",
   "execution_count": 16,
   "id": "09b6482e-5692-456b-9876-9d0440dfb802",
   "metadata": {},
   "outputs": [
    {
     "name": "stdout",
     "output_type": "stream",
     "text": [
      "Shape of df_0:  (40405, 3)\n"
     ]
    }
   ],
   "source": [
    "# CSeparate target 0 compounds\n",
    "df_0 = df[df['target']==0]\n",
    "\n",
    "# Display the data frame\n",
    "print('Shape of df_0: ', df_0.shape)"
   ]
  },
  {
   "cell_type": "code",
   "execution_count": 17,
   "id": "264b8006-c3ed-46ef-a856-0e09aff3a5c5",
   "metadata": {},
   "outputs": [],
   "source": [
    "# Concatenate target 1 and 0 compounds \n",
    "df = pd.concat([df_0, df_1])"
   ]
  },
  {
   "cell_type": "code",
   "execution_count": 18,
   "id": "e234190f-43ab-45fd-b143-a86f4c722cb3",
   "metadata": {},
   "outputs": [
    {
     "data": {
      "text/plain": [
       "target\n",
       "1    61471\n",
       "0    40405\n",
       "Name: count, dtype: int64"
      ]
     },
     "execution_count": 18,
     "metadata": {},
     "output_type": "execute_result"
    }
   ],
   "source": [
    "# Count each of the binary targets\n",
    "df['target'].value_counts()"
   ]
  },
  {
   "cell_type": "code",
   "execution_count": 19,
   "id": "8b76c721-1302-42da-b38a-7944a1f6722f",
   "metadata": {},
   "outputs": [
    {
     "name": "stdout",
     "output_type": "stream",
     "text": [
      "Shape of df:  (101876, 3)\n"
     ]
    }
   ],
   "source": [
    "# Shuffle the resulting data set\n",
    "df = df.sample(\n",
    "    frac = 1,        # Return entire dataframe\n",
    "    random_state=1   # Make result reproducible\n",
    "    ).reset_index(drop=True)\n",
    "\n",
    "# Display the data frame\n",
    "print('Shape of df: ', df.shape)"
   ]
  },
  {
   "cell_type": "code",
   "execution_count": 20,
   "id": "3715f319-fb2e-4006-a8d0-d26ce0be8d39",
   "metadata": {},
   "outputs": [],
   "source": [
    "df.to_csv(\"CIDs_targets_TDP1_II.csv\")"
   ]
  },
  {
   "cell_type": "markdown",
   "id": "0dbee87c-acc2-4afb-bb44-3594024cec9b",
   "metadata": {},
   "source": [
    "[<a href=\"#content\">Back to top</a>]"
   ]
  },
  {
   "cell_type": "markdown",
   "id": "ad3f599f-d02e-4692-afdb-23d76ad34924",
   "metadata": {},
   "source": [
    "## Ensure equal number of both targets  <a name=\"4\"></a>"
   ]
  },
  {
   "cell_type": "code",
   "execution_count": 21,
   "id": "f263e9cb-8a21-41dd-8fc0-27b40621f06d",
   "metadata": {},
   "outputs": [],
   "source": [
    "# Handle the part of target 1 in the test set \n",
    "df_1 = df[df['target']==1]\n",
    "\n",
    "# Shuffle the resulting data set\n",
    "df_1 = df_1.sample(\n",
    "    frac = 1,        # Return entire dataframe\n",
    "    random_state=1   # Make result reproducible\n",
    "    ).reset_index(drop=True)\n",
    "\n",
    "# Extract 2800 samples (10% of 28000 samples) of target 1 for the test set\n",
    "df_1_test = df_1.iloc[:11000] \n",
    "\n",
    "# Assign the rest of target 1 for the train set\n",
    "df_1_train = df_1.iloc[11000:]"
   ]
  },
  {
   "cell_type": "code",
   "execution_count": 22,
   "id": "f4cc648f-2fe3-4e1b-8592-a140d61e19c4",
   "metadata": {},
   "outputs": [],
   "source": [
    "# Handle the part of target 0 in the test set \n",
    "df_0 = df[df['target']==0]\n",
    "\n",
    "# Shuffle the resulting data set\n",
    "df_0 = df_0.sample(\n",
    "    frac = 1,        # Return entire dataframe\n",
    "    random_state=1   # Make result reproducible\n",
    "    ).reset_index(drop=True)\n",
    "\n",
    "## Extract 10% of the target 0 for  the test set\n",
    "df_0_test = df_0.iloc[:11000]\n",
    "\n",
    "# Assign the rest of target 1 for the train set\n",
    "df_0_train = df_0.iloc[11000:]"
   ]
  },
  {
   "cell_type": "code",
   "execution_count": 23,
   "id": "d5fce4cd-521c-4189-9cbb-3eb61c477fc0",
   "metadata": {},
   "outputs": [],
   "source": [
    "# Create train and test dataframe for further manipulation \n",
    "train = pd.concat([df_0_train, df_1_train])\n",
    "test = pd.concat([df_0_test, df_1_test])"
   ]
  },
  {
   "cell_type": "code",
   "execution_count": 24,
   "id": "0c10295e-b124-4d26-958e-8fc66bebe48c",
   "metadata": {},
   "outputs": [],
   "source": [
    "# Create the sets for ML \n",
    "X_train = train.drop(columns='target', axis=1)\n",
    "y_train = train['target']\n",
    "X_test =  test.drop(columns='target', axis=1)\n",
    "y_test = test['target']"
   ]
  },
  {
   "cell_type": "code",
   "execution_count": 25,
   "id": "3c330359-0a8d-4afc-98e2-282d7b513e60",
   "metadata": {},
   "outputs": [],
   "source": [
    "# Create the sets for Cross-validation\n",
    "X = pd.concat([X_train, X_test])\n",
    "y = pd.concat([y_train,y_test])"
   ]
  },
  {
   "cell_type": "code",
   "execution_count": 26,
   "id": "4fb8f5ce-f9cf-4e5b-ad3f-9d33d1576646",
   "metadata": {},
   "outputs": [
    {
     "data": {
      "text/plain": [
       "target\n",
       "0    11000\n",
       "1    11000\n",
       "Name: count, dtype: int64"
      ]
     },
     "execution_count": 26,
     "metadata": {},
     "output_type": "execute_result"
    }
   ],
   "source": [
    "# Check the number of classes in the y_test set\n",
    "y_test.value_counts()"
   ]
  },
  {
   "cell_type": "code",
   "execution_count": 27,
   "id": "91acb1b1-1b56-435d-bd88-1aca2e1a300d",
   "metadata": {},
   "outputs": [
    {
     "name": "stdout",
     "output_type": "stream",
     "text": [
      "Shapes:\n",
      "X_train:  (79876, 2)\n",
      "X_test:   (22000, 2)\n",
      "y_train:  (79876,)\n",
      "y_test:   (22000,)\n"
     ]
    }
   ],
   "source": [
    "# Print the shape of each part\n",
    "print(\"Shapes:\")\n",
    "print(\"X_train: \", X_train.shape)\n",
    "print(\"X_test:  \", X_test.shape)\n",
    "print(\"y_train: \", y_train.shape)\n",
    "print(\"y_test:  \", y_test.shape)"
   ]
  },
  {
   "cell_type": "markdown",
   "id": "eed12076-e74a-4a14-b34e-427920146ec8",
   "metadata": {},
   "source": [
    "[<a href=\"#content\">Back to top</a>]"
   ]
  },
  {
   "cell_type": "markdown",
   "id": "d6ad5e2e-a857-421d-bd4a-da756ab61613",
   "metadata": {},
   "source": [
    "## Balancing <a name=\"5\"></a>"
   ]
  },
  {
   "cell_type": "code",
   "execution_count": 28,
   "id": "363e232d-d081-4005-a9fc-decb38f7aebc",
   "metadata": {},
   "outputs": [
    {
     "name": "stdout",
     "output_type": "stream",
     "text": [
      "[(0, 29405), (1, 50471)]\n"
     ]
    },
    {
     "data": {
      "image/png": "[encoded data removed]",
      "text/plain": [
       "<Figure size 640x480 with 1 Axes>"
      ]
     },
     "metadata": {},
     "output_type": "display_data"
    }
   ],
   "source": [
    "from collections import Counter\n",
    "from matplotlib import pyplot as plt\n",
    "import seaborn as sns\n",
    "\n",
    "# Illustrate the imbalance between classification targets \n",
    "print(sorted(Counter(y_train).items()))\n",
    "sns.set_style('white')\n",
    "sns.set(font_scale=1)\n",
    "plt.figure()\n",
    "sns.countplot(x=y_train, hue=y_train, palette='nipy_spectral')\n",
    "plt.show()"
   ]
  },
  {
   "cell_type": "code",
   "execution_count": 29,
   "id": "27745883-29f7-4670-a3eb-5ae8f8ca893c",
   "metadata": {},
   "outputs": [
    {
     "name": "stdout",
     "output_type": "stream",
     "text": [
      "[(0, 50471), (1, 50471)]\n"
     ]
    },
    {
     "data": {
      "image/png": "[encoded data removed]",
      "text/plain": [
       "<Figure size 640x480 with 1 Axes>"
      ]
     },
     "metadata": {},
     "output_type": "display_data"
    }
   ],
   "source": [
    "# from imblearn.over_sampling import SMOTE\n",
    "from imblearn.over_sampling import RandomOverSampler\n",
    "\n",
    "# Balance targets with Synthetic Minority Oversampling Technique\n",
    "# smote = SMOTE(random_state=0)\n",
    "ros = RandomOverSampler()\n",
    "\n",
    "X_train, y_train = ros.fit_resample(X_train, y_train)\n",
    "\n",
    "# Illustrate the balance between classification targets \n",
    "print(sorted(Counter(y_train).items()))\n",
    "sns.set_style('white')\n",
    "sns.set(font_scale=1)\n",
    "plt.figure()\n",
    "sns.countplot(x=y_train, hue=y_train,palette='nipy_spectral')\n",
    "plt.show()"
   ]
  },
  {
   "cell_type": "code",
   "execution_count": 30,
   "id": "81a962eb-04fc-412e-8513-25a4f2850d2d",
   "metadata": {},
   "outputs": [
    {
     "name": "stdout",
     "output_type": "stream",
     "text": [
      "Shapes:\n",
      "X_train:  (100942, 2)\n",
      "X_test:   (22000, 2)\n",
      "y_train:  (100942,)\n",
      "y_test:   (22000,)\n"
     ]
    }
   ],
   "source": [
    "# Print the shape of each part\n",
    "print(\"Shapes:\")\n",
    "print(\"X_train: \", X_train.shape)\n",
    "print(\"X_test:  \", X_test.shape)\n",
    "print(\"y_train: \", y_train.shape)\n",
    "print(\"y_test:  \", y_test.shape)"
   ]
  },
  {
   "cell_type": "markdown",
   "id": "4a42e6dd-1c1b-4da1-a9bf-24bf352f8f73",
   "metadata": {},
   "source": [
    "[<a href=\"#content\">Back to top</a>]"
   ]
  },
  {
   "cell_type": "markdown",
   "id": "1b37a86e-120d-4c74-9c45-6e30dc6165b7",
   "metadata": {},
   "source": [
    "## Machine Leraning  <a name=\"6\"></a>"
   ]
  },
  {
   "cell_type": "code",
   "execution_count": 31,
   "id": "3e05521c-8b0b-4a66-a4a7-6f2cfa6e2396",
   "metadata": {},
   "outputs": [],
   "source": [
    "from sklearn.svm import SVC\n",
    "from sklearn.tree import DecisionTreeClassifier\n",
    "from sklearn.ensemble import RandomForestClassifier\n",
    "from sklearn.ensemble import GradientBoostingClassifier\n",
    "from xgboost import XGBClassifier\n",
    "from sklearn.neighbors import KNeighborsClassifier\n",
    "\n",
    "# Instantiate the algorithms that will be used, placing them in a dictionary \n",
    "clfs = {\"SVM\":SVC(kernel='rbf', C=1, probability=True),\n",
    "        \"Decision\":DecisionTreeClassifier(), \n",
    "        \"RandomForest\":RandomForestClassifier(), \n",
    "        \"GradientBoost\":GradientBoostingClassifier(),\n",
    "        \"XGBoost\":XGBClassifier(verbosity=0),\n",
    "       \"K-nearest\": KNeighborsClassifier(n_neighbors=3)\n",
    "       }"
   ]
  },
  {
   "cell_type": "code",
   "execution_count": 32,
   "id": "6b01eee4-b68e-474a-8fa9-2d82370a1300",
   "metadata": {},
   "outputs": [
    {
     "data": {
      "text/html": [
       "<div>\n",
       "<style scoped>\n",
       "    .dataframe tbody tr th:only-of-type {\n",
       "        vertical-align: middle;\n",
       "    }\n",
       "\n",
       "    .dataframe tbody tr th {\n",
       "        vertical-align: top;\n",
       "    }\n",
       "\n",
       "    .dataframe thead th {\n",
       "        text-align: right;\n",
       "    }\n",
       "</style>\n",
       "<table border=\"1\" class=\"dataframe\">\n",
       "  <thead>\n",
       "    <tr style=\"text-align: right;\">\n",
       "      <th></th>\n",
       "      <th>1.Algorithm</th>\n",
       "      <th>2.Accuracy</th>\n",
       "      <th>3.Precision</th>\n",
       "      <th>4.Recall</th>\n",
       "      <th>5.F1</th>\n",
       "      <th>6.ROC</th>\n",
       "    </tr>\n",
       "  </thead>\n",
       "  <tbody>\n",
       "    <tr>\n",
       "      <th>4</th>\n",
       "      <td>XGBoost</td>\n",
       "      <td>0.860</td>\n",
       "      <td>0.933</td>\n",
       "      <td>0.775</td>\n",
       "      <td>0.847</td>\n",
       "      <td>0.860</td>\n",
       "    </tr>\n",
       "    <tr>\n",
       "      <th>3</th>\n",
       "      <td>GradientBoost</td>\n",
       "      <td>0.851</td>\n",
       "      <td>0.945</td>\n",
       "      <td>0.746</td>\n",
       "      <td>0.834</td>\n",
       "      <td>0.851</td>\n",
       "    </tr>\n",
       "    <tr>\n",
       "      <th>2</th>\n",
       "      <td>RandomForest</td>\n",
       "      <td>0.847</td>\n",
       "      <td>0.856</td>\n",
       "      <td>0.835</td>\n",
       "      <td>0.845</td>\n",
       "      <td>0.847</td>\n",
       "    </tr>\n",
       "    <tr>\n",
       "      <th>5</th>\n",
       "      <td>K-nearest</td>\n",
       "      <td>0.834</td>\n",
       "      <td>0.846</td>\n",
       "      <td>0.815</td>\n",
       "      <td>0.830</td>\n",
       "      <td>0.834</td>\n",
       "    </tr>\n",
       "    <tr>\n",
       "      <th>1</th>\n",
       "      <td>Decision</td>\n",
       "      <td>0.803</td>\n",
       "      <td>0.775</td>\n",
       "      <td>0.854</td>\n",
       "      <td>0.813</td>\n",
       "      <td>0.803</td>\n",
       "    </tr>\n",
       "    <tr>\n",
       "      <th>0</th>\n",
       "      <td>SVM</td>\n",
       "      <td>0.790</td>\n",
       "      <td>0.939</td>\n",
       "      <td>0.620</td>\n",
       "      <td>0.747</td>\n",
       "      <td>0.790</td>\n",
       "    </tr>\n",
       "  </tbody>\n",
       "</table>\n",
       "</div>"
      ],
      "text/plain": [
       "     1.Algorithm  2.Accuracy  3.Precision  4.Recall   5.F1  6.ROC\n",
       "4        XGBoost       0.860        0.933     0.775  0.847  0.860\n",
       "3  GradientBoost       0.851        0.945     0.746  0.834  0.851\n",
       "2   RandomForest       0.847        0.856     0.835  0.845  0.847\n",
       "5      K-nearest       0.834        0.846     0.815  0.830  0.834\n",
       "1       Decision       0.803        0.775     0.854  0.813  0.803\n",
       "0            SVM       0.790        0.939     0.620  0.747  0.790"
      ]
     },
     "execution_count": 32,
     "metadata": {},
     "output_type": "execute_result"
    }
   ],
   "source": [
    "from sklearn.metrics import f1_score, accuracy_score, precision_score, recall_score, roc_auc_score\n",
    "\n",
    "# Create statistics with the results of training with different algorithms\n",
    "def model_fit(clfs):\n",
    "    fitted_model={}\n",
    "    model_result = pd.DataFrame()\n",
    "    # Iterate the clfs dictionary clfs\n",
    "    for model_name, model in clfs.items():\n",
    "        # Train the current model\n",
    "        model.fit(X_train,y_train)\n",
    "        # Add the current model name\n",
    "        fitted_model.update({model_name:model})\n",
    "        # Prediction of the current model \n",
    "        y_pred = model.predict(X_test)\n",
    "        model_dict = {}\n",
    "        model_dict['1.Algorithm'] = model_name\n",
    "        # Calculate the metrics\n",
    "        model_dict['2.Accuracy'] = round(accuracy_score(y_test, y_pred),3)\n",
    "        model_dict['3.Precision'] = round(precision_score(y_test, y_pred),3)\n",
    "        model_dict['4.Recall'] = round(recall_score(y_test, y_pred),3)\n",
    "        model_dict['5.F1'] = round(f1_score(y_test, y_pred),3)\n",
    "        model_dict['6.ROC'] = round(roc_auc_score(y_test, y_pred),3)\n",
    "        model_result = model_result._append(model_dict,ignore_index=True)\n",
    "    return fitted_model, model_result\n",
    "\n",
    "# Run the function model_fit(clfs) \n",
    "fitted_model, model_result = model_fit(clfs)\n",
    "\n",
    "# Display the results of the model_fit(clfs) function in a descending order\n",
    "model_result.sort_values(by=['2.Accuracy'],ascending=False)"
   ]
  },
  {
   "cell_type": "markdown",
   "id": "78f25ab1-8fb0-4ff9-a2e2-d4fb6e1b1571",
   "metadata": {},
   "source": [
    "[<a href=\"#content\">Back to top</a>]"
   ]
  },
  {
   "cell_type": "markdown",
   "id": "1d2e249f-cd20-4f0f-bd65-1d610e76a6de",
   "metadata": {},
   "source": [
    "## Cross-validation <a name=\"7\"></a>"
   ]
  },
  {
   "cell_type": "code",
   "execution_count": 34,
   "id": "ee395d01-f1b1-40fd-9927-38859122ad37",
   "metadata": {},
   "outputs": [
    {
     "data": {
      "text/html": [
       "<div>\n",
       "<style scoped>\n",
       "    .dataframe tbody tr th:only-of-type {\n",
       "        vertical-align: middle;\n",
       "    }\n",
       "\n",
       "    .dataframe tbody tr th {\n",
       "        vertical-align: top;\n",
       "    }\n",
       "\n",
       "    .dataframe thead th {\n",
       "        text-align: right;\n",
       "    }\n",
       "</style>\n",
       "<table border=\"1\" class=\"dataframe\">\n",
       "  <thead>\n",
       "    <tr style=\"text-align: right;\">\n",
       "      <th></th>\n",
       "      <th>1.Algorithm</th>\n",
       "      <th>2.Mean CV Score</th>\n",
       "      <th>3.Standard Deviation</th>\n",
       "      <th>4.List of CV Scores</th>\n",
       "    </tr>\n",
       "  </thead>\n",
       "  <tbody>\n",
       "    <tr>\n",
       "      <th>2</th>\n",
       "      <td>RandomForest</td>\n",
       "      <td>0.8923</td>\n",
       "      <td>0.0147</td>\n",
       "      <td>[0.8823, 0.8799, 0.879, 0.9119, 0.9084]</td>\n",
       "    </tr>\n",
       "    <tr>\n",
       "      <th>1</th>\n",
       "      <td>Decision</td>\n",
       "      <td>0.8864</td>\n",
       "      <td>0.0288</td>\n",
       "      <td>[0.8652, 0.8609, 0.8625, 0.9219, 0.9214]</td>\n",
       "    </tr>\n",
       "    <tr>\n",
       "      <th>5</th>\n",
       "      <td>K-nearest</td>\n",
       "      <td>0.8643</td>\n",
       "      <td>0.0127</td>\n",
       "      <td>[0.8567, 0.8527, 0.8527, 0.8805, 0.879]</td>\n",
       "    </tr>\n",
       "    <tr>\n",
       "      <th>4</th>\n",
       "      <td>XGBoost</td>\n",
       "      <td>0.8641</td>\n",
       "      <td>0.0032</td>\n",
       "      <td>[0.8667, 0.8605, 0.8602, 0.868, 0.8649]</td>\n",
       "    </tr>\n",
       "    <tr>\n",
       "      <th>3</th>\n",
       "      <td>GradientBoost</td>\n",
       "      <td>0.8532</td>\n",
       "      <td>0.0027</td>\n",
       "      <td>[0.8577, 0.8518, 0.8511, 0.8549, 0.8505]</td>\n",
       "    </tr>\n",
       "    <tr>\n",
       "      <th>0</th>\n",
       "      <td>SVM</td>\n",
       "      <td>0.7904</td>\n",
       "      <td>0.0040</td>\n",
       "      <td>[0.7975, 0.7894, 0.7866, 0.7917, 0.787]</td>\n",
       "    </tr>\n",
       "  </tbody>\n",
       "</table>\n",
       "</div>"
      ],
      "text/plain": [
       "     1.Algorithm  2.Mean CV Score  3.Standard Deviation  \\\n",
       "2   RandomForest           0.8923                0.0147   \n",
       "1       Decision           0.8864                0.0288   \n",
       "5      K-nearest           0.8643                0.0127   \n",
       "4        XGBoost           0.8641                0.0032   \n",
       "3  GradientBoost           0.8532                0.0027   \n",
       "0            SVM           0.7904                0.0040   \n",
       "\n",
       "                        4.List of CV Scores  \n",
       "2   [0.8823, 0.8799, 0.879, 0.9119, 0.9084]  \n",
       "1  [0.8652, 0.8609, 0.8625, 0.9219, 0.9214]  \n",
       "5   [0.8567, 0.8527, 0.8527, 0.8805, 0.879]  \n",
       "4   [0.8667, 0.8605, 0.8602, 0.868, 0.8649]  \n",
       "3  [0.8577, 0.8518, 0.8511, 0.8549, 0.8505]  \n",
       "0   [0.7975, 0.7894, 0.7866, 0.7917, 0.787]  "
      ]
     },
     "execution_count": 34,
     "metadata": {},
     "output_type": "execute_result"
    }
   ],
   "source": [
    "# Cross validation\n",
    "from sklearn.model_selection import cross_val_score\n",
    "import numpy as np\n",
    "\n",
    "# Create statistics with the results of the cross-validation of different estimators\n",
    "def model_CV(clfs):\n",
    "    estimated_model={}\n",
    "    model_cv_result = pd.DataFrame()\n",
    "    for model_name, model in clfs.items():\n",
    "        estimated_model.update({model_name:model})\n",
    "        scores = cross_val_score(model, X_train, y_train, cv=5, scoring='accuracy')\n",
    "        model_dict = {}\n",
    "        model_dict['1.Algorithm'] = model_name\n",
    "        model_dict['2.Mean CV Score'] = round(scores.mean(), 4)\n",
    "        model_dict['3.Standard Deviation'] = round(scores.std(), 4)\n",
    "        model_dict['4.List of CV Scores'] = np.round(scores, 4)\n",
    "        model_cv_result = model_cv_result._append(model_dict,ignore_index=True)\n",
    "    return estimated_model, model_cv_result\n",
    "\n",
    "# Run the model_CV(clsf) function\n",
    "estimated_model, model_cv_result = model_CV(clfs)\n",
    "\n",
    "# Display the results of cross_validation statistics in a descending order\n",
    "model_cv_result.sort_values(by=['2.Mean CV Score'],ascending=False)"
   ]
  },
  {
   "cell_type": "markdown",
   "id": "67c2676e-9e35-40a5-8956-5fec73c17b4c",
   "metadata": {},
   "source": [
    "[<a href=\"#content\">Back to top</a>]"
   ]
  },
  {
   "cell_type": "markdown",
   "id": "8ee23c08-2850-497e-bd67-eef8e11afd3f",
   "metadata": {},
   "source": [
    "## Scrutinize for overfitting <a name=\"8\"></a>"
   ]
  },
  {
   "cell_type": "code",
   "execution_count": 35,
   "id": "84bd5a50-82e1-4bab-934c-219f614f56b6",
   "metadata": {},
   "outputs": [
    {
     "name": "stdout",
     "output_type": "stream",
     "text": [
      ">1, train: 0.841, test: 0.839\n",
      ">2, train: 0.853, test: 0.851\n",
      ">3, train: 0.858, test: 0.855\n",
      ">4, train: 0.862, test: 0.857\n",
      ">5, train: 0.866, test: 0.858\n",
      ">6, train: 0.870, test: 0.860\n",
      ">7, train: 0.873, test: 0.861\n",
      ">8, train: 0.875, test: 0.860\n",
      ">9, train: 0.879, test: 0.859\n",
      ">10, train: 0.881, test: 0.858\n",
      ">11, train: 0.884, test: 0.856\n",
      ">12, train: 0.885, test: 0.856\n",
      ">13, train: 0.888, test: 0.853\n",
      ">14, train: 0.889, test: 0.852\n",
      ">15, train: 0.891, test: 0.851\n",
      ">16, train: 0.893, test: 0.849\n",
      ">17, train: 0.893, test: 0.848\n",
      ">18, train: 0.894, test: 0.846\n",
      ">19, train: 0.895, test: 0.846\n",
      ">20, train: 0.896, test: 0.845\n",
      ">21, train: 0.896, test: 0.845\n",
      ">22, train: 0.897, test: 0.843\n",
      ">23, train: 0.898, test: 0.842\n",
      ">24, train: 0.898, test: 0.842\n",
      ">25, train: 0.899, test: 0.841\n",
      ">26, train: 0.899, test: 0.840\n",
      ">27, train: 0.899, test: 0.840\n",
      ">28, train: 0.900, test: 0.839\n",
      ">29, train: 0.900, test: 0.840\n",
      ">30, train: 0.900, test: 0.839\n"
     ]
    }
   ],
   "source": [
    "# Evaluate random forest classifier performance on train and test sets with different tree depths\n",
    "train_scores, test_scores = list(), list()\n",
    "# define the tree depths to evaluate\n",
    "values = [i for i in range(1, 31)]\n",
    "# evaluate a decision tree for each depth\n",
    "for i in values:\n",
    " # configure the model\n",
    " model_ = XGBClassifier(max_depth=i)\n",
    " # fit model_ on the training dataset\n",
    " model_.fit(X_train, y_train)\n",
    " # evaluate on the train dataset\n",
    " train_yhat = model_.predict(X_train)\n",
    " train_acc = accuracy_score(y_train, train_yhat)\n",
    " train_scores.append(train_acc)\n",
    " # evaluate on the test dataset\n",
    " test_yhat = model_.predict(X_test)\n",
    " test_acc = accuracy_score(y_test, test_yhat)\n",
    " test_scores.append(test_acc)\n",
    " # summarize progress\n",
    " print('>%d, train: %.3f, test: %.3f' % (i, train_acc, test_acc))"
   ]
  },
  {
   "cell_type": "code",
   "execution_count": 36,
   "id": "96f3695b-c4ff-4927-aa6a-0c55002a40e6",
   "metadata": {},
   "outputs": [
    {
     "data": {
      "image/png": "[encoded data removed]",
      "text/plain": [
       "<Figure size 640x480 with 1 Axes>"
      ]
     },
     "metadata": {},
     "output_type": "display_data"
    }
   ],
   "source": [
    "import math\n",
    "import matplotlib.pyplot as plt\n",
    "\n",
    "# Set integers for x axis\n",
    "new_x_ticks = range(math.floor(min(values)), math.ceil(max(values))+1)\n",
    "plt.xticks(new_x_ticks)\n",
    "# Plot of train and test scores vs tree depth\n",
    "plt.plot(values, train_scores, '-o', label='Train')\n",
    "plt.plot(values, test_scores, '-o', label='Test')\n",
    "plt.legend()\n",
    "plt.xlabel(\"max_depth\")\n",
    "plt.ylabel(\"accuravy\")\n",
    "plt.show()"
   ]
  },
  {
   "cell_type": "code",
   "execution_count": 37,
   "id": "1a7d67f3-dc00-4df3-a876-1f3d8245f575",
   "metadata": {},
   "outputs": [
    {
     "name": "stdout",
     "output_type": "stream",
     "text": [
      "Accuracy:  0.861\n",
      "Precision:  0.931\n",
      "Recall:  0.779\n",
      "F1:  0.848\n",
      "ROC:  0.861\n"
     ]
    }
   ],
   "source": [
    "# Instantiate the estimator \n",
    "model = XGBClassifier(max_depth=7)\n",
    "\n",
    "# Train  \n",
    "model.fit(X_train, y_train)\n",
    "\n",
    "# Predict\n",
    "y_pred = model.predict(X_test)\n",
    "\n",
    "# Evaluation\n",
    "acc = round(accuracy_score(y_test, y_pred),3)\n",
    "print('Accuracy: ', acc)\n",
    "pre = round(precision_score(y_test, y_pred),3)\n",
    "print('Precision: ', pre) \n",
    "rec = round(recall_score(y_test, y_pred),3)\n",
    "print('Recall: ',rec) \n",
    "f1 = round(f1_score(y_test, y_pred),3)\n",
    "print('F1: ', f1) \n",
    "roc = round(roc_auc_score(y_test, y_pred),3) \n",
    "print('ROC: ', roc)"
   ]
  },
  {
   "cell_type": "code",
   "execution_count": 38,
   "id": "469a6e67-0470-4680-8517-95b761453ec2",
   "metadata": {},
   "outputs": [
    {
     "name": "stdout",
     "output_type": "stream",
     "text": [
      "Cross-validation scores: [0.868 0.861 0.862 0.871 0.868]\n",
      "Mean cross-validation score: 0.866\n"
     ]
    }
   ],
   "source": [
    "# Perform 5-fold cross-validation\n",
    "# model = RandomForestClassifier(max_depth=15)\n",
    "scores = cross_val_score(model, X_train, y_train, cv=5, scoring='accuracy')\n",
    "\n",
    "print(\"Cross-validation scores:\", np.round(scores, 3))\n",
    "print(\"Mean cross-validation score:\", np.round(scores.mean(), 3))"
   ]
  },
  {
   "cell_type": "markdown",
   "id": "f27f6833-37ac-4be4-98e8-db1af58b072f",
   "metadata": {},
   "source": [
    "[<a href=\"#content\">Back to top</a>]"
   ]
  },
  {
   "cell_type": "markdown",
   "id": "841f55a6-d9f5-4d7c-a8e6-5c2283f6dd3b",
   "metadata": {},
   "source": [
    "##  Hyperparameter tuning with Optuna <a name=\"8\"></a>"
   ]
  },
  {
   "cell_type": "code",
   "execution_count": 39,
   "id": "4a212464-88fe-4539-a245-033c83d5ea4c",
   "metadata": {},
   "outputs": [
    {
     "name": "stderr",
     "output_type": "stream",
     "text": [
      "[I 2025-03-04 14:47:43,838] A new study created in memory with name: no-name-73db20b3-68e9-422a-80fe-6783ef2546a6\n",
      "[I 2025-03-04 14:47:49,792] Trial 0 finished with value: -0.8553426499606458 and parameters: {'max_depth': 7, 'learning_rate': 0.032418973473002724, 'n_estimators': 258, 'subsample': 0.7492018576045569, 'colsample_bytree': 0.5585465050027555, 'gamma': 0.7730535969655623, 'reg_lambda': 0.00302206035484247, 'min_child_weight': 5}. Best is trial 0 with value: -0.8553426499606458.\n",
      "[I 2025-03-04 14:47:58,988] Trial 1 finished with value: -0.8517960759234192 and parameters: {'max_depth': 8, 'learning_rate': 0.0068980057509598, 'n_estimators': 366, 'subsample': 0.5204751503382972, 'colsample_bytree': 0.9321413525500672, 'gamma': 0.7117232133725372, 'reg_lambda': 0.0037986731048901476, 'min_child_weight': 5}. Best is trial 0 with value: -0.8553426499606458.\n",
      "[I 2025-03-04 14:48:08,406] Trial 2 finished with value: -0.8565710779713832 and parameters: {'max_depth': 10, 'learning_rate': 0.019845357723442366, 'n_estimators': 300, 'subsample': 0.8640666051677859, 'colsample_bytree': 0.8820703984953617, 'gamma': 0.21879652728800808, 'reg_lambda': 0.06771315061386726, 'min_child_weight': 4}. Best is trial 2 with value: -0.8565710779713832.\n",
      "[I 2025-03-04 14:48:13,034] Trial 3 finished with value: -0.8483683259965664 and parameters: {'max_depth': 7, 'learning_rate': 0.009397296350630028, 'n_estimators': 197, 'subsample': 0.7008167262080682, 'colsample_bytree': 0.6522039617806907, 'gamma': 0.357301847262377, 'reg_lambda': 6.104850467592491, 'min_child_weight': 4}. Best is trial 2 with value: -0.8565710779713832.\n",
      "[I 2025-03-04 14:48:23,812] Trial 4 finished with value: -0.8490717126758236 and parameters: {'max_depth': 8, 'learning_rate': 0.0035699641481313476, 'n_estimators': 413, 'subsample': 0.5641605664575355, 'colsample_bytree': 0.5086854707900067, 'gamma': 0.448256778482822, 'reg_lambda': 0.0920245054774856, 'min_child_weight': 6}. Best is trial 2 with value: -0.8565710779713832.\n",
      "[I 2025-03-04 14:48:26,890] Trial 5 finished with value: -0.8501317125189939 and parameters: {'max_depth': 3, 'learning_rate': 0.06089730691673026, 'n_estimators': 229, 'subsample': 0.6897339519575791, 'colsample_bytree': 0.8923957455784943, 'gamma': 0.24234445623942893, 'reg_lambda': 0.19213921575784043, 'min_child_weight': 9}. Best is trial 2 with value: -0.8565710779713832.\n",
      "[I 2025-03-04 14:48:33,323] Trial 6 finished with value: -0.8459808181026922 and parameters: {'max_depth': 7, 'learning_rate': 0.0010683969253202181, 'n_estimators': 281, 'subsample': 0.6861851027313115, 'colsample_bytree': 0.5805401067799438, 'gamma': 0.42190031670489386, 'reg_lambda': 6.229457152505603, 'min_child_weight': 6}. Best is trial 2 with value: -0.8565710779713832.\n",
      "[I 2025-03-04 14:48:35,332] Trial 7 finished with value: -0.84900236356681 and parameters: {'max_depth': 3, 'learning_rate': 0.07887193856950306, 'n_estimators': 158, 'subsample': 0.5075571307161892, 'colsample_bytree': 0.9947304464395468, 'gamma': 0.6995508886999965, 'reg_lambda': 0.5649684972892729, 'min_child_weight': 5}. Best is trial 2 with value: -0.8565710779713832.\n",
      "[I 2025-03-04 14:48:45,497] Trial 8 finished with value: -0.8482692596963843 and parameters: {'max_depth': 7, 'learning_rate': 0.004038131176460146, 'n_estimators': 471, 'subsample': 0.9061065022848287, 'colsample_bytree': 0.7888534660626134, 'gamma': 0.7687203016999009, 'reg_lambda': 0.1885740706671319, 'min_child_weight': 9}. Best is trial 2 with value: -0.8565710779713832.\n",
      "[I 2025-03-04 14:48:50,648] Trial 9 finished with value: -0.8560559341918493 and parameters: {'max_depth': 8, 'learning_rate': 0.035500297021221545, 'n_estimators': 199, 'subsample': 0.5614996313532741, 'colsample_bytree': 0.9938127505733143, 'gamma': 0.29377082349537614, 'reg_lambda': 0.010195082060718586, 'min_child_weight': 8}. Best is trial 2 with value: -0.8565710779713832.\n",
      "[I 2025-03-04 14:49:01,557] Trial 10 finished with value: -0.8570366819762871 and parameters: {'max_depth': 10, 'learning_rate': 0.02080434202278773, 'n_estimators': 354, 'subsample': 0.9555707938487328, 'colsample_bytree': 0.7913676354910053, 'gamma': 0.07364220786742531, 'reg_lambda': 0.04814274751195447, 'min_child_weight': 1}. Best is trial 10 with value: -0.8570366819762871.\n",
      "[I 2025-03-04 14:49:12,525] Trial 11 finished with value: -0.8570069687107713 and parameters: {'max_depth': 10, 'learning_rate': 0.01991554112091945, 'n_estimators': 343, 'subsample': 0.9743648996699901, 'colsample_bytree': 0.7933698305918048, 'gamma': 0.0058546269410365, 'reg_lambda': 0.02197241437305428, 'min_child_weight': 1}. Best is trial 10 with value: -0.8570366819762871.\n",
      "[I 2025-03-04 14:49:24,585] Trial 12 finished with value: -0.8570465913051916 and parameters: {'max_depth': 10, 'learning_rate': 0.018721848226566345, 'n_estimators': 368, 'subsample': 0.9959792711145841, 'colsample_bytree': 0.7602191842209132, 'gamma': 0.009689270590373339, 'reg_lambda': 0.019417125803720462, 'min_child_weight': 1}. Best is trial 12 with value: -0.8570465913051916.\n",
      "[I 2025-03-04 14:49:38,082] Trial 13 finished with value: -0.8570564986712694 and parameters: {'max_depth': 10, 'learning_rate': 0.01649540424222634, 'n_estimators': 415, 'subsample': 0.9831597201008648, 'colsample_bytree': 0.6921413257437489, 'gamma': 0.019176181002878767, 'reg_lambda': 0.02274403861822793, 'min_child_weight': 1}. Best is trial 13 with value: -0.8570564986712694.\n",
      "[I 2025-03-04 14:49:46,843] Trial 14 finished with value: -0.8500128339401885 and parameters: {'max_depth': 5, 'learning_rate': 0.011972201464785935, 'n_estimators': 483, 'subsample': 0.8449806102645385, 'colsample_bytree': 0.6867909475685746, 'gamma': 0.13050964339170207, 'reg_lambda': 0.001363255322381265, 'min_child_weight': 2}. Best is trial 13 with value: -0.8570564986712694.\n",
      "[I 2025-03-04 14:49:58,739] Trial 15 finished with value: -0.8505280056899981 and parameters: {'max_depth': 9, 'learning_rate': 0.003921147966239029, 'n_estimators': 410, 'subsample': 0.9933809312406574, 'colsample_bytree': 0.7065654077430137, 'gamma': 0.5873575026177155, 'reg_lambda': 0.012644255930226393, 'min_child_weight': 3}. Best is trial 13 with value: -0.8570564986712694.\n",
      "[I 2025-03-04 14:50:05,459] Trial 16 finished with value: -0.8549265513809108 and parameters: {'max_depth': 5, 'learning_rate': 0.045469306216619806, 'n_estimators': 412, 'subsample': 0.9096873395743319, 'colsample_bytree': 0.6470254184741567, 'gamma': 0.9427360711592541, 'reg_lambda': 0.7872309571298004, 'min_child_weight': 2}. Best is trial 13 with value: -0.8570564986712694.\n",
      "[I 2025-03-04 14:50:08,939] Trial 17 finished with value: -0.84995341133481 and parameters: {'max_depth': 9, 'learning_rate': 0.012944308859181995, 'n_estimators': 111, 'subsample': 0.8230471305063773, 'colsample_bytree': 0.7454494646745645, 'gamma': 0.16124479889522722, 'reg_lambda': 0.02625539255616804, 'min_child_weight': 2}. Best is trial 13 with value: -0.8570564986712694.\n",
      "[I 2025-03-04 14:50:21,859] Trial 18 finished with value: -0.8484575109381198 and parameters: {'max_depth': 9, 'learning_rate': 0.001724812720137588, 'n_estimators': 444, 'subsample': 0.9221300794470119, 'colsample_bytree': 0.843574299955516, 'gamma': 0.052912413584485174, 'reg_lambda': 0.004695067867764193, 'min_child_weight': 1}. Best is trial 13 with value: -0.8570564986712694.\n",
      "[I 2025-03-04 14:50:27,605] Trial 19 finished with value: -0.8380653763091942 and parameters: {'max_depth': 5, 'learning_rate': 0.005910134520359976, 'n_estimators': 329, 'subsample': 0.7926843527979054, 'colsample_bytree': 0.6180689220154146, 'gamma': 0.5558595526176917, 'reg_lambda': 0.7493011741787399, 'min_child_weight': 3}. Best is trial 13 with value: -0.8570564986712694.\n",
      "[I 2025-03-04 14:50:39,030] Trial 20 finished with value: -0.8568583572381868 and parameters: {'max_depth': 10, 'learning_rate': 0.028686750912721732, 'n_estimators': 380, 'subsample': 0.9992357701276721, 'colsample_bytree': 0.7269873880563583, 'gamma': 0.1624456322988725, 'reg_lambda': 0.009584701621135276, 'min_child_weight': 7}. Best is trial 13 with value: -0.8570564986712694.\n",
      "[I 2025-03-04 14:50:49,353] Trial 21 finished with value: -0.8566404231547443 and parameters: {'max_depth': 10, 'learning_rate': 0.01905619093839783, 'n_estimators': 327, 'subsample': 0.9478880898023214, 'colsample_bytree': 0.8037478918732672, 'gamma': 0.07864462715247096, 'reg_lambda': 0.031504416257047335, 'min_child_weight': 1}. Best is trial 13 with value: -0.8570564986712694.\n",
      "[I 2025-03-04 14:51:00,291] Trial 22 finished with value: -0.8562045353595955 and parameters: {'max_depth': 9, 'learning_rate': 0.015539610948623389, 'n_estimators': 382, 'subsample': 0.9474466346507724, 'colsample_bytree': 0.7675643544188859, 'gamma': 0.005323890316346717, 'reg_lambda': 0.059309022482968834, 'min_child_weight': 3}. Best is trial 13 with value: -0.8570564986712694.\n",
      "[I 2025-03-04 14:51:14,461] Trial 23 finished with value: -0.8571060335388336 and parameters: {'max_depth': 10, 'learning_rate': 0.025041766695058563, 'n_estimators': 451, 'subsample': 0.8793062592929314, 'colsample_bytree': 0.8371205883840326, 'gamma': 0.10886303678014979, 'reg_lambda': 0.15453979126600784, 'min_child_weight': 1}. Best is trial 23 with value: -0.8571060335388336.\n",
      "[I 2025-03-04 14:51:25,874] Trial 24 finished with value: -0.8570366908090057 and parameters: {'max_depth': 9, 'learning_rate': 0.0483156304680559, 'n_estimators': 438, 'subsample': 0.8897957041559538, 'colsample_bytree': 0.8500540795668491, 'gamma': 0.3054616266867325, 'reg_lambda': 0.23983466124403519, 'min_child_weight': 2}. Best is trial 23 with value: -0.8571060335388336.\n",
      "[I 2025-03-04 14:51:41,672] Trial 25 finished with value: -0.8552138708856546 and parameters: {'max_depth': 10, 'learning_rate': 0.007866827631495679, 'n_estimators': 498, 'subsample': 0.8764546204260556, 'colsample_bytree': 0.6842261462222824, 'gamma': 0.13166465217853082, 'reg_lambda': 0.3514975264910907, 'min_child_weight': 1}. Best is trial 23 with value: -0.8571060335388336.\n",
      "[I 2025-03-04 14:51:53,252] Trial 26 finished with value: -0.8566899423196975 and parameters: {'max_depth': 8, 'learning_rate': 0.02598874851044711, 'n_estimators': 449, 'subsample': 0.7900541822931025, 'colsample_bytree': 0.7432183321750288, 'gamma': 0.0011347716365937566, 'reg_lambda': 1.257702273119913, 'min_child_weight': 3}. Best is trial 23 with value: -0.8571060335388336.\n",
      "[I 2025-03-04 14:52:00,910] Trial 27 finished with value: -0.8568880901319659 and parameters: {'max_depth': 6, 'learning_rate': 0.09194617561093564, 'n_estimators': 395, 'subsample': 0.9329606957970303, 'colsample_bytree': 0.8408331346349858, 'gamma': 0.1947551765503181, 'reg_lambda': 0.12479218618586728, 'min_child_weight': 10}. Best is trial 23 with value: -0.8571060335388336.\n",
      "[I 2025-03-04 14:52:13,921] Trial 28 finished with value: -0.8565512661834666 and parameters: {'max_depth': 9, 'learning_rate': 0.013801476685070445, 'n_estimators': 466, 'subsample': 0.9973655024944298, 'colsample_bytree': 0.9344765731610337, 'gamma': 0.09305229017090733, 'reg_lambda': 0.016223126610843904, 'min_child_weight': 2}. Best is trial 23 with value: -0.8571060335388336.\n",
      "[I 2025-03-04 14:52:22,802] Trial 29 finished with value: -0.8567097570518538 and parameters: {'max_depth': 10, 'learning_rate': 0.03352565232761163, 'n_estimators': 306, 'subsample': 0.7320594155224928, 'colsample_bytree': 0.6213095673547855, 'gamma': 0.9623762697251816, 'reg_lambda': 0.0014693297463007008, 'min_child_weight': 4}. Best is trial 23 with value: -0.8571060335388336.\n",
      "[I 2025-03-04 14:52:31,289] Trial 30 finished with value: -0.8565809676720241 and parameters: {'max_depth': 6, 'learning_rate': 0.04656326841448744, 'n_estimators': 427, 'subsample': 0.96391453046211, 'colsample_bytree': 0.6972446408254296, 'gamma': 0.2599171126829002, 'reg_lambda': 0.006338496688124688, 'min_child_weight': 1}. Best is trial 23 with value: -0.8571060335388336.\n",
      "[I 2025-03-04 14:52:42,275] Trial 31 finished with value: -0.8568682783440493 and parameters: {'max_depth': 9, 'learning_rate': 0.04626750632470056, 'n_estimators': 436, 'subsample': 0.8916501394892876, 'colsample_bytree': 0.8479899950194916, 'gamma': 0.3311164503163523, 'reg_lambda': 2.186323235939382, 'min_child_weight': 2}. Best is trial 23 with value: -0.8571060335388336.\n",
      "[I 2025-03-04 14:52:51,843] Trial 32 finished with value: -0.8570465957215507 and parameters: {'max_depth': 9, 'learning_rate': 0.06468390909086909, 'n_estimators': 374, 'subsample': 0.8253759992425682, 'colsample_bytree': 0.8265792136587955, 'gamma': 0.3668457549222329, 'reg_lambda': 0.21284892189878094, 'min_child_weight': 2}. Best is trial 23 with value: -0.8571060335388336.\n",
      "[I 2025-03-04 14:53:00,812] Trial 33 finished with value: -0.8568781866915407 and parameters: {'max_depth': 8, 'learning_rate': 0.06882422089310164, 'n_estimators': 371, 'subsample': 0.8011880306865738, 'colsample_bytree': 0.9017810946996587, 'gamma': 0.4146421933704725, 'reg_lambda': 0.1187807517669209, 'min_child_weight': 1}. Best is trial 23 with value: -0.8571060335388336.\n",
      "[I 2025-03-04 14:53:13,093] Trial 34 finished with value: -0.8551841546758995 and parameters: {'max_depth': 10, 'learning_rate': 0.010085752816677488, 'n_estimators': 389, 'subsample': 0.8510795128321698, 'colsample_bytree': 0.8250080844574974, 'gamma': 0.2152073636715082, 'reg_lambda': 0.04003440841078379, 'min_child_weight': 4}. Best is trial 23 with value: -0.8571060335388336.\n",
      "[I 2025-03-04 14:53:23,941] Trial 35 finished with value: -0.8569178019253618 and parameters: {'max_depth': 10, 'learning_rate': 0.02186492983080927, 'n_estimators': 352, 'subsample': 0.753564390306869, 'colsample_bytree': 0.95473944971066, 'gamma': 0.4985483289620814, 'reg_lambda': 0.07299577602782219, 'min_child_weight': 3}. Best is trial 23 with value: -0.8571060335388336.\n",
      "[I 2025-03-04 14:53:32,100] Trial 36 finished with value: -0.8548275125602975 and parameters: {'max_depth': 9, 'learning_rate': 0.016288678710345644, 'n_estimators': 287, 'subsample': 0.8599366669830362, 'colsample_bytree': 0.8786567970412007, 'gamma': 0.056949408073539216, 'reg_lambda': 0.38457041849514667, 'min_child_weight': 2}. Best is trial 23 with value: -0.8571060335388336.\n",
      "[I 2025-03-04 14:53:42,875] Trial 37 finished with value: -0.8519149500858653 and parameters: {'max_depth': 8, 'learning_rate': 0.006043854493334235, 'n_estimators': 414, 'subsample': 0.8220796713283052, 'colsample_bytree': 0.7571425412353434, 'gamma': 0.12089556107949184, 'reg_lambda': 0.0025919953935126306, 'min_child_weight': 1}. Best is trial 23 with value: -0.8571060335388336.\n",
      "[I 2025-03-04 14:53:50,957] Trial 38 finished with value: -0.8569376230367037 and parameters: {'max_depth': 10, 'learning_rate': 0.02662321715826506, 'n_estimators': 258, 'subsample': 0.924344772429942, 'colsample_bytree': 0.8199408615112117, 'gamma': 0.6491052689469881, 'reg_lambda': 0.1059689923111782, 'min_child_weight': 2}. Best is trial 23 with value: -0.8571060335388336.\n",
      "[I 2025-03-04 14:54:01,766] Trial 39 finished with value: -0.8570862232230368 and parameters: {'max_depth': 9, 'learning_rate': 0.05771869494227367, 'n_estimators': 463, 'subsample': 0.6497078210158991, 'colsample_bytree': 0.8743303215749115, 'gamma': 0.8573036141950997, 'reg_lambda': 2.177761326924621, 'min_child_weight': 4}. Best is trial 23 with value: -0.8571060335388336.\n",
      "[I 2025-03-04 14:54:12,275] Trial 40 finished with value: -0.8571654718468231 and parameters: {'max_depth': 8, 'learning_rate': 0.05916442491751014, 'n_estimators': 463, 'subsample': 0.5965646756336787, 'colsample_bytree': 0.8769425648919185, 'gamma': 0.8803036974371662, 'reg_lambda': 2.144815344010609, 'min_child_weight': 5}. Best is trial 40 with value: -0.8571654718468231.\n",
      "[I 2025-03-04 14:54:21,132] Trial 41 finished with value: -0.8569376235274102 and parameters: {'max_depth': 8, 'learning_rate': 0.09518662585838136, 'n_estimators': 460, 'subsample': 0.6393146484220378, 'colsample_bytree': 0.872289051780721, 'gamma': 0.8823875802734361, 'reg_lambda': 4.1276626747215355, 'min_child_weight': 6}. Best is trial 40 with value: -0.8571654718468231.\n",
      "[I 2025-03-04 14:54:32,496] Trial 42 finished with value: -0.8571357580906008 and parameters: {'max_depth': 9, 'learning_rate': 0.05616390600692299, 'n_estimators': 500, 'subsample': 0.6080069122304295, 'colsample_bytree': 0.9184750650823731, 'gamma': 0.8624781324576978, 'reg_lambda': 3.173935244289922, 'min_child_weight': 5}. Best is trial 40 with value: -0.8571654718468231.\n",
      "[I 2025-03-04 14:54:43,447] Trial 43 finished with value: -0.856739485038567 and parameters: {'max_depth': 8, 'learning_rate': 0.05550108648712009, 'n_estimators': 499, 'subsample': 0.6227143793461953, 'colsample_bytree': 0.9183586203367545, 'gamma': 0.8733526868630997, 'reg_lambda': 3.2417169733760387, 'min_child_weight': 5}. Best is trial 40 with value: -0.8571654718468231.\n",
      "[I 2025-03-04 14:54:53,237] Trial 44 finished with value: -0.856888087678433 and parameters: {'max_depth': 7, 'learning_rate': 0.07254171563516099, 'n_estimators': 468, 'subsample': 0.5986039239367186, 'colsample_bytree': 0.9377648849704237, 'gamma': 0.7881127576118311, 'reg_lambda': 9.701322668331489, 'min_child_weight': 5}. Best is trial 40 with value: -0.8571654718468231.\n",
      "[I 2025-03-04 14:55:05,609] Trial 45 finished with value: -0.8569079019198826 and parameters: {'max_depth': 9, 'learning_rate': 0.040238622260816606, 'n_estimators': 481, 'subsample': 0.5898899923078191, 'colsample_bytree': 0.9794486121775056, 'gamma': 0.776151192214057, 'reg_lambda': 5.922990114578872, 'min_child_weight': 6}. Best is trial 40 with value: -0.8571654718468231.\n",
      "[I 2025-03-04 14:55:16,529] Trial 46 finished with value: -0.8565908789637549 and parameters: {'max_depth': 7, 'learning_rate': 0.03715502544554421, 'n_estimators': 486, 'subsample': 0.5470063917911188, 'colsample_bytree': 0.9059157951100527, 'gamma': 0.852269593079803, 'reg_lambda': 1.630702373993681, 'min_child_weight': 7}. Best is trial 40 with value: -0.8571654718468231.\n",
      "[I 2025-03-04 14:55:26,374] Trial 47 finished with value: -0.8567791095958135 and parameters: {'max_depth': 8, 'learning_rate': 0.057225689998263184, 'n_estimators': 456, 'subsample': 0.6662659985047685, 'colsample_bytree': 0.8678530301489575, 'gamma': 0.9115480891118344, 'reg_lambda': 2.6322045732610597, 'min_child_weight': 4}. Best is trial 40 with value: -0.8571654718468231.\n",
      "[I 2025-03-04 14:55:39,587] Trial 48 finished with value: -0.8570168755861429 and parameters: {'max_depth': 9, 'learning_rate': 0.030647380313739238, 'n_estimators': 500, 'subsample': 0.5308153623916939, 'colsample_bytree': 0.9532743341076146, 'gamma': 0.6996774665872002, 'reg_lambda': 1.1229785020554401, 'min_child_weight': 7}. Best is trial 40 with value: -0.8571654718468231.\n",
      "[I 2025-03-04 14:55:46,163] Trial 49 finished with value: -0.8518158460012757 and parameters: {'max_depth': 4, 'learning_rate': 0.024385895772083027, 'n_estimators': 426, 'subsample': 0.664344229900711, 'colsample_bytree': 0.8983537437214136, 'gamma': 0.637153983059652, 'reg_lambda': 9.14602569766663, 'min_child_weight': 5}. Best is trial 40 with value: -0.8571654718468231.\n",
      "[I 2025-03-04 14:55:56,420] Trial 50 finished with value: -0.857036692771832 and parameters: {'max_depth': 10, 'learning_rate': 0.08361707493450382, 'n_estimators': 474, 'subsample': 0.5810504664526208, 'colsample_bytree': 0.5693039252427082, 'gamma': 0.994885266294714, 'reg_lambda': 4.652782667828603, 'min_child_weight': 4}. Best is trial 40 with value: -0.8571654718468231.\n",
      "[I 2025-03-04 14:56:07,388] Trial 51 finished with value: -0.8569178068324279 and parameters: {'max_depth': 9, 'learning_rate': 0.06375299787591752, 'n_estimators': 453, 'subsample': 0.6136060418128393, 'colsample_bytree': 0.8604114155068228, 'gamma': 0.8248008033793645, 'reg_lambda': 0.4575894878120903, 'min_child_weight': 5}. Best is trial 40 with value: -0.8571654718468231.\n",
      "[I 2025-03-04 14:56:16,050] Trial 52 finished with value: -0.857086220769504 and parameters: {'max_depth': 9, 'learning_rate': 0.0714447554690996, 'n_estimators': 407, 'subsample': 0.7493251525003805, 'colsample_bytree': 0.8163904001608796, 'gamma': 0.8176110464524337, 'reg_lambda': 1.7684600449579975, 'min_child_weight': 6}. Best is trial 40 with value: -0.8571654718468231.\n",
      "[I 2025-03-04 14:56:25,226] Trial 53 finished with value: -0.8569475254957162 and parameters: {'max_depth': 9, 'learning_rate': 0.05736353080645463, 'n_estimators': 400, 'subsample': 0.7063525671510807, 'colsample_bytree': 0.7838884147283733, 'gamma': 0.8287849225497915, 'reg_lambda': 1.844740534124132, 'min_child_weight': 6}. Best is trial 40 with value: -0.8571654718468231.\n",
      "[I 2025-03-04 14:56:34,894] Trial 54 finished with value: -0.8570763192919049 and parameters: {'max_depth': 10, 'learning_rate': 0.07769861132742448, 'n_estimators': 429, 'subsample': 0.6494786649826885, 'colsample_bytree': 0.8815044116191431, 'gamma': 0.9018904305134462, 'reg_lambda': 0.8698591652354267, 'min_child_weight': 8}. Best is trial 40 with value: -0.8571654718468231.\n",
      "[I 2025-03-04 14:56:45,513] Trial 55 finished with value: -0.8568088375825269 and parameters: {'max_depth': 10, 'learning_rate': 0.0793597136203275, 'n_estimators': 425, 'subsample': 0.6438741062306033, 'colsample_bytree': 0.9168614810746823, 'gamma': 0.7282618575738242, 'reg_lambda': 0.9079029839431505, 'min_child_weight': 8}. Best is trial 40 with value: -0.8571654718468231.\n",
      "[I 2025-03-04 14:56:56,565] Trial 56 finished with value: -0.8566007878019526 and parameters: {'max_depth': 9, 'learning_rate': 0.042329325366708796, 'n_estimators': 484, 'subsample': 0.7270086056080904, 'colsample_bytree': 0.5064751759316983, 'gamma': 0.9209912413356384, 'reg_lambda': 0.6245953255696924, 'min_child_weight': 9}. Best is trial 40 with value: -0.8571654718468231.\n",
      "[I 2025-03-04 14:57:06,546] Trial 57 finished with value: -0.8570366878647662 and parameters: {'max_depth': 8, 'learning_rate': 0.07695390499100442, 'n_estimators': 445, 'subsample': 0.5706091433578341, 'colsample_bytree': 0.8832238041726931, 'gamma': 0.7420970264043871, 'reg_lambda': 1.2570626451959448, 'min_child_weight': 8}. Best is trial 40 with value: -0.8571654718468231.\n",
      "[I 2025-03-04 14:57:12,537] Trial 58 finished with value: -0.8566503187438641 and parameters: {'max_depth': 10, 'learning_rate': 0.05375016392393846, 'n_estimators': 209, 'subsample': 0.6649073195329197, 'colsample_bytree': 0.9601966762830657, 'gamma': 0.9756007180337409, 'reg_lambda': 3.9429919503726714, 'min_child_weight': 6}. Best is trial 40 with value: -0.8571654718468231.\n",
      "[I 2025-03-04 14:57:22,173] Trial 59 finished with value: -0.8572843543512813 and parameters: {'max_depth': 10, 'learning_rate': 0.0918994983877358, 'n_estimators': 434, 'subsample': 0.689795540152475, 'colsample_bytree': 0.8102927331765327, 'gamma': 0.8175915211656266, 'reg_lambda': 2.7596099386472606, 'min_child_weight': 7}. Best is trial 59 with value: -0.8572843543512813.\n",
      "[I 2025-03-04 14:57:30,724] Trial 60 finished with value: -0.8568187415136588 and parameters: {'max_depth': 9, 'learning_rate': 0.09656701736897587, 'n_estimators': 465, 'subsample': 0.7631225680201904, 'colsample_bytree': 0.8019785751463153, 'gamma': 0.8247813323037512, 'reg_lambda': 2.571612923562032, 'min_child_weight': 7}. Best is trial 59 with value: -0.8572843543512813.\n",
      "[I 2025-03-04 14:57:39,639] Trial 61 finished with value: -0.857284354841988 and parameters: {'max_depth': 10, 'learning_rate': 0.08286068640029154, 'n_estimators': 437, 'subsample': 0.6894104920496361, 'colsample_bytree': 0.810440375579387, 'gamma': 0.904200308164225, 'reg_lambda': 1.7050078223839633, 'min_child_weight': 7}. Best is trial 61 with value: -0.857284354841988.\n",
      "[I 2025-03-04 14:57:48,695] Trial 62 finished with value: -0.8568979960259243 and parameters: {'max_depth': 10, 'learning_rate': 0.0670474207690023, 'n_estimators': 405, 'subsample': 0.6895877862936043, 'colsample_bytree': 0.8138965683274617, 'gamma': 0.9425770144997567, 'reg_lambda': 5.565498231913205, 'min_child_weight': 6}. Best is trial 61 with value: -0.857284354841988.\n",
      "[I 2025-03-04 14:57:57,324] Trial 63 finished with value: -0.8567097717730514 and parameters: {'max_depth': 9, 'learning_rate': 0.09668238273576411, 'n_estimators': 444, 'subsample': 0.7107569947606404, 'colsample_bytree': 0.7791597503906164, 'gamma': 0.8035744273721169, 'reg_lambda': 1.6426480028066572, 'min_child_weight': 7}. Best is trial 61 with value: -0.857284354841988.\n",
      "[I 2025-03-04 14:58:09,163] Trial 64 finished with value: -0.857205105727495 and parameters: {'max_depth': 10, 'learning_rate': 0.054045818681534775, 'n_estimators': 485, 'subsample': 0.6131349042210459, 'colsample_bytree': 0.8313315241741346, 'gamma': 0.8676867822880268, 'reg_lambda': 2.684160612549651, 'min_child_weight': 7}. Best is trial 61 with value: -0.857284354841988.\n",
      "[I 2025-03-04 14:58:21,047] Trial 65 finished with value: -0.8571951978707103 and parameters: {'max_depth': 10, 'learning_rate': 0.05241549694819457, 'n_estimators': 486, 'subsample': 0.6127468930022537, 'colsample_bytree': 0.8336383507218444, 'gamma': 0.8628853213484808, 'reg_lambda': 3.2524687943742507, 'min_child_weight': 7}. Best is trial 61 with value: -0.857284354841988.\n",
      "[I 2025-03-04 14:58:34,592] Trial 66 finished with value: -0.8570069682200648 and parameters: {'max_depth': 10, 'learning_rate': 0.03756988040469684, 'n_estimators': 488, 'subsample': 0.6082141802163429, 'colsample_bytree': 0.8361996188106455, 'gamma': 0.7605124089901013, 'reg_lambda': 3.3320042768023077, 'min_child_weight': 7}. Best is trial 61 with value: -0.857284354841988.\n",
      "[I 2025-03-04 14:58:46,750] Trial 67 finished with value: -0.8568880906226726 and parameters: {'max_depth': 10, 'learning_rate': 0.04967324215332396, 'n_estimators': 477, 'subsample': 0.5024923227914491, 'colsample_bytree': 0.8562460037578458, 'gamma': 0.9349712000189588, 'reg_lambda': 7.937030021812256, 'min_child_weight': 8}. Best is trial 61 with value: -0.857284354841988.\n",
      "[I 2025-03-04 14:59:01,063] Trial 68 finished with value: -0.8568781827658878 and parameters: {'max_depth': 10, 'learning_rate': 0.03221106525573257, 'n_estimators': 491, 'subsample': 0.5475199126354213, 'colsample_bytree': 0.7686520883071639, 'gamma': 0.6698576929406586, 'reg_lambda': 6.68317156526315, 'min_child_weight': 9}. Best is trial 61 with value: -0.857284354841988.\n",
      "[I 2025-03-04 14:59:06,187] Trial 69 finished with value: -0.8493590120615975 and parameters: {'max_depth': 10, 'learning_rate': 0.0023042011509957464, 'n_estimators': 153, 'subsample': 0.6265144606140065, 'colsample_bytree': 0.7310782897286826, 'gamma': 0.8935767361803546, 'reg_lambda': 3.1770214761677815, 'min_child_weight': 7}. Best is trial 61 with value: -0.857284354841988.\n",
      "[I 2025-03-04 14:59:17,281] Trial 70 finished with value: -0.8568583690151449 and parameters: {'max_depth': 10, 'learning_rate': 0.08466844097827134, 'n_estimators': 453, 'subsample': 0.5782308288369108, 'colsample_bytree': 0.8002317689030449, 'gamma': 0.8511974241568192, 'reg_lambda': 1.1246979468334284, 'min_child_weight': 9}. Best is trial 61 with value: -0.857284354841988.\n",
      "[I 2025-03-04 14:59:28,225] Trial 71 finished with value: -0.8569079024105892 and parameters: {'max_depth': 10, 'learning_rate': 0.05152856283945862, 'n_estimators': 472, 'subsample': 0.6774676225775009, 'colsample_bytree': 0.8383133259944517, 'gamma': 0.8582587010923121, 'reg_lambda': 2.021968616208295, 'min_child_weight': 5}. Best is trial 61 with value: -0.857284354841988.\n",
      "[I 2025-03-04 14:59:39,550] Trial 72 finished with value: -0.8567989316885685 and parameters: {'max_depth': 10, 'learning_rate': 0.043409041488893164, 'n_estimators': 461, 'subsample': 0.6366734762797419, 'colsample_bytree': 0.858925941221211, 'gamma': 0.9565848173657844, 'reg_lambda': 2.645481828239947, 'min_child_weight': 4}. Best is trial 61 with value: -0.857284354841988.\n",
      "[I 2025-03-04 14:59:50,781] Trial 73 finished with value: -0.8569871554507351 and parameters: {'max_depth': 9, 'learning_rate': 0.06035626140113333, 'n_estimators': 474, 'subsample': 0.6141354890467168, 'colsample_bytree': 0.890479268424515, 'gamma': 0.8716030711943058, 'reg_lambda': 4.915265376687543, 'min_child_weight': 8}. Best is trial 61 with value: -0.857284354841988.\n",
      "[I 2025-03-04 15:00:00,472] Trial 74 finished with value: -0.8572348248814897 and parameters: {'max_depth': 10, 'learning_rate': 0.06581915983134709, 'n_estimators': 439, 'subsample': 0.6517849935869136, 'colsample_bytree': 0.8310019404408657, 'gamma': 0.9995259133147568, 'reg_lambda': 1.4054604472827943, 'min_child_weight': 7}. Best is trial 61 with value: -0.857284354841988.\n",
      "[I 2025-03-04 15:00:10,161] Trial 75 finished with value: -0.8571159394327921 and parameters: {'max_depth': 10, 'learning_rate': 0.08617369973484944, 'n_estimators': 436, 'subsample': 0.5971747087364825, 'colsample_bytree': 0.8263071169055238, 'gamma': 0.9901611675591813, 'reg_lambda': 0.6120638006905242, 'min_child_weight': 7}. Best is trial 61 with value: -0.857284354841988.\n",
      "[I 2025-03-04 15:00:20,002] Trial 76 finished with value: -0.8571357517114153 and parameters: {'max_depth': 10, 'learning_rate': 0.08435314234940738, 'n_estimators': 432, 'subsample': 0.5562636095586975, 'colsample_bytree': 0.5377897874482711, 'gamma': 0.9855531560927472, 'reg_lambda': 1.3221462707786236, 'min_child_weight': 7}. Best is trial 61 with value: -0.857284354841988.\n",
      "[I 2025-03-04 15:00:30,576] Trial 77 finished with value: -0.8570961305891149 and parameters: {'max_depth': 10, 'learning_rate': 0.07122053112450903, 'n_estimators': 435, 'subsample': 0.5198174782326287, 'colsample_bytree': 0.5324963604341499, 'gamma': 0.9998010206853899, 'reg_lambda': 1.5650615499140026, 'min_child_weight': 7}. Best is trial 61 with value: -0.857284354841988.\n",
      "[I 2025-03-04 15:00:40,335] Trial 78 finished with value: -0.8568682724555703 and parameters: {'max_depth': 10, 'learning_rate': 0.09896473550063918, 'n_estimators': 421, 'subsample': 0.5633839687711538, 'colsample_bytree': 0.5971309761942402, 'gamma': 0.9278404448580927, 'reg_lambda': 3.566417282934692, 'min_child_weight': 6}. Best is trial 61 with value: -0.857284354841988.\n",
      "[I 2025-03-04 15:00:50,591] Trial 79 finished with value: -0.8570069687107713 and parameters: {'max_depth': 10, 'learning_rate': 0.06254938692307323, 'n_estimators': 492, 'subsample': 0.6795879654471687, 'colsample_bytree': 0.793387535136125, 'gamma': 0.9637975875966995, 'reg_lambda': 0.3107520465101944, 'min_child_weight': 8}. Best is trial 61 with value: -0.857284354841988.\n",
      "[I 2025-03-04 15:01:00,859] Trial 80 finished with value: -0.8569871549600283 and parameters: {'max_depth': 10, 'learning_rate': 0.049117952673793014, 'n_estimators': 390, 'subsample': 0.5526304199032162, 'colsample_bytree': 0.67022607250859, 'gamma': 0.8995011760844107, 'reg_lambda': 1.3332404985518267, 'min_child_weight': 7}. Best is trial 61 with value: -0.857284354841988.\n",
      "[I 2025-03-04 15:01:10,633] Trial 81 finished with value: -0.857106033048127 and parameters: {'max_depth': 10, 'learning_rate': 0.08713547450176146, 'n_estimators': 438, 'subsample': 0.5955297255274395, 'colsample_bytree': 0.8340821642072146, 'gamma': 0.9808321676679597, 'reg_lambda': 0.5290574913400492, 'min_child_weight': 7}. Best is trial 61 with value: -0.857284354841988.\n",
      "[I 2025-03-04 15:01:19,844] Trial 82 finished with value: -0.8570465981750838 and parameters: {'max_depth': 10, 'learning_rate': 0.08412145645517145, 'n_estimators': 416, 'subsample': 0.6270903756350561, 'colsample_bytree': 0.8106878264405366, 'gamma': 0.945515959950473, 'reg_lambda': 2.5907678176274582, 'min_child_weight': 7}. Best is trial 61 with value: -0.857284354841988.\n",
      "[I 2025-03-04 15:01:30,036] Trial 83 finished with value: -0.8570366863926463 and parameters: {'max_depth': 10, 'learning_rate': 0.0687609969648534, 'n_estimators': 434, 'subsample': 0.583869278702478, 'colsample_bytree': 0.8505157677485087, 'gamma': 0.9173885918632873, 'reg_lambda': 0.7270065330643477, 'min_child_weight': 6}. Best is trial 61 with value: -0.857284354841988.\n",
      "[I 2025-03-04 15:01:39,937] Trial 84 finished with value: -0.8569475284399555 and parameters: {'max_depth': 9, 'learning_rate': 0.07625814351742403, 'n_estimators': 479, 'subsample': 0.6085242020451128, 'colsample_bytree': 0.8292138092663822, 'gamma': 0.9738252217489459, 'reg_lambda': 1.0078433133832871, 'min_child_weight': 8}. Best is trial 61 with value: -0.857284354841988.\n",
      "[I 2025-03-04 15:01:53,566] Trial 85 finished with value: -0.8500227594624106 and parameters: {'max_depth': 10, 'learning_rate': 0.0011846439764918739, 'n_estimators': 448, 'subsample': 0.5316463878665062, 'colsample_bytree': 0.7702710644070114, 'gamma': 0.8822828219860515, 'reg_lambda': 1.3547060532234345, 'min_child_weight': 7}. Best is trial 61 with value: -0.857284354841988.\n",
      "[I 2025-03-04 15:02:05,098] Trial 86 finished with value: -0.8569871525064954 and parameters: {'max_depth': 10, 'learning_rate': 0.08920957675482184, 'n_estimators': 466, 'subsample': 0.5964473268414978, 'colsample_bytree': 0.9198233532821857, 'gamma': 0.790036872281303, 'reg_lambda': 2.1782787507213235, 'min_child_weight': 7}. Best is trial 61 with value: -0.857284354841988.\n",
      "[I 2025-03-04 15:02:13,924] Trial 87 finished with value: -0.8567493924046451 and parameters: {'max_depth': 6, 'learning_rate': 0.06366905371794844, 'n_estimators': 494, 'subsample': 0.6574358742781067, 'colsample_bytree': 0.8238775608868025, 'gamma': 0.9998962362649562, 'reg_lambda': 7.177444110078935, 'min_child_weight': 6}. Best is trial 61 with value: -0.857284354841988.\n",
      "[I 2025-03-04 15:02:24,094] Trial 88 finished with value: -0.8568385533015755 and parameters: {'max_depth': 9, 'learning_rate': 0.055112354464653984, 'n_estimators': 457, 'subsample': 0.6328608109142562, 'colsample_bytree': 0.7180964679864628, 'gamma': 0.9460298039997084, 'reg_lambda': 4.782001096665514, 'min_child_weight': 5}. Best is trial 61 with value: -0.857284354841988.\n",
      "[I 2025-03-04 15:02:35,225] Trial 89 finished with value: -0.8567295830702614 and parameters: {'max_depth': 9, 'learning_rate': 0.0417804934807307, 'n_estimators': 443, 'subsample': 0.6182783301816955, 'colsample_bytree': 0.8699818706219039, 'gamma': 0.8426068636818803, 'reg_lambda': 2.8773108007596084, 'min_child_weight': 8}. Best is trial 61 with value: -0.857284354841988.\n",
      "[I 2025-03-04 15:02:47,496] Trial 90 finished with value: -0.8564521871249131 and parameters: {'max_depth': 10, 'learning_rate': 0.03539284317775026, 'n_estimators': 482, 'subsample': 0.730401012743769, 'colsample_bytree': 0.7475636867387003, 'gamma': 0.9098916334784736, 'reg_lambda': 0.7049264909679631, 'min_child_weight': 6}. Best is trial 61 with value: -0.857284354841988.\n",
      "[I 2025-03-04 15:03:00,568] Trial 91 finished with value: -0.8570862261672764 and parameters: {'max_depth': 10, 'learning_rate': 0.07375433524854368, 'n_estimators': 453, 'subsample': 0.5744768452794597, 'colsample_bytree': 0.8431981781198788, 'gamma': 0.5021469382772004, 'reg_lambda': 0.14600864511921932, 'min_child_weight': 7}. Best is trial 61 with value: -0.857284354841988.\n",
      "[I 2025-03-04 15:03:10,688] Trial 92 finished with value: -0.8569078999570564 and parameters: {'max_depth': 10, 'learning_rate': 0.06154144105788717, 'n_estimators': 414, 'subsample': 0.6000561063230131, 'colsample_bytree': 0.7839926714895356, 'gamma': 0.890410636892619, 'reg_lambda': 2.1856221496091996, 'min_child_weight': 10}. Best is trial 61 with value: -0.857284354841988.\n",
      "[I 2025-03-04 15:03:20,765] Trial 93 finished with value: -0.856789018924718 and parameters: {'max_depth': 10, 'learning_rate': 0.04685816839552279, 'n_estimators': 431, 'subsample': 0.699640923493918, 'colsample_bytree': 0.8164751649186431, 'gamma': 0.9654855452373061, 'reg_lambda': 1.4912198327670194, 'min_child_weight': 7}. Best is trial 61 with value: -0.857284354841988.\n",
      "[I 2025-03-04 15:03:29,706] Trial 94 finished with value: -0.857006966747945 and parameters: {'max_depth': 10, 'learning_rate': 0.08163722555741305, 'n_estimators': 472, 'subsample': 0.7727650295795178, 'colsample_bytree': 0.8070367743214077, 'gamma': 0.8011138864058719, 'reg_lambda': 0.972223537773395, 'min_child_weight': 8}. Best is trial 61 with value: -0.857284354841988.\n",
      "[I 2025-03-04 15:03:35,750] Trial 95 finished with value: -0.855768622538411 and parameters: {'max_depth': 3, 'learning_rate': 0.09988682838956528, 'n_estimators': 498, 'subsample': 0.5573714900400958, 'colsample_bytree': 0.8919545204154208, 'gamma': 0.5785781087667504, 'reg_lambda': 4.274060468299173, 'min_child_weight': 7}. Best is trial 61 with value: -0.857284354841988.\n",
      "[I 2025-03-04 15:03:46,093] Trial 96 finished with value: -0.8571753777407816 and parameters: {'max_depth': 10, 'learning_rate': 0.05213760052358682, 'n_estimators': 420, 'subsample': 0.7159894912362738, 'colsample_bytree': 0.8629248022935059, 'gamma': 0.7538965123415895, 'reg_lambda': 0.47308791963177577, 'min_child_weight': 6}. Best is trial 61 with value: -0.857284354841988.\n",
      "[I 2025-03-04 15:03:55,937] Trial 97 finished with value: -0.8568781788402351 and parameters: {'max_depth': 9, 'learning_rate': 0.050447149768720126, 'n_estimators': 402, 'subsample': 0.7170821897724993, 'colsample_bytree': 0.8626819114566725, 'gamma': 0.7548356347894056, 'reg_lambda': 0.4758117083656745, 'min_child_weight': 6}. Best is trial 61 with value: -0.857284354841988.\n",
      "[I 2025-03-04 15:04:04,749] Trial 98 finished with value: -0.8569178137023201 and parameters: {'max_depth': 10, 'learning_rate': 0.06879786879557565, 'n_estimators': 356, 'subsample': 0.6774092296966134, 'colsample_bytree': 0.909297764229033, 'gamma': 0.8447639073918441, 'reg_lambda': 1.9232118143939936, 'min_child_weight': 6}. Best is trial 61 with value: -0.857284354841988.\n",
      "[I 2025-03-04 15:04:11,892] Trial 99 finished with value: -0.8545104758643852 and parameters: {'max_depth': 4, 'learning_rate': 0.03968564948431535, 'n_estimators': 463, 'subsample': 0.6599312265573409, 'colsample_bytree': 0.8533401094410512, 'gamma': 0.9230532039527162, 'reg_lambda': 0.2912143630327384, 'min_child_weight': 5}. Best is trial 61 with value: -0.857284354841988.\n"
     ]
    },
    {
     "name": "stdout",
     "output_type": "stream",
     "text": [
      "Best Accuracy: 0.8544090909090909\n",
      "Best Hyperparameters: {'max_depth': 10, 'learning_rate': 0.08286068640029154, 'n_estimators': 437, 'subsample': 0.6894104920496361, 'colsample_bytree': 0.810440375579387, 'gamma': 0.904200308164225, 'reg_lambda': 1.7050078223839633, 'min_child_weight': 7}\n"
     ]
    }
   ],
   "source": [
    "# Hyperparameter tuning with optuna\n",
    "import optuna\n",
    "\n",
    "def objective(trial):\n",
    "    \"\"\"\n",
    "    Objective function for Optuna hyperparameter optimization.\n",
    "\n",
    "    Args:\n",
    "        trial: An Optuna trial object.\n",
    "\n",
    "    Returns:\n",
    "        The negative accuracy score (to be minimized).\n",
    "    \"\"\"\n",
    "    params = {\n",
    "        'max_depth': trial.suggest_int('max_depth', 3, 10),\n",
    "        'learning_rate': trial.suggest_float('learning_rate', 1e-3, 1e-1, log=True),\n",
    "        'n_estimators': trial.suggest_int('n_estimators', 100, 500),\n",
    "        'subsample': trial.suggest_float('subsample', 0.5, 1.0),\n",
    "        'colsample_bytree': trial.suggest_float('colsample_bytree', 0.5, 1.0),\n",
    "        'gamma': trial.suggest_float('gamma', 1e-3, 1),\n",
    "        'reg_lambda': trial.suggest_float('reg_lambda', 1e-3, 10.0, log=True),\n",
    "        'min_child_weight': trial.suggest_int('min_child_weight', 1, 10)\n",
    "    }\n",
    "\n",
    "    model = XGBClassifier(**params)\n",
    "    accuracy = cross_val_score(model, X_train, y_train, cv=5, scoring='accuracy').mean()\n",
    "    return -accuracy  # Optuna minimizes the objective function\n",
    "\n",
    "# Create a study object\n",
    "study = optuna.create_study(direction='minimize') \n",
    "\n",
    "# Run the optimization\n",
    "study.optimize(objective, n_trials=100)  # Adjust n_trials as needed\n",
    "\n",
    "# Get the best hyperparameters\n",
    "best_params = study.best_params\n",
    "\n",
    "# Train the model with the best hyperparameters\n",
    "best_model = XGBClassifier(**best_params)\n",
    "best_model.fit(X_train, y_train)\n",
    "\n",
    "# Evaluate the best model on the test set\n",
    "y_pred = best_model.predict(X_test)\n",
    "accuracy = accuracy_score(y_test, y_pred) \n",
    "print(f\"Best Accuracy: {accuracy}\")\n",
    "print(f\"Best Hyperparameters: {best_params}\")"
   ]
  },
  {
   "cell_type": "markdown",
   "id": "b826cc3e-5eed-4383-b555-91251adf1d42",
   "metadata": {},
   "source": [
    "[<a href=\"#content\">Back to top</a>]"
   ]
  },
  {
   "cell_type": "markdown",
   "id": "d6829836-1234-46b4-a624-841bd3c1477a",
   "metadata": {},
   "source": [
    "## Confusion matrix and classification report  <a name=\"9\"></a>"
   ]
  },
  {
   "cell_type": "code",
   "execution_count": 40,
   "id": "3b596865-213b-4656-8978-e24f9c3659e2",
   "metadata": {},
   "outputs": [
    {
     "data": {
      "image/png": "[encoded data removed]",
      "text/plain": [
       "<Figure size 640x480 with 2 Axes>"
      ]
     },
     "metadata": {},
     "output_type": "display_data"
    }
   ],
   "source": [
    "from sklearn import metrics\n",
    "from sklearn.metrics import confusion_matrix\n",
    "\n",
    "# Random forest classifier prediction\n",
    "predicted = XGBClassifier(max_depth=9).fit(X_train,y_train).predict(X_test)\n",
    "\n",
    "# Calculate the confusion matrix\n",
    "confusion_matrix = metrics.confusion_matrix(y_test, predicted)\n",
    "\n",
    "# Display confusion matrix\n",
    "cm_display = metrics.ConfusionMatrixDisplay(confusion_matrix = confusion_matrix, display_labels = [False, True])\n",
    "cm_display.plot()\n",
    "plt.show()"
   ]
  },
  {
   "cell_type": "code",
   "execution_count": 41,
   "id": "64d0aba0-d41b-49e1-a34e-43f68f2820be",
   "metadata": {},
   "outputs": [
    {
     "name": "stdout",
     "output_type": "stream",
     "text": [
      "                     precision    recall  f1-score   support\n",
      "\n",
      " Active (target 1)        0.81      0.93      0.87     11000\n",
      "Inactive (target 0)       0.92      0.79      0.85     11000\n",
      "\n",
      "           accuracy                           0.86     22000\n",
      "          macro avg       0.87      0.86      0.86     22000\n",
      "       weighted avg       0.87      0.86      0.86     22000\n",
      "\n"
     ]
    }
   ],
   "source": [
    "from sklearn.metrics import classification_report\n",
    "\n",
    "# Print the classification report \n",
    "target_names = ['Active (target 1) ', 'Inactive (target 0)']\n",
    "print(classification_report(y_test, predicted, target_names=target_names))"
   ]
  },
  {
   "cell_type": "markdown",
   "id": "5aaac897-6524-461a-96f0-c8b075c8b16b",
   "metadata": {},
   "source": [
    "[<a href=\"#content\">Back to top</a>]"
   ]
  }
 ],
 "metadata": {
  "kernelspec": {
   "display_name": "Python 3 (ipykernel)",
   "language": "python",
   "name": "python3"
  },
  "language_info": {
   "codemirror_mode": {
    "name": "ipython",
    "version": 3
   },
   "file_extension": ".py",
   "mimetype": "text/x-python",
   "name": "python",
   "nbconvert_exporter": "python",
   "pygments_lexer": "ipython3",
   "version": "3.12.2"
  }
 },
 "nbformat": 4,
 "nbformat_minor": 5
}
