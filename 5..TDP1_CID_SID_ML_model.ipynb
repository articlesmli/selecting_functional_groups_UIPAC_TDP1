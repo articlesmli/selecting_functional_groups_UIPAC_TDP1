{
 "cells": [
  {
   "cell_type": "markdown",
   "id": "18f6f4f5-a126-4c4f-950b-8cc6ffa916b6",
   "metadata": {},
   "source": [
    "# CID_SID ML model for TDP1 inhibitors\n"
   ]
  },
  {
   "cell_type": "markdown",
   "id": "1dcf9d82-657a-4656-b3f3-c8905d770694",
   "metadata": {},
   "source": [
    "### Content   <a name=\"content\"></a>"
   ]
  },
  {
   "cell_type": "markdown",
   "id": "b3551b8d-c497-4ba0-b627-ebcdd8e64a99",
   "metadata": {},
   "source": [
    "1. [Load and analyse PubChem BioAssay data](#1)\n",
    "2. [Create a data frame with CIDs and targets](#2)\n",
    "3. [Reduce the inactive compounds](#3)\n",
    "4. [Ensure equal number of both targets](#4)\n",
    "5. [Balancing](#5)\n",
    "6. [Machine Learning](#6)\n",
    "7. [Cross-validation](#7)\n",
    "8. [Scrutinize for overfitting](#8)\n",
    "9. [Hyperparameter tuning with Optuna](#9)\n",
    "10. [Confusion Matrix and Classification report](#10)"
   ]
  },
  {
   "cell_type": "markdown",
   "id": "4b14090e-b376-4ffb-86be-653a06cb09e0",
   "metadata": {},
   "source": [
    "### Load and analyse PubChem BioAssay data <a name=\"1\"></a>"
   ]
  },
  {
   "cell_type": "code",
   "execution_count": 1,
   "id": "e72d2861-3f2d-4804-803e-1c60ad3dbaaa",
   "metadata": {
    "scrolled": true
   },
   "outputs": [
    {
     "name": "stdout",
     "output_type": "stream",
     "text": [
      "Shape of the data frame:  (424003, 48)\n"
     ]
    },
    {
     "data": {
      "text/html": [
       "<div>\n",
       "<style scoped>\n",
       "    .dataframe tbody tr th:only-of-type {\n",
       "        vertical-align: middle;\n",
       "    }\n",
       "\n",
       "    .dataframe tbody tr th {\n",
       "        vertical-align: top;\n",
       "    }\n",
       "\n",
       "    .dataframe thead th {\n",
       "        text-align: right;\n",
       "    }\n",
       "</style>\n",
       "<table border=\"1\" class=\"dataframe\">\n",
       "  <thead>\n",
       "    <tr style=\"text-align: right;\">\n",
       "      <th></th>\n",
       "      <th>PUBCHEM_RESULT_TAG</th>\n",
       "      <th>PUBCHEM_SID</th>\n",
       "      <th>PUBCHEM_CID</th>\n",
       "      <th>PUBCHEM_EXT_DATASOURCE_SMILES</th>\n",
       "      <th>PUBCHEM_ACTIVITY_OUTCOME</th>\n",
       "      <th>PUBCHEM_ACTIVITY_SCORE</th>\n",
       "      <th>PUBCHEM_ACTIVITY_URL</th>\n",
       "      <th>PUBCHEM_ASSAYDATA_COMMENT</th>\n",
       "      <th>Phenotype</th>\n",
       "      <th>Potency</th>\n",
       "      <th>Efficacy</th>\n",
       "      <th>Analysis Comment</th>\n",
       "      <th>Activity_Score</th>\n",
       "      <th>Curve_Description</th>\n",
       "      <th>Fit_LogAC50</th>\n",
       "      <th>Fit_HillSlope</th>\n",
       "      <th>Fit_R2</th>\n",
       "      <th>Fit_InfiniteActivity</th>\n",
       "      <th>Fit_ZeroActivity</th>\n",
       "      <th>Fit_CurveClass</th>\n",
       "      <th>Excluded_Points</th>\n",
       "      <th>Max_Response</th>\n",
       "      <th>Activity at 0.0000295000 uM</th>\n",
       "      <th>Activity at 0.0000590000 uM</th>\n",
       "      <th>Activity at 0.0001503265 uM</th>\n",
       "      <th>Activity at 0.0002712146 uM</th>\n",
       "      <th>Activity at 0.0005895491 uM</th>\n",
       "      <th>Activity at 0.00117 uM</th>\n",
       "      <th>Activity at 0.00179 uM</th>\n",
       "      <th>Activity at 0.00299 uM</th>\n",
       "      <th>Activity at 0.00672 uM</th>\n",
       "      <th>Activity at 0.014 uM</th>\n",
       "      <th>Activity at 0.026 uM</th>\n",
       "      <th>Activity at 0.040 uM</th>\n",
       "      <th>Activity at 0.074 uM</th>\n",
       "      <th>Activity at 0.167 uM</th>\n",
       "      <th>Activity at 0.363 uM</th>\n",
       "      <th>Activity at 0.628 uM</th>\n",
       "      <th>Activity at 0.975 uM</th>\n",
       "      <th>Activity at 1.849 uM</th>\n",
       "      <th>Activity at 4.119 uM</th>\n",
       "      <th>Activity at 9.037 uM</th>\n",
       "      <th>Activity at 15.83 uM</th>\n",
       "      <th>Activity at 21.08 uM</th>\n",
       "      <th>Activity at 46.23 uM</th>\n",
       "      <th>Activity at 92.54 uM</th>\n",
       "      <th>Activity at 165.6 uM</th>\n",
       "      <th>Compound QC;;;;</th>\n",
       "    </tr>\n",
       "  </thead>\n",
       "  <tbody>\n",
       "    <tr>\n",
       "      <th>0</th>\n",
       "      <td>1</td>\n",
       "      <td>109967258</td>\n",
       "      <td>50897788.0</td>\n",
       "      <td>CNCC1=NC2=C(C=C(C=C2)Cl)C(=N1)C3=CC=CN3</td>\n",
       "      <td>Active</td>\n",
       "      <td>42</td>\n",
       "      <td>http://assay.nih.gov/htsws/rest/display/dd-tdp...</td>\n",
       "      <td>NaN</td>\n",
       "      <td>Inhibitor</td>\n",
       "      <td>14.1254</td>\n",
       "      <td>136.5470</td>\n",
       "      <td>NaN</td>\n",
       "      <td>42.0</td>\n",
       "      <td>Partial curve; high efficacy</td>\n",
       "      <td>-4.850</td>\n",
       "      <td>1.0100</td>\n",
       "      <td>0.9948</td>\n",
       "      <td>-134.4880</td>\n",
       "      <td>2.0597</td>\n",
       "      <td>-2.1</td>\n",
       "      <td>0 0 0 0 0</td>\n",
       "      <td>-106.3110</td>\n",
       "      <td>NaN</td>\n",
       "      <td>NaN</td>\n",
       "      <td>NaN</td>\n",
       "      <td>NaN</td>\n",
       "      <td>NaN</td>\n",
       "      <td>NaN</td>\n",
       "      <td>NaN</td>\n",
       "      <td>NaN</td>\n",
       "      <td>NaN</td>\n",
       "      <td>2.0597</td>\n",
       "      <td>NaN</td>\n",
       "      <td>NaN</td>\n",
       "      <td>NaN</td>\n",
       "      <td>NaN</td>\n",
       "      <td>0.5007</td>\n",
       "      <td>NaN</td>\n",
       "      <td>NaN</td>\n",
       "      <td>-17.4373</td>\n",
       "      <td>NaN</td>\n",
       "      <td>-48.5138</td>\n",
       "      <td>NaN</td>\n",
       "      <td>NaN</td>\n",
       "      <td>-106.3110</td>\n",
       "      <td>NaN</td>\n",
       "      <td>NaN</td>\n",
       "      <td>QC'd by AA Pharmaceuticals;;;</td>\n",
       "    </tr>\n",
       "    <tr>\n",
       "      <th>1</th>\n",
       "      <td>2</td>\n",
       "      <td>144206324</td>\n",
       "      <td>65628.0</td>\n",
       "      <td>CN1C2=C(C=C(C=C2)N(CCCl)CCCl)N=C1CCCC(=O)O</td>\n",
       "      <td>Active</td>\n",
       "      <td>41</td>\n",
       "      <td>http://assay.nih.gov/htsws/rest/display/dd-tdp...</td>\n",
       "      <td>NaN</td>\n",
       "      <td>Inhibitor</td>\n",
       "      <td>18.8375</td>\n",
       "      <td>82.1468</td>\n",
       "      <td>NaN</td>\n",
       "      <td>41.0</td>\n",
       "      <td>Partial curve; high efficacy</td>\n",
       "      <td>-4.725</td>\n",
       "      <td>1.9887</td>\n",
       "      <td>0.9829</td>\n",
       "      <td>-82.6097</td>\n",
       "      <td>-0.4629</td>\n",
       "      <td>-2.1</td>\n",
       "      <td>0 0 0 0 0 0 0 0</td>\n",
       "      <td>-70.9545</td>\n",
       "      <td>NaN</td>\n",
       "      <td>NaN</td>\n",
       "      <td>NaN</td>\n",
       "      <td>NaN</td>\n",
       "      <td>-3.2819</td>\n",
       "      <td>NaN</td>\n",
       "      <td>NaN</td>\n",
       "      <td>1.1641</td>\n",
       "      <td>NaN</td>\n",
       "      <td>5.8554</td>\n",
       "      <td>NaN</td>\n",
       "      <td>NaN</td>\n",
       "      <td>-1.8326</td>\n",
       "      <td>NaN</td>\n",
       "      <td>-4.9853</td>\n",
       "      <td>NaN</td>\n",
       "      <td>NaN</td>\n",
       "      <td>0.0798</td>\n",
       "      <td>NaN</td>\n",
       "      <td>-16.3921</td>\n",
       "      <td>NaN</td>\n",
       "      <td>NaN</td>\n",
       "      <td>-70.9545</td>\n",
       "      <td>NaN</td>\n",
       "      <td>NaN</td>\n",
       "      <td>QC'd by ACC;;;</td>\n",
       "    </tr>\n",
       "    <tr>\n",
       "      <th>2</th>\n",
       "      <td>3</td>\n",
       "      <td>144206325</td>\n",
       "      <td>14708.0</td>\n",
       "      <td>C[C@]12CC[C@H]3[C@H]([C@@H]1CC[C@]2(C)O)CC[C@@...</td>\n",
       "      <td>Inconclusive</td>\n",
       "      <td>10</td>\n",
       "      <td>http://assay.nih.gov/htsws/rest/display/dd-tdp...</td>\n",
       "      <td>NaN</td>\n",
       "      <td>Inhibitor</td>\n",
       "      <td>21.1360</td>\n",
       "      <td>39.2903</td>\n",
       "      <td>NaN</td>\n",
       "      <td>10.0</td>\n",
       "      <td>Single point of activity</td>\n",
       "      <td>-4.675</td>\n",
       "      <td>2.7868</td>\n",
       "      <td>0.9357</td>\n",
       "      <td>-43.4549</td>\n",
       "      <td>-4.1646</td>\n",
       "      <td>-3.0</td>\n",
       "      <td>0 0 0 0 0 0 0 0</td>\n",
       "      <td>-39.2270</td>\n",
       "      <td>NaN</td>\n",
       "      <td>NaN</td>\n",
       "      <td>NaN</td>\n",
       "      <td>NaN</td>\n",
       "      <td>-4.1400</td>\n",
       "      <td>NaN</td>\n",
       "      <td>NaN</td>\n",
       "      <td>-5.7369</td>\n",
       "      <td>NaN</td>\n",
       "      <td>0.1681</td>\n",
       "      <td>NaN</td>\n",
       "      <td>NaN</td>\n",
       "      <td>-8.2838</td>\n",
       "      <td>NaN</td>\n",
       "      <td>-6.9258</td>\n",
       "      <td>NaN</td>\n",
       "      <td>NaN</td>\n",
       "      <td>1.0188</td>\n",
       "      <td>NaN</td>\n",
       "      <td>-7.8647</td>\n",
       "      <td>NaN</td>\n",
       "      <td>NaN</td>\n",
       "      <td>-39.2270</td>\n",
       "      <td>NaN</td>\n",
       "      <td>NaN</td>\n",
       "      <td>QC'd by ACC;;;;</td>\n",
       "    </tr>\n",
       "    <tr>\n",
       "      <th>3</th>\n",
       "      <td>4</td>\n",
       "      <td>144206326</td>\n",
       "      <td>3085168.0</td>\n",
       "      <td>CC1=NC=C(C(=N1)N)CN(C=O)/C(=C(\\CCO)/SS/C(=C(/C...</td>\n",
       "      <td>Inactive</td>\n",
       "      <td>0</td>\n",
       "      <td>http://assay.nih.gov/htsws/rest/display/dd-tdp...</td>\n",
       "      <td>NaN</td>\n",
       "      <td>Inactive</td>\n",
       "      <td>NaN</td>\n",
       "      <td>NaN</td>\n",
       "      <td>NaN</td>\n",
       "      <td>0.0</td>\n",
       "      <td>NaN</td>\n",
       "      <td>NaN</td>\n",
       "      <td>4.9549</td>\n",
       "      <td>0.6177</td>\n",
       "      <td>2.0768</td>\n",
       "      <td>-13.6113</td>\n",
       "      <td>4.0</td>\n",
       "      <td>0 0 0 0 0 0 0 1</td>\n",
       "      <td>-5.7844</td>\n",
       "      <td>NaN</td>\n",
       "      <td>NaN</td>\n",
       "      <td>NaN</td>\n",
       "      <td>NaN</td>\n",
       "      <td>-11.9232</td>\n",
       "      <td>NaN</td>\n",
       "      <td>NaN</td>\n",
       "      <td>-14.5799</td>\n",
       "      <td>NaN</td>\n",
       "      <td>8.2225</td>\n",
       "      <td>NaN</td>\n",
       "      <td>NaN</td>\n",
       "      <td>4.9756</td>\n",
       "      <td>NaN</td>\n",
       "      <td>4.8996</td>\n",
       "      <td>NaN</td>\n",
       "      <td>NaN</td>\n",
       "      <td>-10.1081</td>\n",
       "      <td>NaN</td>\n",
       "      <td>3.3805</td>\n",
       "      <td>NaN</td>\n",
       "      <td>NaN</td>\n",
       "      <td>-5.7844</td>\n",
       "      <td>NaN</td>\n",
       "      <td>NaN</td>\n",
       "      <td>QC'd by ACC;;;;</td>\n",
       "    </tr>\n",
       "    <tr>\n",
       "      <th>4</th>\n",
       "      <td>5</td>\n",
       "      <td>144206327</td>\n",
       "      <td>2449.0</td>\n",
       "      <td>CC1=C(C(=O)C(=C(C1=O)C)C(CCCCCC(=O)O)C2=CC=CC=...</td>\n",
       "      <td>Inconclusive</td>\n",
       "      <td>10</td>\n",
       "      <td>http://assay.nih.gov/htsws/rest/display/dd-tdp...</td>\n",
       "      <td>NaN</td>\n",
       "      <td>Inhibitor</td>\n",
       "      <td>26.6086</td>\n",
       "      <td>77.9682</td>\n",
       "      <td>NaN</td>\n",
       "      <td>10.0</td>\n",
       "      <td>Single point of activity</td>\n",
       "      <td>-4.575</td>\n",
       "      <td>3.5117</td>\n",
       "      <td>0.9609</td>\n",
       "      <td>-82.1111</td>\n",
       "      <td>-4.1429</td>\n",
       "      <td>-3.0</td>\n",
       "      <td>0 0 0 0 0 0 0 0</td>\n",
       "      <td>-72.3569</td>\n",
       "      <td>NaN</td>\n",
       "      <td>NaN</td>\n",
       "      <td>NaN</td>\n",
       "      <td>NaN</td>\n",
       "      <td>-10.6429</td>\n",
       "      <td>NaN</td>\n",
       "      <td>NaN</td>\n",
       "      <td>-2.5661</td>\n",
       "      <td>NaN</td>\n",
       "      <td>-11.5870</td>\n",
       "      <td>NaN</td>\n",
       "      <td>NaN</td>\n",
       "      <td>-4.3838</td>\n",
       "      <td>NaN</td>\n",
       "      <td>1.2149</td>\n",
       "      <td>NaN</td>\n",
       "      <td>NaN</td>\n",
       "      <td>1.7567</td>\n",
       "      <td>NaN</td>\n",
       "      <td>-5.8883</td>\n",
       "      <td>NaN</td>\n",
       "      <td>NaN</td>\n",
       "      <td>-72.3569</td>\n",
       "      <td>NaN</td>\n",
       "      <td>NaN</td>\n",
       "      <td>QC'd by ACC;;;;</td>\n",
       "    </tr>\n",
       "  </tbody>\n",
       "</table>\n",
       "</div>"
      ],
      "text/plain": [
       "   PUBCHEM_RESULT_TAG  PUBCHEM_SID  PUBCHEM_CID  \\\n",
       "0                   1    109967258   50897788.0   \n",
       "1                   2    144206324      65628.0   \n",
       "2                   3    144206325      14708.0   \n",
       "3                   4    144206326    3085168.0   \n",
       "4                   5    144206327       2449.0   \n",
       "\n",
       "                       PUBCHEM_EXT_DATASOURCE_SMILES PUBCHEM_ACTIVITY_OUTCOME  \\\n",
       "0            CNCC1=NC2=C(C=C(C=C2)Cl)C(=N1)C3=CC=CN3                   Active   \n",
       "1         CN1C2=C(C=C(C=C2)N(CCCl)CCCl)N=C1CCCC(=O)O                   Active   \n",
       "2  C[C@]12CC[C@H]3[C@H]([C@@H]1CC[C@]2(C)O)CC[C@@...             Inconclusive   \n",
       "3  CC1=NC=C(C(=N1)N)CN(C=O)/C(=C(\\CCO)/SS/C(=C(/C...                 Inactive   \n",
       "4  CC1=C(C(=O)C(=C(C1=O)C)C(CCCCCC(=O)O)C2=CC=CC=...             Inconclusive   \n",
       "\n",
       "   PUBCHEM_ACTIVITY_SCORE                               PUBCHEM_ACTIVITY_URL  \\\n",
       "0                      42  http://assay.nih.gov/htsws/rest/display/dd-tdp...   \n",
       "1                      41  http://assay.nih.gov/htsws/rest/display/dd-tdp...   \n",
       "2                      10  http://assay.nih.gov/htsws/rest/display/dd-tdp...   \n",
       "3                       0  http://assay.nih.gov/htsws/rest/display/dd-tdp...   \n",
       "4                      10  http://assay.nih.gov/htsws/rest/display/dd-tdp...   \n",
       "\n",
       "   PUBCHEM_ASSAYDATA_COMMENT  Phenotype  Potency  Efficacy  Analysis Comment  \\\n",
       "0                        NaN  Inhibitor  14.1254  136.5470               NaN   \n",
       "1                        NaN  Inhibitor  18.8375   82.1468               NaN   \n",
       "2                        NaN  Inhibitor  21.1360   39.2903               NaN   \n",
       "3                        NaN   Inactive      NaN       NaN               NaN   \n",
       "4                        NaN  Inhibitor  26.6086   77.9682               NaN   \n",
       "\n",
       "   Activity_Score             Curve_Description  Fit_LogAC50  Fit_HillSlope  \\\n",
       "0            42.0  Partial curve; high efficacy       -4.850         1.0100   \n",
       "1            41.0  Partial curve; high efficacy       -4.725         1.9887   \n",
       "2            10.0      Single point of activity       -4.675         2.7868   \n",
       "3             0.0                           NaN          NaN         4.9549   \n",
       "4            10.0      Single point of activity       -4.575         3.5117   \n",
       "\n",
       "   Fit_R2  Fit_InfiniteActivity  Fit_ZeroActivity  Fit_CurveClass  \\\n",
       "0  0.9948             -134.4880            2.0597            -2.1   \n",
       "1  0.9829              -82.6097           -0.4629            -2.1   \n",
       "2  0.9357              -43.4549           -4.1646            -3.0   \n",
       "3  0.6177                2.0768          -13.6113             4.0   \n",
       "4  0.9609              -82.1111           -4.1429            -3.0   \n",
       "\n",
       "   Excluded_Points  Max_Response  Activity at 0.0000295000 uM  \\\n",
       "0        0 0 0 0 0     -106.3110                          NaN   \n",
       "1  0 0 0 0 0 0 0 0      -70.9545                          NaN   \n",
       "2  0 0 0 0 0 0 0 0      -39.2270                          NaN   \n",
       "3  0 0 0 0 0 0 0 1       -5.7844                          NaN   \n",
       "4  0 0 0 0 0 0 0 0      -72.3569                          NaN   \n",
       "\n",
       "   Activity at 0.0000590000 uM  Activity at 0.0001503265 uM  \\\n",
       "0                          NaN                          NaN   \n",
       "1                          NaN                          NaN   \n",
       "2                          NaN                          NaN   \n",
       "3                          NaN                          NaN   \n",
       "4                          NaN                          NaN   \n",
       "\n",
       "   Activity at 0.0002712146 uM  Activity at 0.0005895491 uM  \\\n",
       "0                          NaN                          NaN   \n",
       "1                          NaN                      -3.2819   \n",
       "2                          NaN                      -4.1400   \n",
       "3                          NaN                     -11.9232   \n",
       "4                          NaN                     -10.6429   \n",
       "\n",
       "   Activity at 0.00117 uM  Activity at 0.00179 uM  Activity at 0.00299 uM  \\\n",
       "0                     NaN                     NaN                     NaN   \n",
       "1                     NaN                     NaN                  1.1641   \n",
       "2                     NaN                     NaN                 -5.7369   \n",
       "3                     NaN                     NaN                -14.5799   \n",
       "4                     NaN                     NaN                 -2.5661   \n",
       "\n",
       "   Activity at 0.00672 uM  Activity at 0.014 uM  Activity at 0.026 uM  \\\n",
       "0                     NaN                2.0597                   NaN   \n",
       "1                     NaN                5.8554                   NaN   \n",
       "2                     NaN                0.1681                   NaN   \n",
       "3                     NaN                8.2225                   NaN   \n",
       "4                     NaN              -11.5870                   NaN   \n",
       "\n",
       "   Activity at 0.040 uM  Activity at 0.074 uM  Activity at 0.167 uM  \\\n",
       "0                   NaN                   NaN                   NaN   \n",
       "1                   NaN               -1.8326                   NaN   \n",
       "2                   NaN               -8.2838                   NaN   \n",
       "3                   NaN                4.9756                   NaN   \n",
       "4                   NaN               -4.3838                   NaN   \n",
       "\n",
       "   Activity at 0.363 uM  Activity at 0.628 uM  Activity at 0.975 uM  \\\n",
       "0                0.5007                   NaN                   NaN   \n",
       "1               -4.9853                   NaN                   NaN   \n",
       "2               -6.9258                   NaN                   NaN   \n",
       "3                4.8996                   NaN                   NaN   \n",
       "4                1.2149                   NaN                   NaN   \n",
       "\n",
       "   Activity at 1.849 uM  Activity at 4.119 uM  Activity at 9.037 uM  \\\n",
       "0              -17.4373                   NaN              -48.5138   \n",
       "1                0.0798                   NaN              -16.3921   \n",
       "2                1.0188                   NaN               -7.8647   \n",
       "3              -10.1081                   NaN                3.3805   \n",
       "4                1.7567                   NaN               -5.8883   \n",
       "\n",
       "   Activity at 15.83 uM  Activity at 21.08 uM  Activity at 46.23 uM  \\\n",
       "0                   NaN                   NaN             -106.3110   \n",
       "1                   NaN                   NaN              -70.9545   \n",
       "2                   NaN                   NaN              -39.2270   \n",
       "3                   NaN                   NaN               -5.7844   \n",
       "4                   NaN                   NaN              -72.3569   \n",
       "\n",
       "   Activity at 92.54 uM  Activity at 165.6 uM                Compound QC;;;;  \n",
       "0                   NaN                   NaN  QC'd by AA Pharmaceuticals;;;  \n",
       "1                   NaN                   NaN                 QC'd by ACC;;;  \n",
       "2                   NaN                   NaN                QC'd by ACC;;;;  \n",
       "3                   NaN                   NaN                QC'd by ACC;;;;  \n",
       "4                   NaN                   NaN                QC'd by ACC;;;;  "
      ]
     },
     "execution_count": 1,
     "metadata": {},
     "output_type": "execute_result"
    }
   ],
   "source": [
    "import pandas as pd \n",
    "\n",
    "# load the PubChem AID 686978 bioassy dataset\n",
    "# https://pubchem.ncbi.nlm.nih.gov/bioassay/686978\n",
    "df = pd.read_csv('AID_686978_data.csv', low_memory=False, on_bad_lines='skip')\n",
    "\n",
    "# To avoid truncation of some columns during data frame display\n",
    "pd.set_option('display.max_columns', None) \n",
    "\n",
    "# Display the data frame\n",
    "print('Shape of the data frame: ', df.shape)\n",
    "df.head()"
   ]
  },
  {
   "cell_type": "code",
   "execution_count": 2,
   "id": "71e6f3b5-70bd-4164-98b0-439aed626be9",
   "metadata": {},
   "outputs": [
    {
     "name": "stdout",
     "output_type": "stream",
     "text": [
      "<class 'pandas.core.frame.DataFrame'>\n",
      "RangeIndex: 424003 entries, 0 to 424002\n",
      "Data columns (total 48 columns):\n",
      " #   Column                         Non-Null Count   Dtype  \n",
      "---  ------                         --------------   -----  \n",
      " 0   PUBCHEM_RESULT_TAG             424003 non-null  int64  \n",
      " 1   PUBCHEM_SID                    424003 non-null  int64  \n",
      " 2   PUBCHEM_CID                    423975 non-null  float64\n",
      " 3   PUBCHEM_EXT_DATASOURCE_SMILES  423975 non-null  object \n",
      " 4   PUBCHEM_ACTIVITY_OUTCOME       424003 non-null  object \n",
      " 5   PUBCHEM_ACTIVITY_SCORE         424003 non-null  int64  \n",
      " 6   PUBCHEM_ACTIVITY_URL           424003 non-null  object \n",
      " 7   PUBCHEM_ASSAYDATA_COMMENT      0 non-null       float64\n",
      " 8   Phenotype                      424003 non-null  object \n",
      " 9   Potency                        175189 non-null  float64\n",
      " 10  Efficacy                       175189 non-null  float64\n",
      " 11  Analysis Comment               0 non-null       float64\n",
      " 12  Activity_Score                 423178 non-null  float64\n",
      " 13  Curve_Description              181619 non-null  object \n",
      " 14  Fit_LogAC50                    201416 non-null  float64\n",
      " 15  Fit_HillSlope                  402791 non-null  float64\n",
      " 16  Fit_R2                         402791 non-null  float64\n",
      " 17  Fit_InfiniteActivity           402791 non-null  float64\n",
      " 18  Fit_ZeroActivity               402791 non-null  float64\n",
      " 19  Fit_CurveClass                 424003 non-null  float64\n",
      " 20  Excluded_Points                402791 non-null  object \n",
      " 21  Max_Response                   424003 non-null  float64\n",
      " 22  Activity at 0.0000295000 uM    17 non-null      float64\n",
      " 23  Activity at 0.0000590000 uM    1 non-null       float64\n",
      " 24  Activity at 0.0001503265 uM    20 non-null      float64\n",
      " 25  Activity at 0.0002712146 uM    524 non-null     float64\n",
      " 26  Activity at 0.0005895491 uM    4330 non-null    float64\n",
      " 27  Activity at 0.00117 uM         2007 non-null    float64\n",
      " 28  Activity at 0.00179 uM         221 non-null     float64\n",
      " 29  Activity at 0.00299 uM         413492 non-null  float64\n",
      " 30  Activity at 0.00672 uM         2214 non-null    float64\n",
      " 31  Activity at 0.014 uM           18879 non-null   float64\n",
      " 32  Activity at 0.026 uM           369 non-null     float64\n",
      " 33  Activity at 0.040 uM           1978 non-null    float64\n",
      " 34  Activity at 0.074 uM           17897 non-null   float64\n",
      " 35  Activity at 0.167 uM           2223 non-null    float64\n",
      " 36  Activity at 0.363 uM           421561 non-null  float64\n",
      " 37  Activity at 0.628 uM           362 non-null     float64\n",
      " 38  Activity at 0.975 uM           1989 non-null    float64\n",
      " 39  Activity at 1.849 uM           420261 non-null  float64\n",
      " 40  Activity at 4.119 uM           2247 non-null    float64\n",
      " 41  Activity at 9.037 uM           420223 non-null  float64\n",
      " 42  Activity at 15.83 uM           339 non-null     float64\n",
      " 43  Activity at 21.08 uM           1868 non-null    float64\n",
      " 44  Activity at 46.23 uM           422907 non-null  float64\n",
      " 45  Activity at 92.54 uM           286 non-null     float64\n",
      " 46  Activity at 165.6 uM           13 non-null      float64\n",
      " 47  Compound QC;;;;                424003 non-null  object \n",
      "dtypes: float64(38), int64(3), object(7)\n",
      "memory usage: 155.3+ MB\n"
     ]
    }
   ],
   "source": [
    "df.info()"
   ]
  },
  {
   "cell_type": "code",
   "execution_count": 3,
   "id": "cea09354-94b6-45a4-a2d0-6fa810d86a26",
   "metadata": {},
   "outputs": [
    {
     "data": {
      "text/plain": [
       "(423975, 48)"
      ]
     },
     "execution_count": 3,
     "metadata": {},
     "output_type": "execute_result"
    }
   ],
   "source": [
    "# Remive missing values\n",
    "df = df[df['PUBCHEM_CID'].notna()]\n",
    "df.shape"
   ]
  },
  {
   "cell_type": "code",
   "execution_count": 4,
   "id": "dd9b495c-dd4b-4c61-8755-386c0f7cacd1",
   "metadata": {},
   "outputs": [
    {
     "data": {
      "text/plain": [
       "(410564, 48)"
      ]
     },
     "execution_count": 4,
     "metadata": {},
     "output_type": "execute_result"
    }
   ],
   "source": [
    "# Remove duplicates without keeping a sample ofthem and reset the indexes \n",
    "df = df.drop_duplicates(subset='PUBCHEM_CID', keep=False).reset_index(drop=True)\n",
    "df.shape"
   ]
  },
  {
   "cell_type": "code",
   "execution_count": 5,
   "id": "7db5e6c6-c93d-4587-b6b3-315a3c1852c7",
   "metadata": {},
   "outputs": [],
   "source": [
    "# Turn CID float data type into integer\n",
    "df['PUBCHEM_CID'] = df['PUBCHEM_CID'].astype('int64') "
   ]
  },
  {
   "cell_type": "code",
   "execution_count": 6,
   "id": "d80f60b9-0463-4dfc-961b-8dbf76ad0dac",
   "metadata": {},
   "outputs": [
    {
     "data": {
      "text/plain": [
       "(410564, 3)"
      ]
     },
     "execution_count": 6,
     "metadata": {},
     "output_type": "execute_result"
    }
   ],
   "source": [
    "# Filter inhibitors \n",
    "df = df[['PUBCHEM_CID',\n",
    "         'PUBCHEM_SID',\n",
    "         'PUBCHEM_ACTIVITY_OUTCOME']] \n",
    "df.shape # 646675"
   ]
  },
  {
   "cell_type": "code",
   "execution_count": 7,
   "id": "732c994f-ea48-4579-a33d-eb0a54231445",
   "metadata": {},
   "outputs": [
    {
     "name": "stdout",
     "output_type": "stream",
     "text": [
      "<class 'pandas.core.frame.DataFrame'>\n",
      "RangeIndex: 410564 entries, 0 to 410563\n",
      "Data columns (total 3 columns):\n",
      " #   Column                    Non-Null Count   Dtype \n",
      "---  ------                    --------------   ----- \n",
      " 0   PUBCHEM_CID               410564 non-null  int64 \n",
      " 1   PUBCHEM_SID               410564 non-null  int64 \n",
      " 2   PUBCHEM_ACTIVITY_OUTCOME  410564 non-null  object\n",
      "dtypes: int64(2), object(1)\n",
      "memory usage: 9.4+ MB\n"
     ]
    }
   ],
   "source": [
    "df.info()"
   ]
  },
  {
   "cell_type": "markdown",
   "id": "50d49afb-f776-4dd3-b5bc-f90124cf9507",
   "metadata": {},
   "source": [
    "[<a href=\"#content\">Back to top</a>]"
   ]
  },
  {
   "cell_type": "markdown",
   "id": "464374f5-3a0f-4beb-aaaa-85d49b376fb5",
   "metadata": {},
   "source": [
    "## Create a data frame with CIDs and targets <a name=\"2\"></a>"
   ]
  },
  {
   "cell_type": "code",
   "execution_count": 8,
   "id": "22eb165d-558c-45ab-a6ab-9fc084858f1c",
   "metadata": {},
   "outputs": [
    {
     "data": {
      "text/plain": [
       "array(['Active', 'Inconclusive', 'Inactive'], dtype=object)"
      ]
     },
     "execution_count": 8,
     "metadata": {},
     "output_type": "execute_result"
    }
   ],
   "source": [
    "df['PUBCHEM_ACTIVITY_OUTCOME'] = df['PUBCHEM_ACTIVITY_OUTCOME'].astype(str) \n",
    "# Get unique values from 'column1'\n",
    "unique_values = df['PUBCHEM_ACTIVITY_OUTCOME'].unique()\n",
    "unique_values "
   ]
  },
  {
   "cell_type": "code",
   "execution_count": 9,
   "id": "1c09ddea-4a56-4081-86df-267095aff749",
   "metadata": {
    "scrolled": true
   },
   "outputs": [
    {
     "name": "stdout",
     "output_type": "stream",
     "text": [
      "Shape of the data frame:  (410564, 3)\n"
     ]
    },
    {
     "data": {
      "text/html": [
       "<div>\n",
       "<style scoped>\n",
       "    .dataframe tbody tr th:only-of-type {\n",
       "        vertical-align: middle;\n",
       "    }\n",
       "\n",
       "    .dataframe tbody tr th {\n",
       "        vertical-align: top;\n",
       "    }\n",
       "\n",
       "    .dataframe thead th {\n",
       "        text-align: right;\n",
       "    }\n",
       "</style>\n",
       "<table border=\"1\" class=\"dataframe\">\n",
       "  <thead>\n",
       "    <tr style=\"text-align: right;\">\n",
       "      <th></th>\n",
       "      <th>CID</th>\n",
       "      <th>SID</th>\n",
       "      <th>target</th>\n",
       "    </tr>\n",
       "  </thead>\n",
       "  <tbody>\n",
       "    <tr>\n",
       "      <th>0</th>\n",
       "      <td>50897788</td>\n",
       "      <td>109967258</td>\n",
       "      <td>1</td>\n",
       "    </tr>\n",
       "    <tr>\n",
       "      <th>1</th>\n",
       "      <td>65628</td>\n",
       "      <td>144206324</td>\n",
       "      <td>1</td>\n",
       "    </tr>\n",
       "    <tr>\n",
       "      <th>2</th>\n",
       "      <td>14708</td>\n",
       "      <td>144206325</td>\n",
       "      <td>2</td>\n",
       "    </tr>\n",
       "    <tr>\n",
       "      <th>3</th>\n",
       "      <td>3085168</td>\n",
       "      <td>144206326</td>\n",
       "      <td>0</td>\n",
       "    </tr>\n",
       "    <tr>\n",
       "      <th>4</th>\n",
       "      <td>2449</td>\n",
       "      <td>144206327</td>\n",
       "      <td>2</td>\n",
       "    </tr>\n",
       "  </tbody>\n",
       "</table>\n",
       "</div>"
      ],
      "text/plain": [
       "        CID        SID target\n",
       "0  50897788  109967258      1\n",
       "1     65628  144206324      1\n",
       "2     14708  144206325      2\n",
       "3   3085168  144206326      0\n",
       "4      2449  144206327      2"
      ]
     },
     "execution_count": 9,
     "metadata": {},
     "output_type": "execute_result"
    }
   ],
   "source": [
    "df.rename(columns={'PUBCHEM_CID':'CID',\n",
    "                   'PUBCHEM_SID':'SID',\n",
    "                   'PUBCHEM_ACTIVITY_OUTCOME':'target'}, inplace=True)\n",
    "\n",
    "# Set the option to explicitly handle downcasting\n",
    "pd.set_option('future.no_silent_downcasting', True)\n",
    "\n",
    "# Create a mapping dictionary to replace string values with numeric values\n",
    "mapping = {'Active': 1, 'Inactive': 0, 'Inconclusive':2}\n",
    "\n",
    "# Replace string values with numeric values using the mapping dictionary\n",
    "df['target'] = df['target'].replace(mapping)\n",
    "\n",
    "# Display the data frame\n",
    "print('Shape of the data frame: ', df.shape)\n",
    "df.head()"
   ]
  },
  {
   "cell_type": "code",
   "execution_count": 10,
   "id": "c38a04fa-4156-4971-af7f-7f7ae6c99d65",
   "metadata": {},
   "outputs": [],
   "source": [
    "# Turn CID float data type into integer\n",
    "df['target'] = pd.to_numeric(df['target']) "
   ]
  },
  {
   "cell_type": "code",
   "execution_count": 11,
   "id": "7953101b-96a7-47c0-a697-e26e7a787113",
   "metadata": {},
   "outputs": [
    {
     "data": {
      "text/plain": [
       "target\n",
       "0    236226\n",
       "2    112867\n",
       "1     61471\n",
       "Name: count, dtype: int64"
      ]
     },
     "execution_count": 11,
     "metadata": {},
     "output_type": "execute_result"
    }
   ],
   "source": [
    "df['target'].value_counts()"
   ]
  },
  {
   "cell_type": "code",
   "execution_count": 12,
   "id": "ef23cc9d-76b2-417f-8dc5-67dbf3c6bf00",
   "metadata": {},
   "outputs": [
    {
     "data": {
      "text/plain": [
       "(61471, 3)"
      ]
     },
     "execution_count": 12,
     "metadata": {},
     "output_type": "execute_result"
    }
   ],
   "source": [
    "df_1 = df[df['target']==1]\n",
    "df_1.shape"
   ]
  },
  {
   "cell_type": "markdown",
   "id": "0d36615f-0c28-4f6f-aa58-40c7bf0c06bc",
   "metadata": {},
   "source": [
    "[<a href=\"#content\">Back to top</a>]"
   ]
  },
  {
   "cell_type": "markdown",
   "id": "0d429725-306e-47a0-b48d-359550c8d1dc",
   "metadata": {},
   "source": [
    "## Reduce the inactive compounds <a name=\"3\"></a>"
   ]
  },
  {
   "cell_type": "code",
   "execution_count": 13,
   "id": "97f6933c-fc1f-48b1-a479-70e3e5597b3a",
   "metadata": {},
   "outputs": [
    {
     "name": "stdout",
     "output_type": "stream",
     "text": [
      "Shape of the data frame:  (57859, 30)\n"
     ]
    },
    {
     "data": {
      "text/html": [
       "<div>\n",
       "<style scoped>\n",
       "    .dataframe tbody tr th:only-of-type {\n",
       "        vertical-align: middle;\n",
       "    }\n",
       "\n",
       "    .dataframe tbody tr th {\n",
       "        vertical-align: top;\n",
       "    }\n",
       "\n",
       "    .dataframe thead th {\n",
       "        text-align: right;\n",
       "    }\n",
       "</style>\n",
       "<table border=\"1\" class=\"dataframe\">\n",
       "  <thead>\n",
       "    <tr style=\"text-align: right;\">\n",
       "      <th></th>\n",
       "      <th>PUBCHEM_RESULT_TAG</th>\n",
       "      <th>SID</th>\n",
       "      <th>CID</th>\n",
       "      <th>PUBCHEM_EXT_DATASOURCE_SMILES</th>\n",
       "      <th>OUTCOME</th>\n",
       "      <th>PUBCHEM_ACTIVITY_SCORE</th>\n",
       "      <th>PUBCHEM_ACTIVITY_URL</th>\n",
       "      <th>PUBCHEM_ASSAYDATA_COMMENT</th>\n",
       "      <th>Solubility at pH 7.4_Qualifier_Mean</th>\n",
       "      <th>Solubility at pH 7.4_Mean</th>\n",
       "      <th>Test Concentration_1</th>\n",
       "      <th>Solubility at pH 7.4_Qualifier_1</th>\n",
       "      <th>Solubility at pH 7.4_1</th>\n",
       "      <th>Solubility at pH 7.4_Comment_1</th>\n",
       "      <th>Solubility of Astemizole at pH 7.4_Qualifier_1</th>\n",
       "      <th>Solubility of Astemizole at pH 7.4_1</th>\n",
       "      <th>Solubility of Sulfamethizole at pH 7.4_Qualifier_1</th>\n",
       "      <th>Solubility of Sulfamethizole at pH 7.4_1</th>\n",
       "      <th>Solubility of Imipramine HCl at pH 7.4_Qualifier_1</th>\n",
       "      <th>Solubility of Imipramine HCl at pH 7.4_1</th>\n",
       "      <th>Test Concentration_2</th>\n",
       "      <th>Solubility at pH 7.4_Qualifier_2</th>\n",
       "      <th>Solubility at pH 7.4_2</th>\n",
       "      <th>Solubility at pH 7.4_Comment_2</th>\n",
       "      <th>Solubility of Astemizole at pH 7.4_Qualifier_2</th>\n",
       "      <th>Solubility of Astemizole at pH 7.4_2</th>\n",
       "      <th>Solubility of Sulfamethizole at pH 7.4_Qualifier_2</th>\n",
       "      <th>Solubility of Sulfamethizole at pH 7.4_2</th>\n",
       "      <th>Solubility of Imipramine HCl at pH 7.4_Qualifier_2</th>\n",
       "      <th>Solubility of Imipramine HCl at pH 7.4_2</th>\n",
       "    </tr>\n",
       "  </thead>\n",
       "  <tbody>\n",
       "    <tr>\n",
       "      <th>0</th>\n",
       "      <td>1</td>\n",
       "      <td>24826444</td>\n",
       "      <td>2374148</td>\n",
       "      <td>COC1=CC=C(C=C1)OCC2=NNC(=S)N2N</td>\n",
       "      <td>Active</td>\n",
       "      <td>40</td>\n",
       "      <td>NaN</td>\n",
       "      <td>NaN</td>\n",
       "      <td>=</td>\n",
       "      <td>10.85</td>\n",
       "      <td>200</td>\n",
       "      <td>&lt;</td>\n",
       "      <td>0.1</td>\n",
       "      <td>Below LOQ</td>\n",
       "      <td>=</td>\n",
       "      <td>14.2</td>\n",
       "      <td>&gt;</td>\n",
       "      <td>40.5</td>\n",
       "      <td>&gt;</td>\n",
       "      <td>47.5</td>\n",
       "      <td>200.0</td>\n",
       "      <td>=</td>\n",
       "      <td>21.6</td>\n",
       "      <td>NaN</td>\n",
       "      <td>=</td>\n",
       "      <td>27.7</td>\n",
       "      <td>&gt;</td>\n",
       "      <td>40.5</td>\n",
       "      <td>&gt;</td>\n",
       "      <td>47.5</td>\n",
       "    </tr>\n",
       "    <tr>\n",
       "      <th>1</th>\n",
       "      <td>2</td>\n",
       "      <td>49669186</td>\n",
       "      <td>5295761</td>\n",
       "      <td>CC1=CC(=C(C=C1)NC2=NC3=CC=CC=C3N4C2=NN=C4)Cl</td>\n",
       "      <td>Inactive</td>\n",
       "      <td>0</td>\n",
       "      <td>NaN</td>\n",
       "      <td>NaN</td>\n",
       "      <td>&lt;</td>\n",
       "      <td>0.10</td>\n",
       "      <td>200</td>\n",
       "      <td>&lt;</td>\n",
       "      <td>0.1</td>\n",
       "      <td>Below LOQ</td>\n",
       "      <td>=</td>\n",
       "      <td>12.3</td>\n",
       "      <td>&gt;</td>\n",
       "      <td>40.5</td>\n",
       "      <td>&gt;</td>\n",
       "      <td>47.5</td>\n",
       "      <td>NaN</td>\n",
       "      <td>NaN</td>\n",
       "      <td>NaN</td>\n",
       "      <td>NaN</td>\n",
       "      <td>NaN</td>\n",
       "      <td>NaN</td>\n",
       "      <td>NaN</td>\n",
       "      <td>NaN</td>\n",
       "      <td>NaN</td>\n",
       "      <td>NaN</td>\n",
       "    </tr>\n",
       "    <tr>\n",
       "      <th>2</th>\n",
       "      <td>3</td>\n",
       "      <td>49669768</td>\n",
       "      <td>22431387</td>\n",
       "      <td>CC1=CC(=CC=C1)CCNC2=NC3=C(C=C(C=C3)C)N4C2=NN=C4</td>\n",
       "      <td>Inactive</td>\n",
       "      <td>0</td>\n",
       "      <td>NaN</td>\n",
       "      <td>NaN</td>\n",
       "      <td>&lt;</td>\n",
       "      <td>0.10</td>\n",
       "      <td>200</td>\n",
       "      <td>&lt;</td>\n",
       "      <td>0.1</td>\n",
       "      <td>Below LOQ</td>\n",
       "      <td>=</td>\n",
       "      <td>12.3</td>\n",
       "      <td>&gt;</td>\n",
       "      <td>40.5</td>\n",
       "      <td>&gt;</td>\n",
       "      <td>47.5</td>\n",
       "      <td>NaN</td>\n",
       "      <td>NaN</td>\n",
       "      <td>NaN</td>\n",
       "      <td>NaN</td>\n",
       "      <td>NaN</td>\n",
       "      <td>NaN</td>\n",
       "      <td>NaN</td>\n",
       "      <td>NaN</td>\n",
       "      <td>NaN</td>\n",
       "      <td>NaN</td>\n",
       "    </tr>\n",
       "    <tr>\n",
       "      <th>3</th>\n",
       "      <td>4</td>\n",
       "      <td>8139962</td>\n",
       "      <td>14296</td>\n",
       "      <td>CC1=C(N=C(C(=N1)C)C)C</td>\n",
       "      <td>Inactive</td>\n",
       "      <td>0</td>\n",
       "      <td>NaN</td>\n",
       "      <td>NaN</td>\n",
       "      <td>&lt;</td>\n",
       "      <td>0.10</td>\n",
       "      <td>200</td>\n",
       "      <td>&lt;</td>\n",
       "      <td>0.1</td>\n",
       "      <td>Below LOQ</td>\n",
       "      <td>=</td>\n",
       "      <td>11.4</td>\n",
       "      <td>&gt;</td>\n",
       "      <td>40.5</td>\n",
       "      <td>&gt;</td>\n",
       "      <td>47.5</td>\n",
       "      <td>NaN</td>\n",
       "      <td>NaN</td>\n",
       "      <td>NaN</td>\n",
       "      <td>NaN</td>\n",
       "      <td>NaN</td>\n",
       "      <td>NaN</td>\n",
       "      <td>NaN</td>\n",
       "      <td>NaN</td>\n",
       "      <td>NaN</td>\n",
       "      <td>NaN</td>\n",
       "    </tr>\n",
       "    <tr>\n",
       "      <th>4</th>\n",
       "      <td>5</td>\n",
       "      <td>24803435</td>\n",
       "      <td>865684</td>\n",
       "      <td>CC1=CC2=NC(=C(C=C2C=C1)C#N)NC3=CC=CC=C3OC</td>\n",
       "      <td>Inactive</td>\n",
       "      <td>0</td>\n",
       "      <td>NaN</td>\n",
       "      <td>NaN</td>\n",
       "      <td>&lt;</td>\n",
       "      <td>0.20</td>\n",
       "      <td>200</td>\n",
       "      <td>&lt;</td>\n",
       "      <td>0.2</td>\n",
       "      <td>Below LOQ</td>\n",
       "      <td>=</td>\n",
       "      <td>11.4</td>\n",
       "      <td>&gt;</td>\n",
       "      <td>40.5</td>\n",
       "      <td>&gt;</td>\n",
       "      <td>47.5</td>\n",
       "      <td>NaN</td>\n",
       "      <td>NaN</td>\n",
       "      <td>NaN</td>\n",
       "      <td>NaN</td>\n",
       "      <td>NaN</td>\n",
       "      <td>NaN</td>\n",
       "      <td>NaN</td>\n",
       "      <td>NaN</td>\n",
       "      <td>NaN</td>\n",
       "      <td>NaN</td>\n",
       "    </tr>\n",
       "  </tbody>\n",
       "</table>\n",
       "</div>"
      ],
      "text/plain": [
       "   PUBCHEM_RESULT_TAG       SID       CID  \\\n",
       "0                   1  24826444   2374148   \n",
       "1                   2  49669186   5295761   \n",
       "2                   3  49669768  22431387   \n",
       "3                   4   8139962     14296   \n",
       "4                   5  24803435    865684   \n",
       "\n",
       "                     PUBCHEM_EXT_DATASOURCE_SMILES   OUTCOME  \\\n",
       "0                   COC1=CC=C(C=C1)OCC2=NNC(=S)N2N    Active   \n",
       "1     CC1=CC(=C(C=C1)NC2=NC3=CC=CC=C3N4C2=NN=C4)Cl  Inactive   \n",
       "2  CC1=CC(=CC=C1)CCNC2=NC3=C(C=C(C=C3)C)N4C2=NN=C4  Inactive   \n",
       "3                            CC1=C(N=C(C(=N1)C)C)C  Inactive   \n",
       "4        CC1=CC2=NC(=C(C=C2C=C1)C#N)NC3=CC=CC=C3OC  Inactive   \n",
       "\n",
       "   PUBCHEM_ACTIVITY_SCORE  PUBCHEM_ACTIVITY_URL  PUBCHEM_ASSAYDATA_COMMENT  \\\n",
       "0                      40                   NaN                        NaN   \n",
       "1                       0                   NaN                        NaN   \n",
       "2                       0                   NaN                        NaN   \n",
       "3                       0                   NaN                        NaN   \n",
       "4                       0                   NaN                        NaN   \n",
       "\n",
       "  Solubility at pH 7.4_Qualifier_Mean  Solubility at pH 7.4_Mean  \\\n",
       "0                                   =                      10.85   \n",
       "1                                   <                       0.10   \n",
       "2                                   <                       0.10   \n",
       "3                                   <                       0.10   \n",
       "4                                   <                       0.20   \n",
       "\n",
       "   Test Concentration_1 Solubility at pH 7.4_Qualifier_1  \\\n",
       "0                   200                                <   \n",
       "1                   200                                <   \n",
       "2                   200                                <   \n",
       "3                   200                                <   \n",
       "4                   200                                <   \n",
       "\n",
       "   Solubility at pH 7.4_1 Solubility at pH 7.4_Comment_1  \\\n",
       "0                     0.1                      Below LOQ   \n",
       "1                     0.1                      Below LOQ   \n",
       "2                     0.1                      Below LOQ   \n",
       "3                     0.1                      Below LOQ   \n",
       "4                     0.2                      Below LOQ   \n",
       "\n",
       "  Solubility of Astemizole at pH 7.4_Qualifier_1  \\\n",
       "0                                              =   \n",
       "1                                              =   \n",
       "2                                              =   \n",
       "3                                              =   \n",
       "4                                              =   \n",
       "\n",
       "   Solubility of Astemizole at pH 7.4_1  \\\n",
       "0                                  14.2   \n",
       "1                                  12.3   \n",
       "2                                  12.3   \n",
       "3                                  11.4   \n",
       "4                                  11.4   \n",
       "\n",
       "  Solubility of Sulfamethizole at pH 7.4_Qualifier_1  \\\n",
       "0                                                  >   \n",
       "1                                                  >   \n",
       "2                                                  >   \n",
       "3                                                  >   \n",
       "4                                                  >   \n",
       "\n",
       "   Solubility of Sulfamethizole at pH 7.4_1  \\\n",
       "0                                      40.5   \n",
       "1                                      40.5   \n",
       "2                                      40.5   \n",
       "3                                      40.5   \n",
       "4                                      40.5   \n",
       "\n",
       "  Solubility of Imipramine HCl at pH 7.4_Qualifier_1  \\\n",
       "0                                                  >   \n",
       "1                                                  >   \n",
       "2                                                  >   \n",
       "3                                                  >   \n",
       "4                                                  >   \n",
       "\n",
       "   Solubility of Imipramine HCl at pH 7.4_1  Test Concentration_2  \\\n",
       "0                                      47.5                 200.0   \n",
       "1                                      47.5                   NaN   \n",
       "2                                      47.5                   NaN   \n",
       "3                                      47.5                   NaN   \n",
       "4                                      47.5                   NaN   \n",
       "\n",
       "  Solubility at pH 7.4_Qualifier_2  Solubility at pH 7.4_2  \\\n",
       "0                                =                    21.6   \n",
       "1                              NaN                     NaN   \n",
       "2                              NaN                     NaN   \n",
       "3                              NaN                     NaN   \n",
       "4                              NaN                     NaN   \n",
       "\n",
       "  Solubility at pH 7.4_Comment_2  \\\n",
       "0                            NaN   \n",
       "1                            NaN   \n",
       "2                            NaN   \n",
       "3                            NaN   \n",
       "4                            NaN   \n",
       "\n",
       "  Solubility of Astemizole at pH 7.4_Qualifier_2  \\\n",
       "0                                              =   \n",
       "1                                            NaN   \n",
       "2                                            NaN   \n",
       "3                                            NaN   \n",
       "4                                            NaN   \n",
       "\n",
       "   Solubility of Astemizole at pH 7.4_2  \\\n",
       "0                                  27.7   \n",
       "1                                   NaN   \n",
       "2                                   NaN   \n",
       "3                                   NaN   \n",
       "4                                   NaN   \n",
       "\n",
       "  Solubility of Sulfamethizole at pH 7.4_Qualifier_2  \\\n",
       "0                                                  >   \n",
       "1                                                NaN   \n",
       "2                                                NaN   \n",
       "3                                                NaN   \n",
       "4                                                NaN   \n",
       "\n",
       "   Solubility of Sulfamethizole at pH 7.4_2  \\\n",
       "0                                      40.5   \n",
       "1                                       NaN   \n",
       "2                                       NaN   \n",
       "3                                       NaN   \n",
       "4                                       NaN   \n",
       "\n",
       "  Solubility of Imipramine HCl at pH 7.4_Qualifier_2  \\\n",
       "0                                                  >   \n",
       "1                                                NaN   \n",
       "2                                                NaN   \n",
       "3                                                NaN   \n",
       "4                                                NaN   \n",
       "\n",
       "   Solubility of Imipramine HCl at pH 7.4_2  \n",
       "0                                      47.5  \n",
       "1                                       NaN  \n",
       "2                                       NaN  \n",
       "3                                       NaN  \n",
       "4                                       NaN  "
      ]
     },
     "execution_count": 13,
     "metadata": {},
     "output_type": "execute_result"
    }
   ],
   "source": [
    "# load the water solunility data \n",
    "df_sol = pd.read_csv('AID_1996_data.csv')\n",
    "\n",
    "# Display the data frame\n",
    "print('Shape of the data frame: ', df_sol.shape)\n",
    "df_sol.head()"
   ]
  },
  {
   "cell_type": "code",
   "execution_count": 14,
   "id": "fe454108-8d01-4817-856f-7d75855928fd",
   "metadata": {},
   "outputs": [
    {
     "name": "stdout",
     "output_type": "stream",
     "text": [
      "Shape of the data frame:  (57859,)\n"
     ]
    }
   ],
   "source": [
    "# Keep only the CID values \n",
    "df_sol = df_sol[\"CID\"]\n",
    "\n",
    "# Reduce values keeping only the common for both datasets CID\n",
    "df = pd.merge(df, df_sol, on=\"CID\")\n",
    "\n",
    "# Display the data frame\n",
    "print('Shape of the data frame: ', df_sol.shape)"
   ]
  },
  {
   "cell_type": "code",
   "execution_count": 15,
   "id": "4a78ee33-a779-4328-a4ed-cb49927f7956",
   "metadata": {},
   "outputs": [
    {
     "data": {
      "text/plain": [
       "target\n",
       "0    40405\n",
       "2    12015\n",
       "1     4430\n",
       "Name: count, dtype: int64"
      ]
     },
     "execution_count": 15,
     "metadata": {},
     "output_type": "execute_result"
    }
   ],
   "source": [
    "df['target'].value_counts()"
   ]
  },
  {
   "cell_type": "code",
   "execution_count": 16,
   "id": "09b6482e-5692-456b-9876-9d0440dfb802",
   "metadata": {},
   "outputs": [
    {
     "name": "stdout",
     "output_type": "stream",
     "text": [
      "Shape of df_0:  (40405, 3)\n"
     ]
    }
   ],
   "source": [
    "# CSeparate target 0 compounds\n",
    "df_0 = df[df['target']==0]\n",
    "\n",
    "# Display the data frame\n",
    "print('Shape of df_0: ', df_0.shape)"
   ]
  },
  {
   "cell_type": "code",
   "execution_count": 17,
   "id": "264b8006-c3ed-46ef-a856-0e09aff3a5c5",
   "metadata": {},
   "outputs": [],
   "source": [
    "# Concatenate target 1 and 0 compounds \n",
    "df = pd.concat([df_0, df_1])"
   ]
  },
  {
   "cell_type": "code",
   "execution_count": 18,
   "id": "e234190f-43ab-45fd-b143-a86f4c722cb3",
   "metadata": {},
   "outputs": [
    {
     "data": {
      "text/plain": [
       "target\n",
       "1    61471\n",
       "0    40405\n",
       "Name: count, dtype: int64"
      ]
     },
     "execution_count": 18,
     "metadata": {},
     "output_type": "execute_result"
    }
   ],
   "source": [
    "# Count each of the binary targets\n",
    "df['target'].value_counts()"
   ]
  },
  {
   "cell_type": "code",
   "execution_count": 19,
   "id": "8b76c721-1302-42da-b38a-7944a1f6722f",
   "metadata": {},
   "outputs": [
    {
     "name": "stdout",
     "output_type": "stream",
     "text": [
      "Shape of df:  (101876, 3)\n"
     ]
    }
   ],
   "source": [
    "# Shuffle the resulting data set\n",
    "df = df.sample(\n",
    "    frac = 1,        # Return entire dataframe\n",
    "    random_state=1   # Make result reproducible\n",
    "    ).reset_index(drop=True)\n",
    "\n",
    "# Display the data frame\n",
    "print('Shape of df: ', df.shape)"
   ]
  },
  {
   "cell_type": "code",
   "execution_count": 20,
   "id": "3715f319-fb2e-4006-a8d0-d26ce0be8d39",
   "metadata": {},
   "outputs": [],
   "source": [
    "df.to_csv(\"CIDs_targets_TDP1_II.csv\")"
   ]
  },
  {
   "cell_type": "markdown",
   "id": "0dbee87c-acc2-4afb-bb44-3594024cec9b",
   "metadata": {},
   "source": [
    "[<a href=\"#content\">Back to top</a>]"
   ]
  },
  {
   "cell_type": "markdown",
   "id": "ad3f599f-d02e-4692-afdb-23d76ad34924",
   "metadata": {},
   "source": [
    "## Ensure equal number of both targets  <a name=\"4\"></a>"
   ]
  },
  {
   "cell_type": "code",
   "execution_count": 21,
   "id": "f263e9cb-8a21-41dd-8fc0-27b40621f06d",
   "metadata": {},
   "outputs": [],
   "source": [
    "# Handle the part of target 1 in the test set \n",
    "df_1 = df[df['target']==1]\n",
    "\n",
    "# Shuffle the resulting data set\n",
    "df_1 = df_1.sample(\n",
    "    frac = 1,        # Return entire dataframe\n",
    "    random_state=1   # Make result reproducible\n",
    "    ).reset_index(drop=True)\n",
    "\n",
    "# Extract 2800 samples (10% of 28000 samples) of target 1 for the test set\n",
    "df_1_test = df_1.iloc[:11000] \n",
    "\n",
    "# Assign the rest of target 1 for the train set\n",
    "df_1_train = df_1.iloc[11000:]"
   ]
  },
  {
   "cell_type": "code",
   "execution_count": 22,
   "id": "f4cc648f-2fe3-4e1b-8592-a140d61e19c4",
   "metadata": {},
   "outputs": [],
   "source": [
    "# Handle the part of target 0 in the test set \n",
    "df_0 = df[df['target']==0]\n",
    "\n",
    "# Shuffle the resulting data set\n",
    "df_0 = df_0.sample(\n",
    "    frac = 1,        # Return entire dataframe\n",
    "    random_state=1   # Make result reproducible\n",
    "    ).reset_index(drop=True)\n",
    "\n",
    "## Extract 10% of the target 0 for  the test set\n",
    "df_0_test = df_0.iloc[:11000]\n",
    "\n",
    "# Assign the rest of target 1 for the train set\n",
    "df_0_train = df_0.iloc[11000:]"
   ]
  },
  {
   "cell_type": "code",
   "execution_count": 23,
   "id": "d5fce4cd-521c-4189-9cbb-3eb61c477fc0",
   "metadata": {},
   "outputs": [],
   "source": [
    "# Create train and test dataframe for further manipulation \n",
    "train = pd.concat([df_0_train, df_1_train])\n",
    "test = pd.concat([df_0_test, df_1_test])"
   ]
  },
  {
   "cell_type": "code",
   "execution_count": 24,
   "id": "0c10295e-b124-4d26-958e-8fc66bebe48c",
   "metadata": {},
   "outputs": [],
   "source": [
    "# Create the sets for ML \n",
    "X_train = train.drop(columns='target', axis=1)\n",
    "y_train = train['target']\n",
    "X_test =  test.drop(columns='target', axis=1)\n",
    "y_test = test['target']"
   ]
  },
  {
   "cell_type": "code",
   "execution_count": 25,
   "id": "3c330359-0a8d-4afc-98e2-282d7b513e60",
   "metadata": {},
   "outputs": [],
   "source": [
    "# Create the sets for Cross-validation\n",
    "X = pd.concat([X_train, X_test])\n",
    "y = pd.concat([y_train,y_test])"
   ]
  },
  {
   "cell_type": "code",
   "execution_count": 26,
   "id": "4fb8f5ce-f9cf-4e5b-ad3f-9d33d1576646",
   "metadata": {},
   "outputs": [
    {
     "data": {
      "text/plain": [
       "target\n",
       "0    11000\n",
       "1    11000\n",
       "Name: count, dtype: int64"
      ]
     },
     "execution_count": 26,
     "metadata": {},
     "output_type": "execute_result"
    }
   ],
   "source": [
    "# Check the number of classes in the y_test set\n",
    "y_test.value_counts()"
   ]
  },
  {
   "cell_type": "code",
   "execution_count": 27,
   "id": "91acb1b1-1b56-435d-bd88-1aca2e1a300d",
   "metadata": {},
   "outputs": [
    {
     "name": "stdout",
     "output_type": "stream",
     "text": [
      "Shapes:\n",
      "X_train:  (79876, 2)\n",
      "X_test:   (22000, 2)\n",
      "y_train:  (79876,)\n",
      "y_test:   (22000,)\n"
     ]
    }
   ],
   "source": [
    "# Print the shape of each part\n",
    "print(\"Shapes:\")\n",
    "print(\"X_train: \", X_train.shape)\n",
    "print(\"X_test:  \", X_test.shape)\n",
    "print(\"y_train: \", y_train.shape)\n",
    "print(\"y_test:  \", y_test.shape)"
   ]
  },
  {
   "cell_type": "markdown",
   "id": "eed12076-e74a-4a14-b34e-427920146ec8",
   "metadata": {},
   "source": [
    "[<a href=\"#content\">Back to top</a>]"
   ]
  },
  {
   "cell_type": "markdown",
   "id": "d6ad5e2e-a857-421d-bd4a-da756ab61613",
   "metadata": {},
   "source": [
    "## Balancing <a name=\"5\"></a>"
   ]
  },
  {
   "cell_type": "code",
   "execution_count": 28,
   "id": "363e232d-d081-4005-a9fc-decb38f7aebc",
   "metadata": {},
   "outputs": [
    {
     "name": "stdout",
     "output_type": "stream",
     "text": [
      "[(0, 29405), (1, 50471)]\n"
     ]
    },
    {
     "data": {
      "image/png": "[encoded data removed]",
      "text/plain": [
       "<Figure size 640x480 with 1 Axes>"
      ]
     },
     "metadata": {},
     "output_type": "display_data"
    }
   ],
   "source": [
    "from collections import Counter\n",
    "from matplotlib import pyplot as plt\n",
    "import seaborn as sns\n",
    "\n",
    "# Illustrate the imbalance between classification targets \n",
    "print(sorted(Counter(y_train).items()))\n",
    "sns.set_style('white')\n",
    "sns.set(font_scale=1)\n",
    "plt.figure()\n",
    "sns.countplot(x=y_train, hue=y_train, palette='nipy_spectral')\n",
    "plt.show()"
   ]
  },
  {
   "cell_type": "code",
   "execution_count": 29,
   "id": "27745883-29f7-4670-a3eb-5ae8f8ca893c",
   "metadata": {},
   "outputs": [
    {
     "name": "stdout",
     "output_type": "stream",
     "text": [
      "[(0, 50471), (1, 50471)]\n"
     ]
    },
    {
     "data": {
      "image/png": "[encoded data removed]",
      "text/plain": [
       "<Figure size 640x480 with 1 Axes>"
      ]
     },
     "metadata": {},
     "output_type": "display_data"
    }
   ],
   "source": [
    "# from imblearn.over_sampling import SMOTE\n",
    "from imblearn.over_sampling import RandomOverSampler\n",
    "\n",
    "# Balance targets with Synthetic Minority Oversampling Technique\n",
    "# smote = SMOTE(random_state=0)\n",
    "ros = RandomOverSampler()\n",
    "\n",
    "X_train, y_train = ros.fit_resample(X_train, y_train)\n",
    "\n",
    "# Illustrate the balance between classification targets \n",
    "print(sorted(Counter(y_train).items()))\n",
    "sns.set_style('white')\n",
    "sns.set(font_scale=1)\n",
    "plt.figure()\n",
    "sns.countplot(x=y_train, hue=y_train,palette='nipy_spectral')\n",
    "plt.show()"
   ]
  },
  {
   "cell_type": "code",
   "execution_count": 30,
   "id": "81a962eb-04fc-412e-8513-25a4f2850d2d",
   "metadata": {},
   "outputs": [
    {
     "name": "stdout",
     "output_type": "stream",
     "text": [
      "Shapes:\n",
      "X_train:  (100942, 2)\n",
      "X_test:   (22000, 2)\n",
      "y_train:  (100942,)\n",
      "y_test:   (22000,)\n"
     ]
    }
   ],
   "source": [
    "# Print the shape of each part\n",
    "print(\"Shapes:\")\n",
    "print(\"X_train: \", X_train.shape)\n",
    "print(\"X_test:  \", X_test.shape)\n",
    "print(\"y_train: \", y_train.shape)\n",
    "print(\"y_test:  \", y_test.shape)"
   ]
  },
  {
   "cell_type": "markdown",
   "id": "4a42e6dd-1c1b-4da1-a9bf-24bf352f8f73",
   "metadata": {},
   "source": [
    "[<a href=\"#content\">Back to top</a>]"
   ]
  },
  {
   "cell_type": "markdown",
   "id": "1b37a86e-120d-4c74-9c45-6e30dc6165b7",
   "metadata": {},
   "source": [
    "## Machine Leraning  <a name=\"6\"></a>"
   ]
  },
  {
   "cell_type": "code",
   "execution_count": 31,
   "id": "3e05521c-8b0b-4a66-a4a7-6f2cfa6e2396",
   "metadata": {},
   "outputs": [],
   "source": [
    "from sklearn.svm import SVC\n",
    "from sklearn.tree import DecisionTreeClassifier\n",
    "from sklearn.ensemble import RandomForestClassifier\n",
    "from sklearn.ensemble import GradientBoostingClassifier\n",
    "from xgboost import XGBClassifier\n",
    "from sklearn.neighbors import KNeighborsClassifier\n",
    "\n",
    "# Instantiate the algorithms that will be used, placing them in a dictionary \n",
    "clfs = {\"SVM\":SVC(kernel='rbf', C=1, probability=True),\n",
    "        \"Decision\":DecisionTreeClassifier(), \n",
    "        \"RandomForest\":RandomForestClassifier(), \n",
    "        \"GradientBoost\":GradientBoostingClassifier(),\n",
    "        \"XGBoost\":XGBClassifier(verbosity=0),\n",
    "       \"K-nearest\": KNeighborsClassifier(n_neighbors=3)\n",
    "       }"
   ]
  },
  {
   "cell_type": "code",
   "execution_count": 32,
   "id": "6b01eee4-b68e-474a-8fa9-2d82370a1300",
   "metadata": {},
   "outputs": [
    {
     "data": {
      "text/html": [
       "<div>\n",
       "<style scoped>\n",
       "    .dataframe tbody tr th:only-of-type {\n",
       "        vertical-align: middle;\n",
       "    }\n",
       "\n",
       "    .dataframe tbody tr th {\n",
       "        vertical-align: top;\n",
       "    }\n",
       "\n",
       "    .dataframe thead th {\n",
       "        text-align: right;\n",
       "    }\n",
       "</style>\n",
       "<table border=\"1\" class=\"dataframe\">\n",
       "  <thead>\n",
       "    <tr style=\"text-align: right;\">\n",
       "      <th></th>\n",
       "      <th>1.Algorithm</th>\n",
       "      <th>2.Accuracy</th>\n",
       "      <th>3.Precision</th>\n",
       "      <th>4.Recall</th>\n",
       "      <th>5.F1</th>\n",
       "      <th>6.ROC</th>\n",
       "    </tr>\n",
       "  </thead>\n",
       "  <tbody>\n",
       "    <tr>\n",
       "      <th>4</th>\n",
       "      <td>XGBoost</td>\n",
       "      <td>0.861</td>\n",
       "      <td>0.931</td>\n",
       "      <td>0.781</td>\n",
       "      <td>0.849</td>\n",
       "      <td>0.861</td>\n",
       "    </tr>\n",
       "    <tr>\n",
       "      <th>3</th>\n",
       "      <td>GradientBoost</td>\n",
       "      <td>0.852</td>\n",
       "      <td>0.948</td>\n",
       "      <td>0.745</td>\n",
       "      <td>0.834</td>\n",
       "      <td>0.852</td>\n",
       "    </tr>\n",
       "    <tr>\n",
       "      <th>2</th>\n",
       "      <td>RandomForest</td>\n",
       "      <td>0.845</td>\n",
       "      <td>0.852</td>\n",
       "      <td>0.835</td>\n",
       "      <td>0.844</td>\n",
       "      <td>0.845</td>\n",
       "    </tr>\n",
       "    <tr>\n",
       "      <th>5</th>\n",
       "      <td>K-nearest</td>\n",
       "      <td>0.834</td>\n",
       "      <td>0.847</td>\n",
       "      <td>0.814</td>\n",
       "      <td>0.830</td>\n",
       "      <td>0.834</td>\n",
       "    </tr>\n",
       "    <tr>\n",
       "      <th>1</th>\n",
       "      <td>Decision</td>\n",
       "      <td>0.802</td>\n",
       "      <td>0.774</td>\n",
       "      <td>0.853</td>\n",
       "      <td>0.812</td>\n",
       "      <td>0.802</td>\n",
       "    </tr>\n",
       "    <tr>\n",
       "      <th>0</th>\n",
       "      <td>SVM</td>\n",
       "      <td>0.789</td>\n",
       "      <td>0.909</td>\n",
       "      <td>0.642</td>\n",
       "      <td>0.752</td>\n",
       "      <td>0.789</td>\n",
       "    </tr>\n",
       "  </tbody>\n",
       "</table>\n",
       "</div>"
      ],
      "text/plain": [
       "     1.Algorithm  2.Accuracy  3.Precision  4.Recall   5.F1  6.ROC\n",
       "4        XGBoost       0.861        0.931     0.781  0.849  0.861\n",
       "3  GradientBoost       0.852        0.948     0.745  0.834  0.852\n",
       "2   RandomForest       0.845        0.852     0.835  0.844  0.845\n",
       "5      K-nearest       0.834        0.847     0.814  0.830  0.834\n",
       "1       Decision       0.802        0.774     0.853  0.812  0.802\n",
       "0            SVM       0.789        0.909     0.642  0.752  0.789"
      ]
     },
     "execution_count": 32,
     "metadata": {},
     "output_type": "execute_result"
    }
   ],
   "source": [
    "from sklearn.metrics import f1_score, accuracy_score, precision_score, recall_score, roc_auc_score\n",
    "\n",
    "# Create statistics with the results of training with different algorithms\n",
    "def model_fit(clfs):\n",
    "    fitted_model={}\n",
    "    model_result = pd.DataFrame()\n",
    "    # Iterate the clfs dictionary clfs\n",
    "    for model_name, model in clfs.items():\n",
    "        # Train the current model\n",
    "        model.fit(X_train,y_train)\n",
    "        # Add the current model name\n",
    "        fitted_model.update({model_name:model})\n",
    "        # Prediction of the current model \n",
    "        y_pred = model.predict(X_test)\n",
    "        model_dict = {}\n",
    "        model_dict['1.Algorithm'] = model_name\n",
    "        # Calculate the metrics\n",
    "        model_dict['2.Accuracy'] = round(accuracy_score(y_test, y_pred),3)\n",
    "        model_dict['3.Precision'] = round(precision_score(y_test, y_pred),3)\n",
    "        model_dict['4.Recall'] = round(recall_score(y_test, y_pred),3)\n",
    "        model_dict['5.F1'] = round(f1_score(y_test, y_pred),3)\n",
    "        model_dict['6.ROC'] = round(roc_auc_score(y_test, y_pred),3)\n",
    "        model_result = model_result._append(model_dict,ignore_index=True)\n",
    "    return fitted_model, model_result\n",
    "\n",
    "# Run the function model_fit(clfs) \n",
    "fitted_model, model_result = model_fit(clfs)\n",
    "\n",
    "# Display the results of the model_fit(clfs) function in a descending order\n",
    "model_result.sort_values(by=['2.Accuracy'],ascending=False)"
   ]
  },
  {
   "cell_type": "markdown",
   "id": "78f25ab1-8fb0-4ff9-a2e2-d4fb6e1b1571",
   "metadata": {},
   "source": [
    "[<a href=\"#content\">Back to top</a>]"
   ]
  },
  {
   "cell_type": "markdown",
   "id": "1d2e249f-cd20-4f0f-bd65-1d610e76a6de",
   "metadata": {},
   "source": [
    "## Cross-validation <a name=\"7\"></a>"
   ]
  },
  {
   "cell_type": "code",
   "execution_count": 33,
   "id": "ee395d01-f1b1-40fd-9927-38859122ad37",
   "metadata": {},
   "outputs": [
    {
     "data": {
      "text/html": [
       "<div>\n",
       "<style scoped>\n",
       "    .dataframe tbody tr th:only-of-type {\n",
       "        vertical-align: middle;\n",
       "    }\n",
       "\n",
       "    .dataframe tbody tr th {\n",
       "        vertical-align: top;\n",
       "    }\n",
       "\n",
       "    .dataframe thead th {\n",
       "        text-align: right;\n",
       "    }\n",
       "</style>\n",
       "<table border=\"1\" class=\"dataframe\">\n",
       "  <thead>\n",
       "    <tr style=\"text-align: right;\">\n",
       "      <th></th>\n",
       "      <th>1.Algorithm</th>\n",
       "      <th>2.Mean CV Score</th>\n",
       "      <th>3.Standard Deviation</th>\n",
       "      <th>4.List of CV Scores</th>\n",
       "    </tr>\n",
       "  </thead>\n",
       "  <tbody>\n",
       "    <tr>\n",
       "      <th>4</th>\n",
       "      <td>XGBoost</td>\n",
       "      <td>0.8487</td>\n",
       "      <td>0.0029</td>\n",
       "      <td>[0.8511, 0.843, 0.8496, 0.85, 0.8499]</td>\n",
       "    </tr>\n",
       "    <tr>\n",
       "      <th>2</th>\n",
       "      <td>RandomForest</td>\n",
       "      <td>0.8418</td>\n",
       "      <td>0.0042</td>\n",
       "      <td>[0.8456, 0.8338, 0.8421, 0.8436, 0.8441]</td>\n",
       "    </tr>\n",
       "    <tr>\n",
       "      <th>3</th>\n",
       "      <td>GradientBoost</td>\n",
       "      <td>0.8367</td>\n",
       "      <td>0.0023</td>\n",
       "      <td>[0.8404, 0.8352, 0.8385, 0.8345, 0.8348]</td>\n",
       "    </tr>\n",
       "    <tr>\n",
       "      <th>5</th>\n",
       "      <td>K-nearest</td>\n",
       "      <td>0.8294</td>\n",
       "      <td>0.0037</td>\n",
       "      <td>[0.8341, 0.8227, 0.8294, 0.8304, 0.8307]</td>\n",
       "    </tr>\n",
       "    <tr>\n",
       "      <th>1</th>\n",
       "      <td>Decision</td>\n",
       "      <td>0.8161</td>\n",
       "      <td>0.0030</td>\n",
       "      <td>[0.8189, 0.8125, 0.8143, 0.8144, 0.8204]</td>\n",
       "    </tr>\n",
       "    <tr>\n",
       "      <th>0</th>\n",
       "      <td>SVM</td>\n",
       "      <td>0.7921</td>\n",
       "      <td>0.0045</td>\n",
       "      <td>[0.7996, 0.7875, 0.7942, 0.7877, 0.7915]</td>\n",
       "    </tr>\n",
       "  </tbody>\n",
       "</table>\n",
       "</div>"
      ],
      "text/plain": [
       "     1.Algorithm  2.Mean CV Score  3.Standard Deviation  \\\n",
       "4        XGBoost           0.8487                0.0029   \n",
       "2   RandomForest           0.8418                0.0042   \n",
       "3  GradientBoost           0.8367                0.0023   \n",
       "5      K-nearest           0.8294                0.0037   \n",
       "1       Decision           0.8161                0.0030   \n",
       "0            SVM           0.7921                0.0045   \n",
       "\n",
       "                        4.List of CV Scores  \n",
       "4     [0.8511, 0.843, 0.8496, 0.85, 0.8499]  \n",
       "2  [0.8456, 0.8338, 0.8421, 0.8436, 0.8441]  \n",
       "3  [0.8404, 0.8352, 0.8385, 0.8345, 0.8348]  \n",
       "5  [0.8341, 0.8227, 0.8294, 0.8304, 0.8307]  \n",
       "1  [0.8189, 0.8125, 0.8143, 0.8144, 0.8204]  \n",
       "0  [0.7996, 0.7875, 0.7942, 0.7877, 0.7915]  "
      ]
     },
     "execution_count": 33,
     "metadata": {},
     "output_type": "execute_result"
    }
   ],
   "source": [
    "# Cross validation\n",
    "from sklearn.model_selection import cross_val_score\n",
    "import numpy as np\n",
    "\n",
    "# Create statistics with the results of the cross-validation of different estimators\n",
    "def model_CV(clfs):\n",
    "    estimated_model={}\n",
    "    model_cv_result = pd.DataFrame()\n",
    "    for model_name, model in clfs.items():\n",
    "        estimated_model.update({model_name:model})\n",
    "        scores = cross_val_score(model, X, y, cv=5, scoring='accuracy')\n",
    "        model_dict = {}\n",
    "        model_dict['1.Algorithm'] = model_name\n",
    "        model_dict['2.Mean CV Score'] = round(scores.mean(), 4)\n",
    "        model_dict['3.Standard Deviation'] = round(scores.std(), 4)\n",
    "        model_dict['4.List of CV Scores'] = np.round(scores, 4)\n",
    "        model_cv_result = model_cv_result._append(model_dict,ignore_index=True)\n",
    "    return estimated_model, model_cv_result\n",
    "\n",
    "# Run the model_CV(clsf) function\n",
    "estimated_model, model_cv_result = model_CV(clfs)\n",
    "\n",
    "# Display the results of cross_validation statistics in a descending order\n",
    "model_cv_result.sort_values(by=['2.Mean CV Score'],ascending=False)"
   ]
  },
  {
   "cell_type": "markdown",
   "id": "67c2676e-9e35-40a5-8956-5fec73c17b4c",
   "metadata": {},
   "source": [
    "[<a href=\"#content\">Back to top</a>]"
   ]
  },
  {
   "cell_type": "markdown",
   "id": "8ee23c08-2850-497e-bd67-eef8e11afd3f",
   "metadata": {},
   "source": [
    "## Scrutinize for overfitting <a name=\"8\"></a>"
   ]
  },
  {
   "cell_type": "code",
   "execution_count": 34,
   "id": "84bd5a50-82e1-4bab-934c-219f614f56b6",
   "metadata": {},
   "outputs": [
    {
     "name": "stdout",
     "output_type": "stream",
     "text": [
      ">1, train: 0.841, test: 0.839\n",
      ">2, train: 0.855, test: 0.853\n",
      ">3, train: 0.858, test: 0.856\n",
      ">4, train: 0.863, test: 0.859\n",
      ">5, train: 0.868, test: 0.862\n",
      ">6, train: 0.870, test: 0.861\n",
      ">7, train: 0.873, test: 0.861\n",
      ">8, train: 0.876, test: 0.862\n",
      ">9, train: 0.879, test: 0.860\n",
      ">10, train: 0.881, test: 0.860\n",
      ">11, train: 0.883, test: 0.858\n",
      ">12, train: 0.885, test: 0.857\n",
      ">13, train: 0.887, test: 0.855\n",
      ">14, train: 0.889, test: 0.855\n",
      ">15, train: 0.890, test: 0.852\n",
      ">16, train: 0.891, test: 0.852\n",
      ">17, train: 0.892, test: 0.851\n",
      ">18, train: 0.893, test: 0.850\n",
      ">19, train: 0.893, test: 0.850\n",
      ">20, train: 0.894, test: 0.848\n"
     ]
    }
   ],
   "source": [
    "# Evaluate random forest classifier performance on train and test sets with different tree depths\n",
    "train_scores, test_scores = list(), list()\n",
    "# define the tree depths to evaluate\n",
    "values = [i for i in range(1, 21)]\n",
    "# evaluate a decision tree for each depth\n",
    "for i in values:\n",
    " # configure the model\n",
    " model_ = XGBClassifier(max_depth=i)\n",
    " # fit model_ on the training dataset\n",
    " model_.fit(X_train, y_train)\n",
    " # evaluate on the train dataset\n",
    " train_yhat = model_.predict(X_train)\n",
    " train_acc = accuracy_score(y_train, train_yhat)\n",
    " train_scores.append(train_acc)\n",
    " # evaluate on the test dataset\n",
    " test_yhat = model_.predict(X_test)\n",
    " test_acc = accuracy_score(y_test, test_yhat)\n",
    " test_scores.append(test_acc)\n",
    " # summarize progress\n",
    " print('>%d, train: %.3f, test: %.3f' % (i, train_acc, test_acc))"
   ]
  },
  {
   "cell_type": "code",
   "execution_count": 35,
   "id": "96f3695b-c4ff-4927-aa6a-0c55002a40e6",
   "metadata": {},
   "outputs": [
    {
     "data": {
      "image/png": "[encoded data removed]",
      "text/plain": [
       "<Figure size 640x480 with 1 Axes>"
      ]
     },
     "metadata": {},
     "output_type": "display_data"
    }
   ],
   "source": [
    "import math\n",
    "import matplotlib.pyplot as plt\n",
    "\n",
    "# Set integers for x axis\n",
    "new_x_ticks = range(math.floor(min(values)), math.ceil(max(values))+1)\n",
    "plt.xticks(new_x_ticks)\n",
    "# Plot of train and test scores vs tree depth\n",
    "plt.plot(values, train_scores, '-o', label='Train')\n",
    "plt.plot(values, test_scores, '-o', label='Test')\n",
    "plt.legend()\n",
    "plt.xlabel(\"max_depth\")\n",
    "plt.ylabel(\"accuravy\")\n",
    "plt.show()"
   ]
  },
  {
   "cell_type": "code",
   "execution_count": 41,
   "id": "1a7d67f3-dc00-4df3-a876-1f3d8245f575",
   "metadata": {},
   "outputs": [
    {
     "name": "stdout",
     "output_type": "stream",
     "text": [
      "Accuracy:  0.852\n",
      "Precision:  0.942\n",
      "Recall:  0.75\n",
      "F1:  0.835\n",
      "ROC:  0.852\n"
     ]
    }
   ],
   "source": [
    "# Instantiate the estimator \n",
    "model = RandomForestClassifier(max_depth=9)\n",
    "\n",
    "# Train  \n",
    "model.fit(X_train, y_train)\n",
    "\n",
    "# Predict\n",
    "y_pred = model.predict(X_test)\n",
    "\n",
    "# Evaluation\n",
    "acc = round(accuracy_score(y_test, y_pred),3)\n",
    "print('Accuracy: ', acc)\n",
    "pre = round(precision_score(y_test, y_pred),3)\n",
    "print('Precision: ', pre) \n",
    "rec = round(recall_score(y_test, y_pred),3)\n",
    "print('Recall: ',rec) \n",
    "f1 = round(f1_score(y_test, y_pred),3)\n",
    "print('F1: ', f1) \n",
    "roc = round(roc_auc_score(y_test, y_pred),3) \n",
    "print('ROC: ', roc)"
   ]
  },
  {
   "cell_type": "code",
   "execution_count": 43,
   "id": "469a6e67-0470-4680-8517-95b761453ec2",
   "metadata": {},
   "outputs": [
    {
     "name": "stdout",
     "output_type": "stream",
     "text": [
      "Cross-validation scores: [0.845 0.837 0.839 0.836 0.837]\n",
      "Mean cross-validation score: 0.839\n"
     ]
    }
   ],
   "source": [
    "# Perform 5-fold cross-validation\n",
    "# model = RandomForestClassifier(max_depth=15)\n",
    "scores = cross_val_score(model, X, y, cv=5, scoring='accuracy')\n",
    "\n",
    "print(\"Cross-validation scores:\", np.round(scores, 3))\n",
    "print(\"Mean cross-validation score:\", np.round(scores.mean(), 3))"
   ]
  },
  {
   "cell_type": "markdown",
   "id": "f27f6833-37ac-4be4-98e8-db1af58b072f",
   "metadata": {},
   "source": [
    "[<a href=\"#content\">Back to top</a>]"
   ]
  },
  {
   "cell_type": "markdown",
   "id": "841f55a6-d9f5-4d7c-a8e6-5c2283f6dd3b",
   "metadata": {},
   "source": [
    "##  Hyperparameter tuning with Optuna <a name=\"8\"></a>"
   ]
  },
  {
   "cell_type": "code",
   "execution_count": 36,
   "id": "4a212464-88fe-4539-a245-033c83d5ea4c",
   "metadata": {},
   "outputs": [
    {
     "name": "stderr",
     "output_type": "stream",
     "text": [
      "[I 2025-02-27 18:46:08,602] A new study created in memory with name: no-name-494ff8d9-f0dd-451d-b2cc-e4713a188727\n",
      "[I 2025-02-27 18:46:11,811] Trial 0 finished with value: -0.8317151899098791 and parameters: {'max_depth': 3, 'learning_rate': 0.007034732016906149, 'n_estimators': 218, 'subsample': 0.6585242270754186, 'colsample_bytree': 0.5377351982104357, 'gamma': 0.2146178107836468, 'reg_lambda': 1.1524326974237995, 'min_child_weight': 3}. Best is trial 0 with value: -0.8317151899098791.\n",
      "[I 2025-02-27 18:46:21,626] Trial 1 finished with value: -0.8430187291027078 and parameters: {'max_depth': 6, 'learning_rate': 0.0019318590351373687, 'n_estimators': 448, 'subsample': 0.8399634265573861, 'colsample_bytree': 0.6061423656964257, 'gamma': 0.5034974778602616, 'reg_lambda': 3.7697014643871283, 'min_child_weight': 9}. Best is trial 1 with value: -0.8430187291027078.\n",
      "[I 2025-02-27 18:46:31,839] Trial 2 finished with value: -0.854906752842072 and parameters: {'max_depth': 6, 'learning_rate': 0.020057404175503113, 'n_estimators': 479, 'subsample': 0.9623899953805441, 'colsample_bytree': 0.6713234810903441, 'gamma': 0.20639600712334127, 'reg_lambda': 0.2237419746965445, 'min_child_weight': 1}. Best is trial 2 with value: -0.854906752842072.\n",
      "[I 2025-02-27 18:46:34,624] Trial 3 finished with value: -0.8539259869014904 and parameters: {'max_depth': 5, 'learning_rate': 0.07824045767765744, 'n_estimators': 145, 'subsample': 0.7928459839352486, 'colsample_bytree': 0.6233257993744064, 'gamma': 0.6822763634801208, 'reg_lambda': 0.04511245894268785, 'min_child_weight': 3}. Best is trial 2 with value: -0.854906752842072.\n",
      "[I 2025-02-27 18:46:39,656] Trial 4 finished with value: -0.8543420737042673 and parameters: {'max_depth': 5, 'learning_rate': 0.05124816992682936, 'n_estimators': 255, 'subsample': 0.6408643854977284, 'colsample_bytree': 0.9749823864582996, 'gamma': 0.6166513771754704, 'reg_lambda': 5.913830974390497, 'min_child_weight': 2}. Best is trial 2 with value: -0.854906752842072.\n",
      "[I 2025-02-27 18:46:53,858] Trial 5 finished with value: -0.8567692125345738 and parameters: {'max_depth': 10, 'learning_rate': 0.015441812361359943, 'n_estimators': 435, 'subsample': 0.8900039820876652, 'colsample_bytree': 0.739765274925628, 'gamma': 0.6110805067916921, 'reg_lambda': 0.8652558737672957, 'min_child_weight': 5}. Best is trial 5 with value: -0.8567692125345738.\n",
      "[I 2025-02-27 18:46:57,111] Trial 6 finished with value: -0.8469615707941957 and parameters: {'max_depth': 8, 'learning_rate': 0.0036043301906752276, 'n_estimators': 112, 'subsample': 0.5630810230787261, 'colsample_bytree': 0.9649181694795035, 'gamma': 0.8161821783904962, 'reg_lambda': 0.0029370993330834175, 'min_child_weight': 8}. Best is trial 5 with value: -0.8567692125345738.\n",
      "[I 2025-02-27 18:46:59,881] Trial 7 finished with value: -0.8350735784600533 and parameters: {'max_depth': 5, 'learning_rate': 0.0080717544208904, 'n_estimators': 133, 'subsample': 0.7201124523930313, 'colsample_bytree': 0.8980881192746116, 'gamma': 0.926837189080716, 'reg_lambda': 0.013301354615002767, 'min_child_weight': 5}. Best is trial 5 with value: -0.8567692125345738.\n",
      "[I 2025-02-27 18:47:02,417] Trial 8 finished with value: -0.8431871366605982 and parameters: {'max_depth': 6, 'learning_rate': 0.0011734006117337218, 'n_estimators': 104, 'subsample': 0.7336596824132504, 'colsample_bytree': 0.8004055758253112, 'gamma': 0.10784946595599063, 'reg_lambda': 3.5373681759904847, 'min_child_weight': 2}. Best is trial 5 with value: -0.8567692125345738.\n",
      "[I 2025-02-27 18:47:06,557] Trial 9 finished with value: -0.8480810030568764 and parameters: {'max_depth': 6, 'learning_rate': 0.01807671966031925, 'n_estimators': 181, 'subsample': 0.7025910065894649, 'colsample_bytree': 0.5622859088903537, 'gamma': 0.3401793453832106, 'reg_lambda': 0.005133912804793752, 'min_child_weight': 3}. Best is trial 5 with value: -0.8567692125345738.\n",
      "[I 2025-02-27 18:47:18,140] Trial 10 finished with value: -0.8565314509606038 and parameters: {'max_depth': 10, 'learning_rate': 0.034300896261939835, 'n_estimators': 374, 'subsample': 0.9640411869341212, 'colsample_bytree': 0.7434353947823639, 'gamma': 0.42145129634850753, 'reg_lambda': 0.3871281308187258, 'min_child_weight': 6}. Best is trial 5 with value: -0.8567692125345738.\n",
      "[I 2025-02-27 18:47:29,622] Trial 11 finished with value: -0.8565512647113469 and parameters: {'max_depth': 10, 'learning_rate': 0.03124120180351186, 'n_estimators': 366, 'subsample': 0.9623357550790428, 'colsample_bytree': 0.7499728361665797, 'gamma': 0.4231255298576405, 'reg_lambda': 0.36187299799329825, 'min_child_weight': 6}. Best is trial 5 with value: -0.8567692125345738.\n",
      "[I 2025-02-27 18:47:41,222] Trial 12 finished with value: -0.8567593022242562 and parameters: {'max_depth': 10, 'learning_rate': 0.018275449965308353, 'n_estimators': 358, 'subsample': 0.8900003463609256, 'colsample_bytree': 0.7803212778785588, 'gamma': 0.59897000315399, 'reg_lambda': 0.060275441945915775, 'min_child_weight': 6}. Best is trial 5 with value: -0.8567692125345738.\n",
      "[I 2025-02-27 18:47:50,605] Trial 13 finished with value: -0.8552634042810989 and parameters: {'max_depth': 8, 'learning_rate': 0.014914784991358848, 'n_estimators': 356, 'subsample': 0.8756975603684942, 'colsample_bytree': 0.8250461095525501, 'gamma': 0.678280140643747, 'reg_lambda': 0.06316925333071623, 'min_child_weight': 5}. Best is trial 5 with value: -0.8567692125345738.\n",
      "[I 2025-02-27 18:48:03,042] Trial 14 finished with value: -0.850310054431825 and parameters: {'max_depth': 9, 'learning_rate': 0.004105732242808567, 'n_estimators': 430, 'subsample': 0.8836278462203658, 'colsample_bytree': 0.6903293879975574, 'gamma': 0.8076957373727213, 'reg_lambda': 0.02664381310923275, 'min_child_weight': 7}. Best is trial 5 with value: -0.8567692125345738.\n",
      "[I 2025-02-27 18:48:11,499] Trial 15 finished with value: -0.8534504657163767 and parameters: {'max_depth': 8, 'learning_rate': 0.011342253470379612, 'n_estimators': 316, 'subsample': 0.8978719851711399, 'colsample_bytree': 0.8374483898966202, 'gamma': 0.5633494135831477, 'reg_lambda': 0.9207990896707318, 'min_child_weight': 10}. Best is trial 5 with value: -0.8567692125345738.\n",
      "[I 2025-02-27 18:48:19,235] Trial 16 finished with value: -0.8568286469169106 and parameters: {'max_depth': 9, 'learning_rate': 0.09881189758654504, 'n_estimators': 420, 'subsample': 0.8017520849018062, 'colsample_bytree': 0.8941345642411775, 'gamma': 0.8033392732297067, 'reg_lambda': 0.13969190914292753, 'min_child_weight': 4}. Best is trial 16 with value: -0.8568286469169106.\n",
      "[I 2025-02-27 18:48:28,545] Trial 17 finished with value: -0.85657107698997 and parameters: {'max_depth': 9, 'learning_rate': 0.05891221362858078, 'n_estimators': 498, 'subsample': 0.8015262445627517, 'colsample_bytree': 0.8804487220541376, 'gamma': 0.9762984551381546, 'reg_lambda': 1.3911473282033338, 'min_child_weight': 4}. Best is trial 16 with value: -0.8568286469169106.\n",
      "[I 2025-02-27 18:48:39,527] Trial 18 finished with value: -0.8564819170744528 and parameters: {'max_depth': 9, 'learning_rate': 0.09389271062608351, 'n_estimators': 420, 'subsample': 0.5022433308991379, 'colsample_bytree': 0.8750547977032054, 'gamma': 0.8660538186970297, 'reg_lambda': 0.16163485713135828, 'min_child_weight': 4}. Best is trial 16 with value: -0.8568286469169106.\n",
      "[I 2025-02-27 18:48:46,991] Trial 19 finished with value: -0.855837981952263 and parameters: {'max_depth': 7, 'learning_rate': 0.031953137285052474, 'n_estimators': 311, 'subsample': 0.7882174007396932, 'colsample_bytree': 0.9345994348815048, 'gamma': 0.7490638220724412, 'reg_lambda': 0.01365465383587375, 'min_child_weight': 7}. Best is trial 16 with value: -0.8568286469169106.\n",
      "[I 2025-02-27 18:48:59,341] Trial 20 finished with value: -0.8501911733994867 and parameters: {'max_depth': 9, 'learning_rate': 0.004981629674921374, 'n_estimators': 415, 'subsample': 0.8319647874160878, 'colsample_bytree': 0.7120990509463878, 'gamma': 0.7294333322063036, 'reg_lambda': 9.74567295033696, 'min_child_weight': 4}. Best is trial 16 with value: -0.8568286469169106.\n",
      "[I 2025-02-27 18:49:11,678] Trial 21 finished with value: -0.856630514807253 and parameters: {'max_depth': 10, 'learning_rate': 0.020593999812129494, 'n_estimators': 393, 'subsample': 0.9006443541043968, 'colsample_bytree': 0.7807754360800425, 'gamma': 0.6112552398496006, 'reg_lambda': 0.09795696719263271, 'min_child_weight': 7}. Best is trial 16 with value: -0.8568286469169106.\n",
      "[I 2025-02-27 18:49:22,037] Trial 22 finished with value: -0.8566404265896903 and parameters: {'max_depth': 10, 'learning_rate': 0.04655520676073674, 'n_estimators': 463, 'subsample': 0.9282732798682579, 'colsample_bytree': 0.8458669720804576, 'gamma': 0.5360159764556699, 'reg_lambda': 0.7386498017130773, 'min_child_weight': 5}. Best is trial 16 with value: -0.8568286469169106.\n",
      "[I 2025-02-27 18:49:33,255] Trial 23 finished with value: -0.855194039960181 and parameters: {'max_depth': 10, 'learning_rate': 0.011527094006230955, 'n_estimators': 338, 'subsample': 0.8316029327705533, 'colsample_bytree': 0.7827056681025774, 'gamma': 0.43272404777542073, 'reg_lambda': 0.13392965778519259, 'min_child_weight': 6}. Best is trial 16 with value: -0.8568286469169106.\n",
      "[I 2025-02-27 18:49:42,193] Trial 24 finished with value: -0.848695256809479 and parameters: {'max_depth': 9, 'learning_rate': 0.0028529611094887217, 'n_estimators': 271, 'subsample': 0.765894883488563, 'colsample_bytree': 0.6481647420122401, 'gamma': 0.8753262586588727, 'reg_lambda': 0.0010782060792745146, 'min_child_weight': 8}. Best is trial 16 with value: -0.8568286469169106.\n",
      "[I 2025-02-27 18:49:52,370] Trial 25 finished with value: -0.8562045309432362 and parameters: {'max_depth': 8, 'learning_rate': 0.025919332514546947, 'n_estimators': 402, 'subsample': 0.9942467784241176, 'colsample_bytree': 0.7197661805485055, 'gamma': 0.6116516806467411, 'reg_lambda': 0.4121235542485241, 'min_child_weight': 4}. Best is trial 16 with value: -0.8568286469169106.\n",
      "[I 2025-02-27 18:50:03,472] Trial 26 finished with value: -0.8491707456079578 and parameters: {'max_depth': 7, 'learning_rate': 0.006366436607658099, 'n_estimators': 450, 'subsample': 0.858528063776573, 'colsample_bytree': 0.9216967909979533, 'gamma': 0.7550107255933807, 'reg_lambda': 0.03144217520841313, 'min_child_weight': 5}. Best is trial 16 with value: -0.8568286469169106.\n",
      "[I 2025-02-27 18:50:14,371] Trial 27 finished with value: -0.8557983515065375 and parameters: {'max_depth': 10, 'learning_rate': 0.01378237435430587, 'n_estimators': 334, 'subsample': 0.9259817809743616, 'colsample_bytree': 0.9969956060876228, 'gamma': 0.6771633274052271, 'reg_lambda': 0.08441446142896446, 'min_child_weight': 6}. Best is trial 16 with value: -0.8568286469169106.\n",
      "[I 2025-02-27 18:50:21,890] Trial 28 finished with value: -0.8568781837473012 and parameters: {'max_depth': 9, 'learning_rate': 0.06697756879084082, 'n_estimators': 282, 'subsample': 0.9197933242310011, 'colsample_bytree': 0.8160659232876264, 'gamma': 0.32785184471073503, 'reg_lambda': 1.8719494869794828, 'min_child_weight': 8}. Best is trial 28 with value: -0.8568781837473012.\n",
      "[I 2025-02-27 18:50:25,342] Trial 29 finished with value: -0.8529254101544055 and parameters: {'max_depth': 3, 'learning_rate': 0.07244893487648273, 'n_estimators': 249, 'subsample': 0.6829611593125444, 'colsample_bytree': 0.5025106452342043, 'gamma': 0.28940589334003836, 'reg_lambda': 1.9961403628629282, 'min_child_weight': 10}. Best is trial 28 with value: -0.8568781837473012.\n",
      "[I 2025-02-27 18:50:31,554] Trial 30 finished with value: -0.8568583719593846 and parameters: {'max_depth': 9, 'learning_rate': 0.042196238915241525, 'n_estimators': 204, 'subsample': 0.9988226068208321, 'colsample_bytree': 0.8609048899310332, 'gamma': 0.01443003873116866, 'reg_lambda': 0.7053044307147731, 'min_child_weight': 8}. Best is trial 28 with value: -0.8568781837473012.\n",
      "[I 2025-02-27 18:50:37,144] Trial 31 finished with value: -0.856660243284673 and parameters: {'max_depth': 9, 'learning_rate': 0.04214910265067066, 'n_estimators': 190, 'subsample': 0.9286945298821164, 'colsample_bytree': 0.8614587721225604, 'gamma': 0.10609136198280504, 'reg_lambda': 2.4589896449819633, 'min_child_weight': 8}. Best is trial 28 with value: -0.8568781837473012.\n",
      "[I 2025-02-27 18:50:43,060] Trial 32 finished with value: -0.856927714198506 and parameters: {'max_depth': 8, 'learning_rate': 0.09502822411278841, 'n_estimators': 220, 'subsample': 0.9887195539738532, 'colsample_bytree': 0.9175830051801814, 'gamma': 0.012666294179977139, 'reg_lambda': 0.6655232619643862, 'min_child_weight': 9}. Best is trial 32 with value: -0.856927714198506.\n",
      "[I 2025-02-27 18:50:48,827] Trial 33 finished with value: -0.8569772451404173 and parameters: {'max_depth': 8, 'learning_rate': 0.09219035064910537, 'n_estimators': 216, 'subsample': 0.9900729595802116, 'colsample_bytree': 0.9043186062945794, 'gamma': 0.0017292466763708918, 'reg_lambda': 0.51966155540249, 'min_child_weight': 9}. Best is trial 33 with value: -0.8569772451404173.\n",
      "[I 2025-02-27 18:50:53,640] Trial 34 finished with value: -0.8560460263350645 and parameters: {'max_depth': 7, 'learning_rate': 0.06658574088787587, 'n_estimators': 197, 'subsample': 0.9783197352391254, 'colsample_bytree': 0.9305226474280113, 'gamma': 0.004902798789497748, 'reg_lambda': 0.5926237964888691, 'min_child_weight': 9}. Best is trial 33 with value: -0.8569772451404173.\n",
      "[I 2025-02-27 18:50:59,894] Trial 35 finished with value: -0.8570564952363234 and parameters: {'max_depth': 8, 'learning_rate': 0.08147909917040479, 'n_estimators': 224, 'subsample': 0.9932204780043117, 'colsample_bytree': 0.9563277228499342, 'gamma': 0.005470307293330867, 'reg_lambda': 1.4941649723952692, 'min_child_weight': 9}. Best is trial 35 with value: -0.8570564952363234.\n",
      "[I 2025-02-27 18:51:06,184] Trial 36 finished with value: -0.85701687166049 and parameters: {'max_depth': 8, 'learning_rate': 0.07947985358400256, 'n_estimators': 232, 'subsample': 0.9504695363495628, 'colsample_bytree': 0.9606188351707635, 'gamma': 0.1091825805830995, 'reg_lambda': 1.65840782908925, 'min_child_weight': 9}. Best is trial 35 with value: -0.8570564952363234.\n",
      "[I 2025-02-27 18:51:12,373] Trial 37 finished with value: -0.8569277097821466 and parameters: {'max_depth': 8, 'learning_rate': 0.08500533553917011, 'n_estimators': 235, 'subsample': 0.9580708530486896, 'colsample_bytree': 0.9598646132100075, 'gamma': 0.09790806358252732, 'reg_lambda': 5.348268640427197, 'min_child_weight': 9}. Best is trial 35 with value: -0.8570564952363234.\n",
      "[I 2025-02-27 18:51:17,644] Trial 38 finished with value: -0.8560361199503997 and parameters: {'max_depth': 7, 'learning_rate': 0.055038341500328755, 'n_estimators': 224, 'subsample': 0.9484249567347186, 'colsample_bytree': 0.999506726903849, 'gamma': 0.19440249200104467, 'reg_lambda': 0.21747878842291063, 'min_child_weight': 10}. Best is trial 35 with value: -0.8570564952363234.\n",
      "[I 2025-02-27 18:51:22,502] Trial 39 finished with value: -0.8567196776670098 and parameters: {'max_depth': 8, 'learning_rate': 0.0781819777834794, 'n_estimators': 173, 'subsample': 0.6219052178502573, 'colsample_bytree': 0.9571108414584317, 'gamma': 0.05709753690357205, 'reg_lambda': 1.3597941856939828, 'min_child_weight': 9}. Best is trial 35 with value: -0.8570564952363234.\n",
      "[I 2025-02-27 18:51:26,161] Trial 40 finished with value: -0.8553327489737533 and parameters: {'max_depth': 7, 'learning_rate': 0.054205870432456574, 'n_estimators': 148, 'subsample': 0.9822982759258948, 'colsample_bytree': 0.9091226708886443, 'gamma': 0.16827816006234686, 'reg_lambda': 3.2084847061179977, 'min_child_weight': 9}. Best is trial 35 with value: -0.8570564952363234.\n",
      "[I 2025-02-27 18:51:32,245] Trial 41 finished with value: -0.8569376151853983 and parameters: {'max_depth': 8, 'learning_rate': 0.09405227773312198, 'n_estimators': 232, 'subsample': 0.9493562344644372, 'colsample_bytree': 0.9489509700298313, 'gamma': 0.11963112560813073, 'reg_lambda': 5.041946701830158, 'min_child_weight': 9}. Best is trial 35 with value: -0.8570564952363234.\n",
      "[I 2025-02-27 18:51:38,122] Trial 42 finished with value: -0.8569078930871641 and parameters: {'max_depth': 8, 'learning_rate': 0.09600645402199977, 'n_estimators': 219, 'subsample': 0.9447375813851524, 'colsample_bytree': 0.9457835138923878, 'gamma': 0.15026359679399637, 'reg_lambda': 9.846978886928026, 'min_child_weight': 10}. Best is trial 35 with value: -0.8570564952363234.\n",
      "[I 2025-02-27 18:51:44,678] Trial 43 finished with value: -0.8566602305263016 and parameters: {'max_depth': 7, 'learning_rate': 0.07195910119581664, 'n_estimators': 254, 'subsample': 0.9797037225068898, 'colsample_bytree': 0.9790495910817425, 'gamma': 0.05662874323841397, 'reg_lambda': 5.268092992584997, 'min_child_weight': 9}. Best is trial 35 with value: -0.8570564952363234.\n",
      "[I 2025-02-27 18:51:49,388] Trial 44 finished with value: -0.8553723764752394 and parameters: {'max_depth': 8, 'learning_rate': 0.037788354416443175, 'n_estimators': 167, 'subsample': 0.9468230361872069, 'colsample_bytree': 0.9138310152449743, 'gamma': 0.2412571799650332, 'reg_lambda': 1.2395990428783064, 'min_child_weight': 10}. Best is trial 35 with value: -0.8570564952363234.\n",
      "[I 2025-02-27 18:51:55,293] Trial 45 finished with value: -0.8561946191607989 and parameters: {'max_depth': 6, 'learning_rate': 0.061148642889975895, 'n_estimators': 271, 'subsample': 0.9687243204241966, 'colsample_bytree': 0.9770608781212269, 'gamma': 0.05634002262587338, 'reg_lambda': 0.28139805134208595, 'min_child_weight': 9}. Best is trial 35 with value: -0.8570564952363234.\n",
      "[I 2025-02-27 18:52:01,083] Trial 46 finished with value: -0.8569772412147646 and parameters: {'max_depth': 8, 'learning_rate': 0.07913795159962962, 'n_estimators': 231, 'subsample': 0.9976025223444304, 'colsample_bytree': 0.9410052050823675, 'gamma': 0.13129523139160015, 'reg_lambda': 2.881884628651553, 'min_child_weight': 8}. Best is trial 35 with value: -0.8570564952363234.\n",
      "[I 2025-02-27 18:52:06,709] Trial 47 finished with value: -0.836658648095686 and parameters: {'max_depth': 5, 'learning_rate': 0.001053600050924802, 'n_estimators': 291, 'subsample': 0.9108420859851284, 'colsample_bytree': 0.9433547674354167, 'gamma': 0.23932450005700573, 'reg_lambda': 3.795148580219417, 'min_child_weight': 8}. Best is trial 35 with value: -0.8570564952363234.\n",
      "[I 2025-02-27 18:52:13,336] Trial 48 finished with value: -0.8567692090996276 and parameters: {'max_depth': 8, 'learning_rate': 0.08012098667722316, 'n_estimators': 241, 'subsample': 0.8600236694824162, 'colsample_bytree': 0.978139701693146, 'gamma': 0.1322935712888487, 'reg_lambda': 2.8314669895550493, 'min_child_weight': 7}. Best is trial 35 with value: -0.8570564952363234.\n",
      "[I 2025-02-27 18:52:15,880] Trial 49 finished with value: -0.8426521742232553 and parameters: {'max_depth': 4, 'learning_rate': 0.026536808613671643, 'n_estimators': 152, 'subsample': 0.9963666933106469, 'colsample_bytree': 0.8934759371737663, 'gamma': 0.07655690023969464, 'reg_lambda': 5.863236240111001, 'min_child_weight': 8}. Best is trial 35 with value: -0.8570564952363234.\n",
      "[I 2025-02-27 18:52:20,579] Trial 50 finished with value: -0.8557092023865653 and parameters: {'max_depth': 7, 'learning_rate': 0.05025204117383202, 'n_estimators': 197, 'subsample': 0.9405297808718062, 'colsample_bytree': 0.9495505537474099, 'gamma': 0.20291787729932625, 'reg_lambda': 1.035441803090048, 'min_child_weight': 10}. Best is trial 35 with value: -0.8570564952363234.\n",
      "[I 2025-02-27 18:52:27,298] Trial 51 finished with value: -0.856888087678433 and parameters: {'max_depth': 8, 'learning_rate': 0.09913280717950432, 'n_estimators': 237, 'subsample': 0.9700723219485883, 'colsample_bytree': 0.9289538165265654, 'gamma': 0.02570489816716115, 'reg_lambda': 1.8237308678261162, 'min_child_weight': 9}. Best is trial 35 with value: -0.8570564952363234.\n",
      "[I 2025-02-27 18:52:33,000] Trial 52 finished with value: -0.8569772417054711 and parameters: {'max_depth': 8, 'learning_rate': 0.08290638640884884, 'n_estimators': 211, 'subsample': 0.9983325632891062, 'colsample_bytree': 0.903032708311038, 'gamma': 0.12890100062968673, 'reg_lambda': 0.4931532779907309, 'min_child_weight': 9}. Best is trial 35 with value: -0.8570564952363234.\n",
      "[I 2025-02-27 18:52:38,736] Trial 53 finished with value: -0.8565611661889457 and parameters: {'max_depth': 8, 'learning_rate': 0.061690626180558476, 'n_estimators': 208, 'subsample': 0.9599349475525061, 'colsample_bytree': 0.8862997819594416, 'gamma': 0.12696221917780426, 'reg_lambda': 0.45492924063252327, 'min_child_weight': 9}. Best is trial 35 with value: -0.8570564952363234.\n",
      "[I 2025-02-27 18:52:41,915] Trial 54 finished with value: -0.8553129337508907 and parameters: {'max_depth': 7, 'learning_rate': 0.07955420131359517, 'n_estimators': 124, 'subsample': 0.9988236643798561, 'colsample_bytree': 0.9692833758618832, 'gamma': 0.17329469659579552, 'reg_lambda': 4.305201435111633, 'min_child_weight': 10}. Best is trial 35 with value: -0.8570564952363234.\n",
      "[I 2025-02-27 18:52:47,438] Trial 55 finished with value: -0.8424144146121118 and parameters: {'max_depth': 6, 'learning_rate': 0.0014775271959088186, 'n_estimators': 259, 'subsample': 0.9110466537874313, 'colsample_bytree': 0.9025220080669129, 'gamma': 0.2761253682729502, 'reg_lambda': 2.313016288983811, 'min_child_weight': 7}. Best is trial 35 with value: -0.8570564952363234.\n",
      "[I 2025-02-27 18:52:52,492] Trial 56 finished with value: -0.8561054651337608 and parameters: {'max_depth': 8, 'learning_rate': 0.048235361226129814, 'n_estimators': 186, 'subsample': 0.9675974302656395, 'colsample_bytree': 0.8567167138180063, 'gamma': 0.08515564020144734, 'reg_lambda': 7.92397833860177, 'min_child_weight': 8}. Best is trial 35 with value: -0.8570564952363234.\n",
      "[I 2025-02-27 18:52:57,379] Trial 57 finished with value: -0.8562342574578299 and parameters: {'max_depth': 9, 'learning_rate': 0.037976867324888045, 'n_estimators': 161, 'subsample': 0.9374842016464211, 'colsample_bytree': 0.9867942056530129, 'gamma': 0.14140487341805025, 'reg_lambda': 1.4680919379863928, 'min_child_weight': 9}. Best is trial 35 with value: -0.8570564952363234.\n",
      "[I 2025-02-27 18:53:03,627] Trial 58 finished with value: -0.8570862202787973 and parameters: {'max_depth': 8, 'learning_rate': 0.08229291715973484, 'n_estimators': 227, 'subsample': 0.870709308505202, 'colsample_bytree': 0.5999770603841782, 'gamma': 0.041562272203153464, 'reg_lambda': 0.9350106834958802, 'min_child_weight': 10}. Best is trial 58 with value: -0.8570862202787973.\n",
      "[I 2025-02-27 18:53:08,683] Trial 59 finished with value: -0.8564125655119061 and parameters: {'max_depth': 7, 'learning_rate': 0.06681184108298217, 'n_estimators': 208, 'subsample': 0.8768391762297884, 'colsample_bytree': 0.5852579979766477, 'gamma': 0.046220523287619615, 'reg_lambda': 0.2825357997049439, 'min_child_weight': 10}. Best is trial 58 with value: -0.8570862202787973.\n",
      "[I 2025-02-27 18:53:18,024] Trial 60 finished with value: -0.8566800526190566 and parameters: {'max_depth': 9, 'learning_rate': 0.026935424385393404, 'n_estimators': 304, 'subsample': 0.9795007626965245, 'colsample_bytree': 0.6251973037548975, 'gamma': 0.37255613675727656, 'reg_lambda': 0.5408186201033242, 'min_child_weight': 10}. Best is trial 58 with value: -0.8570862202787973.\n",
      "[I 2025-02-27 18:53:24,284] Trial 61 finished with value: -0.8570465903237784 and parameters: {'max_depth': 8, 'learning_rate': 0.08168977225285666, 'n_estimators': 231, 'subsample': 0.9602854768026801, 'colsample_bytree': 0.9548449880965151, 'gamma': 0.0976781849797567, 'reg_lambda': 0.9221457051721001, 'min_child_weight': 1}. Best is trial 58 with value: -0.8570862202787973.\n",
      "[I 2025-02-27 18:53:31,525] Trial 62 finished with value: -0.8568583699965583 and parameters: {'max_depth': 8, 'learning_rate': 0.08233949147892708, 'n_estimators': 273, 'subsample': 0.8945005533338221, 'colsample_bytree': 0.5527593232330495, 'gamma': 0.08221435012635588, 'reg_lambda': 1.0080435221233661, 'min_child_weight': 1}. Best is trial 58 with value: -0.8570862202787973.\n",
      "[I 2025-02-27 18:53:38,447] Trial 63 finished with value: -0.8567196703064107 and parameters: {'max_depth': 8, 'learning_rate': 0.05517548123521941, 'n_estimators': 247, 'subsample': 0.9622424260921444, 'colsample_bytree': 0.6856071040727276, 'gamma': 0.04681931591101101, 'reg_lambda': 0.8918746534911529, 'min_child_weight': 2}. Best is trial 58 with value: -0.8570862202787973.\n",
      "[I 2025-02-27 18:53:44,757] Trial 64 finished with value: -0.8568583670523185 and parameters: {'max_depth': 9, 'learning_rate': 0.07224023157458401, 'n_estimators': 221, 'subsample': 0.9845840445671826, 'colsample_bytree': 0.874963303525937, 'gamma': 0.17203777465509051, 'reg_lambda': 0.33449264599253065, 'min_child_weight': 8}. Best is trial 58 with value: -0.8570862202787973.\n",
      "[I 2025-02-27 18:53:49,004] Trial 65 finished with value: -0.8564323768091162 and parameters: {'max_depth': 7, 'learning_rate': 0.08282458770874672, 'n_estimators': 178, 'subsample': 0.8596729649799588, 'colsample_bytree': 0.9327193298773582, 'gamma': 0.2217082087269115, 'reg_lambda': 1.6470691680368796, 'min_child_weight': 3}. Best is trial 58 with value: -0.8570862202787973.\n",
      "[I 2025-02-27 18:53:55,860] Trial 66 finished with value: -0.8565116298492619 and parameters: {'max_depth': 8, 'learning_rate': 0.04577706307198281, 'n_estimators': 257, 'subsample': 0.9118994870243006, 'colsample_bytree': 0.8304594235382396, 'gamma': 0.03614259754705594, 'reg_lambda': 0.5165685053276001, 'min_child_weight': 2}. Best is trial 58 with value: -0.8570862202787973.\n",
      "[I 2025-02-27 18:54:02,207] Trial 67 finished with value: -0.848477308986252 and parameters: {'max_depth': 9, 'learning_rate': 0.002389609973420956, 'n_estimators': 209, 'subsample': 0.9341681199301106, 'colsample_bytree': 0.8054451638971271, 'gamma': 0.004250727407161384, 'reg_lambda': 0.8003448847176462, 'min_child_weight': 10}. Best is trial 58 with value: -0.8570862202787973.\n",
      "[I 2025-02-27 18:54:08,621] Trial 68 finished with value: -0.8569277132170928 and parameters: {'max_depth': 8, 'learning_rate': 0.06472861684892771, 'n_estimators': 232, 'subsample': 0.8166690465848396, 'colsample_bytree': 0.9625293720378699, 'gamma': 0.08907554839277906, 'reg_lambda': 1.1307955899423396, 'min_child_weight': 1}. Best is trial 58 with value: -0.8570862202787973.\n",
      "[I 2025-02-27 18:54:15,110] Trial 69 finished with value: -0.8477144678056876 and parameters: {'max_depth': 7, 'learning_rate': 0.008521646473893833, 'n_estimators': 264, 'subsample': 0.7596354204981196, 'colsample_bytree': 0.9052575134451584, 'gamma': 0.1118331825082968, 'reg_lambda': 0.2259830926445549, 'min_child_weight': 9}. Best is trial 58 with value: -0.8570862202787973.\n",
      "[I 2025-02-27 18:54:22,756] Trial 70 finished with value: -0.8567493953488847 and parameters: {'max_depth': 9, 'learning_rate': 0.08682563821045727, 'n_estimators': 288, 'subsample': 0.955919626497645, 'colsample_bytree': 0.7694378642045732, 'gamma': 0.1560241032698228, 'reg_lambda': 2.6623993159176296, 'min_child_weight': 7}. Best is trial 58 with value: -0.8570862202787973.\n",
      "[I 2025-02-27 18:54:28,566] Trial 71 finished with value: -0.8569772402333513 and parameters: {'max_depth': 8, 'learning_rate': 0.09848906492038202, 'n_estimators': 229, 'subsample': 0.9750420500662561, 'colsample_bytree': 0.9472932387948092, 'gamma': 0.12161605096766016, 'reg_lambda': 3.824282080603341, 'min_child_weight': 9}. Best is trial 58 with value: -0.8570862202787973.\n",
      "[I 2025-02-27 18:54:33,817] Trial 72 finished with value: -0.8567592992800167 and parameters: {'max_depth': 8, 'learning_rate': 0.07352486655035755, 'n_estimators': 194, 'subsample': 0.9986165861604388, 'colsample_bytree': 0.513436274260565, 'gamma': 0.08324170011829028, 'reg_lambda': 2.092745454335956, 'min_child_weight': 9}. Best is trial 58 with value: -0.8570862202787973.\n",
      "[I 2025-02-27 18:54:39,525] Trial 73 finished with value: -0.8561351877227017 and parameters: {'max_depth': 8, 'learning_rate': 0.061975621530808205, 'n_estimators': 215, 'subsample': 0.9774055002331986, 'colsample_bytree': 0.9194925799539844, 'gamma': 0.48168281439861393, 'reg_lambda': 3.4456302654670248, 'min_child_weight': 8}. Best is trial 58 with value: -0.8570862202787973.\n",
      "[I 2025-02-27 18:54:45,396] Trial 74 finished with value: -0.8568187370972996 and parameters: {'max_depth': 8, 'learning_rate': 0.08895852748575092, 'n_estimators': 225, 'subsample': 0.9255672917021994, 'colsample_bytree': 0.9409285291631347, 'gamma': 0.18724388498478212, 'reg_lambda': 1.6183777915141522, 'min_child_weight': 10}. Best is trial 58 with value: -0.8570862202787973.\n",
      "[I 2025-02-27 18:54:52,241] Trial 75 finished with value: -0.856580978467569 and parameters: {'max_depth': 8, 'learning_rate': 0.057535409932651826, 'n_estimators': 241, 'subsample': 0.9865565817286905, 'colsample_bytree': 0.9932139773789009, 'gamma': 0.030885693975101252, 'reg_lambda': 6.802799380547929, 'min_child_weight': 9}. Best is trial 58 with value: -0.8570862202787973.\n",
      "[I 2025-02-27 18:54:56,650] Trial 76 finished with value: -0.856055932229023 and parameters: {'max_depth': 7, 'learning_rate': 0.07307599841610028, 'n_estimators': 184, 'subsample': 0.9709528880408727, 'colsample_bytree': 0.9594540890889962, 'gamma': 0.26146614277440006, 'reg_lambda': 0.6944299154433999, 'min_child_weight': 8}. Best is trial 58 with value: -0.8570862202787973.\n",
      "[I 2025-02-27 18:55:01,620] Trial 77 finished with value: -0.85671967619489 and parameters: {'max_depth': 9, 'learning_rate': 0.08683368062753918, 'n_estimators': 197, 'subsample': 0.9599793812158625, 'colsample_bytree': 0.8753215843191936, 'gamma': 0.31002614463901174, 'reg_lambda': 1.30845054291586, 'min_child_weight': 10}. Best is trial 58 with value: -0.8570862202787973.\n",
      "[I 2025-02-27 18:55:08,418] Trial 78 finished with value: -0.8566107054728691 and parameters: {'max_depth': 8, 'learning_rate': 0.09993217875044165, 'n_estimators': 247, 'subsample': 0.5974175722914788, 'colsample_bytree': 0.6595059060854839, 'gamma': 0.06508362026633913, 'reg_lambda': 3.981165454518065, 'min_child_weight': 9}. Best is trial 58 with value: -0.8570862202787973.\n",
      "[I 2025-02-27 18:55:14,630] Trial 79 finished with value: -0.856709761468213 and parameters: {'max_depth': 8, 'learning_rate': 0.053665072838213174, 'n_estimators': 227, 'subsample': 0.9870048090211501, 'colsample_bytree': 0.9264397121067611, 'gamma': 0.0018914155954578293, 'reg_lambda': 0.006124677973092081, 'min_child_weight': 9}. Best is trial 58 with value: -0.8570862202787973.\n",
      "[I 2025-02-27 18:55:21,270] Trial 80 finished with value: -0.8558379848965026 and parameters: {'max_depth': 7, 'learning_rate': 0.04362459207205603, 'n_estimators': 278, 'subsample': 0.5021377840619818, 'colsample_bytree': 0.9705190222839142, 'gamma': 0.116690506544883, 'reg_lambda': 2.3213498309091776, 'min_child_weight': 8}. Best is trial 58 with value: -0.8570862202787973.\n",
      "[I 2025-02-27 18:55:27,753] Trial 81 finished with value: -0.8568385528108691 and parameters: {'max_depth': 8, 'learning_rate': 0.0903892752595202, 'n_estimators': 232, 'subsample': 0.9514217847548267, 'colsample_bytree': 0.9537026036561639, 'gamma': 0.12442172215373237, 'reg_lambda': 4.944753243362091, 'min_child_weight': 9}. Best is trial 58 with value: -0.8570862202787973.\n",
      "[I 2025-02-27 18:55:33,391] Trial 82 finished with value: -0.8567592997707232 and parameters: {'max_depth': 8, 'learning_rate': 0.07550426568718005, 'n_estimators': 213, 'subsample': 0.9422593501335487, 'colsample_bytree': 0.9403852106945859, 'gamma': 0.1486223376654413, 'reg_lambda': 6.987803470121279, 'min_child_weight': 9}. Best is trial 58 with value: -0.8570862202787973.\n",
      "[I 2025-02-27 18:55:39,458] Trial 83 finished with value: -0.8567295845423812 and parameters: {'max_depth': 9, 'learning_rate': 0.06731710934408057, 'n_estimators': 200, 'subsample': 0.9154614275225738, 'colsample_bytree': 0.986019946325035, 'gamma': 0.10838137499910948, 'reg_lambda': 3.0960815006074944, 'min_child_weight': 10}. Best is trial 58 with value: -0.8570862202787973.\n",
      "[I 2025-02-27 18:55:46,402] Trial 84 finished with value: -0.8566800452584579 and parameters: {'max_depth': 8, 'learning_rate': 0.09822374309584878, 'n_estimators': 242, 'subsample': 0.7308791936941141, 'colsample_bytree': 0.9133681003810035, 'gamma': 0.22621149080292263, 'reg_lambda': 0.8401969111323719, 'min_child_weight': 8}. Best is trial 58 with value: -0.8570862202787973.\n",
      "[I 2025-02-27 18:55:53,687] Trial 85 finished with value: -0.8569376181296379 and parameters: {'max_depth': 8, 'learning_rate': 0.0800699597009694, 'n_estimators': 262, 'subsample': 0.971346521782047, 'colsample_bytree': 0.8964960728913041, 'gamma': 0.028246134995727736, 'reg_lambda': 1.124350615059102, 'min_child_weight': 9}. Best is trial 58 with value: -0.8570862202787973.\n",
      "[I 2025-02-27 18:56:01,655] Trial 86 finished with value: -0.8567593056592024 and parameters: {'max_depth': 9, 'learning_rate': 0.07994442233276117, 'n_estimators': 266, 'subsample': 0.9989124307541873, 'colsample_bytree': 0.8948085483183496, 'gamma': 0.03292684456671774, 'reg_lambda': 0.39238170705182507, 'min_child_weight': 10}. Best is trial 58 with value: -0.8570862202787973.\n",
      "[I 2025-02-27 18:56:07,838] Trial 87 finished with value: -0.8561351901762345 and parameters: {'max_depth': 7, 'learning_rate': 0.05100254992246423, 'n_estimators': 256, 'subsample': 0.9785000307913444, 'colsample_bytree': 0.7226821800627868, 'gamma': 0.0619013553542914, 'reg_lambda': 0.5305150777448915, 'min_child_weight': 9}. Best is trial 58 with value: -0.8570862202787973.\n",
      "[I 2025-02-27 18:56:13,798] Trial 88 finished with value: -0.856798921874437 and parameters: {'max_depth': 8, 'learning_rate': 0.06201369244181823, 'n_estimators': 216, 'subsample': 0.9682002417700492, 'colsample_bytree': 0.8457361746508112, 'gamma': 0.025652032848638665, 'reg_lambda': 1.0668776736742562, 'min_child_weight': 9}. Best is trial 58 with value: -0.8570862202787973.\n",
      "[I 2025-02-27 18:56:21,608] Trial 89 finished with value: -0.8566305143165464 and parameters: {'max_depth': 8, 'learning_rate': 0.06799852330012601, 'n_estimators': 293, 'subsample': 0.6978293757375004, 'colsample_bytree': 0.9255472784468046, 'gamma': 0.06897459709142445, 'reg_lambda': 1.8454075726129342, 'min_child_weight': 8}. Best is trial 58 with value: -0.8570862202787973.\n",
      "[I 2025-02-27 18:56:27,538] Trial 90 finished with value: -0.8568880827713672 and parameters: {'max_depth': 7, 'learning_rate': 0.08732505613017634, 'n_estimators': 249, 'subsample': 0.9299906055905305, 'colsample_bytree': 0.8856895246964928, 'gamma': 0.09750119978826743, 'reg_lambda': 0.6108771510315791, 'min_child_weight': 10}. Best is trial 58 with value: -0.8570862202787973.\n",
      "[I 2025-02-27 18:56:33,717] Trial 91 finished with value: -0.8568187356251797 and parameters: {'max_depth': 8, 'learning_rate': 0.07771057607793243, 'n_estimators': 235, 'subsample': 0.9878206787676805, 'colsample_bytree': 0.9473336132732353, 'gamma': 0.19373047644534663, 'reg_lambda': 1.4554140959699553, 'min_child_weight': 9}. Best is trial 58 with value: -0.8570862202787973.\n",
      "[I 2025-02-27 18:56:39,651] Trial 92 finished with value: -0.8569574259919019 and parameters: {'max_depth': 8, 'learning_rate': 0.09076264228334885, 'n_estimators': 226, 'subsample': 0.9566351660168412, 'colsample_bytree': 0.9737628127075109, 'gamma': 0.13181792504989087, 'reg_lambda': 4.37555221202666, 'min_child_weight': 9}. Best is trial 58 with value: -0.8570862202787973.\n",
      "[I 2025-02-27 18:56:45,808] Trial 93 finished with value: -0.8566305152979595 and parameters: {'max_depth': 8, 'learning_rate': 0.0599026283478211, 'n_estimators': 225, 'subsample': 0.9525770746705432, 'colsample_bytree': 0.9634854974575274, 'gamma': 0.1542456320129396, 'reg_lambda': 2.56886690748018, 'min_child_weight': 8}. Best is trial 58 with value: -0.8570862202787973.\n",
      "[I 2025-02-27 18:56:51,209] Trial 94 finished with value: -0.856808832675461 and parameters: {'max_depth': 8, 'learning_rate': 0.09906981257154264, 'n_estimators': 204, 'subsample': 0.972518189154088, 'colsample_bytree': 0.9770019318532593, 'gamma': 0.04952532781566492, 'reg_lambda': 1.1781689345931008, 'min_child_weight': 9}. Best is trial 58 with value: -0.8570862202787973.\n",
      "[I 2025-02-27 18:56:56,533] Trial 95 finished with value: -0.856739489945633 and parameters: {'max_depth': 9, 'learning_rate': 0.07445581012281505, 'n_estimators': 175, 'subsample': 0.9911104048575854, 'colsample_bytree': 0.9376570352620207, 'gamma': 0.12855292860574158, 'reg_lambda': 3.221549758024779, 'min_child_weight': 9}. Best is trial 58 with value: -0.8570862202787973.\n",
      "[I 2025-02-27 18:57:03,496] Trial 96 finished with value: -0.8479324215173938 and parameters: {'max_depth': 8, 'learning_rate': 0.005227756783566181, 'n_estimators': 263, 'subsample': 0.8983195998903026, 'colsample_bytree': 0.9898253915251254, 'gamma': 0.09742799668188708, 'reg_lambda': 4.533227957485955, 'min_child_weight': 5}. Best is trial 58 with value: -0.8570862202787973.\n",
      "[I 2025-02-27 18:57:11,011] Trial 97 finished with value: -0.8567196776670096 and parameters: {'max_depth': 9, 'learning_rate': 0.08849659012535675, 'n_estimators': 248, 'subsample': 0.9425570379831142, 'colsample_bytree': 0.90698539191846, 'gamma': 0.023916850925549023, 'reg_lambda': 2.0827797183558796, 'min_child_weight': 10}. Best is trial 58 with value: -0.8570862202787973.\n",
      "[I 2025-02-27 18:57:16,085] Trial 98 finished with value: -0.8558578035543116 and parameters: {'max_depth': 8, 'learning_rate': 0.03905994239454965, 'n_estimators': 186, 'subsample': 0.961153527732079, 'colsample_bytree': 0.9516233738490316, 'gamma': 0.07822995698672143, 'reg_lambda': 0.15947477173289046, 'min_child_weight': 8}. Best is trial 58 with value: -0.8570862202787973.\n",
      "[I 2025-02-27 18:57:23,396] Trial 99 finished with value: -0.85681873415306 and parameters: {'max_depth': 7, 'learning_rate': 0.06884851224851057, 'n_estimators': 319, 'subsample': 0.9721026390980139, 'colsample_bytree': 0.5853298993160188, 'gamma': 0.17635091998872052, 'reg_lambda': 0.7805122954918013, 'min_child_weight': 6}. Best is trial 58 with value: -0.8570862202787973.\n"
     ]
    },
    {
     "name": "stdout",
     "output_type": "stream",
     "text": [
      "Best Accuracy: 0.8566818181818182\n",
      "Best Hyperparameters: {'max_depth': 8, 'learning_rate': 0.08229291715973484, 'n_estimators': 227, 'subsample': 0.870709308505202, 'colsample_bytree': 0.5999770603841782, 'gamma': 0.041562272203153464, 'reg_lambda': 0.9350106834958802, 'min_child_weight': 10}\n"
     ]
    }
   ],
   "source": [
    "# Hyperparameter tuning with optuna\n",
    "import optuna\n",
    "\n",
    "def objective(trial):\n",
    "    \"\"\"\n",
    "    Objective function for Optuna hyperparameter optimization.\n",
    "\n",
    "    Args:\n",
    "        trial: An Optuna trial object.\n",
    "\n",
    "    Returns:\n",
    "        The negative accuracy score (to be minimized).\n",
    "    \"\"\"\n",
    "    params = {\n",
    "        'max_depth': trial.suggest_int('max_depth', 3, 10),\n",
    "        'learning_rate': trial.suggest_float('learning_rate', 1e-3, 1e-1, log=True),\n",
    "        'n_estimators': trial.suggest_int('n_estimators', 100, 500),\n",
    "        'subsample': trial.suggest_float('subsample', 0.5, 1.0),\n",
    "        'colsample_bytree': trial.suggest_float('colsample_bytree', 0.5, 1.0),\n",
    "        'gamma': trial.suggest_float('gamma', 1e-3, 1),\n",
    "        'reg_lambda': trial.suggest_float('reg_lambda', 1e-3, 10.0, log=True),\n",
    "        'min_child_weight': trial.suggest_int('min_child_weight', 1, 10)\n",
    "    }\n",
    "\n",
    "    model = XGBClassifier(**params)\n",
    "    accuracy = cross_val_score(model, X_train, y_train, cv=5, scoring='accuracy').mean()\n",
    "    return -accuracy  # Optuna minimizes the objective function\n",
    "\n",
    "# Create a study object\n",
    "study = optuna.create_study(direction='minimize') \n",
    "\n",
    "# Run the optimization\n",
    "study.optimize(objective, n_trials=100)  # Adjust n_trials as needed\n",
    "\n",
    "# Get the best hyperparameters\n",
    "best_params = study.best_params\n",
    "\n",
    "# Train the model with the best hyperparameters\n",
    "best_model = XGBClassifier(**best_params)\n",
    "best_model.fit(X_train, y_train)\n",
    "\n",
    "# Evaluate the best model on the test set\n",
    "y_pred = best_model.predict(X_test)\n",
    "accuracy = accuracy_score(y_test, y_pred) \n",
    "print(f\"Best Accuracy: {accuracy}\")\n",
    "print(f\"Best Hyperparameters: {best_params}\")"
   ]
  },
  {
   "cell_type": "markdown",
   "id": "b826cc3e-5eed-4383-b555-91251adf1d42",
   "metadata": {},
   "source": [
    "[<a href=\"#content\">Back to top</a>]"
   ]
  },
  {
   "cell_type": "markdown",
   "id": "d6829836-1234-46b4-a624-841bd3c1477a",
   "metadata": {},
   "source": [
    "## Confusion matrix and classification report  <a name=\"9\"></a>"
   ]
  },
  {
   "cell_type": "code",
   "execution_count": 44,
   "id": "3b596865-213b-4656-8978-e24f9c3659e2",
   "metadata": {},
   "outputs": [
    {
     "data": {
      "image/png": "[encoded data removed]",
      "text/plain": [
       "<Figure size 640x480 with 2 Axes>"
      ]
     },
     "metadata": {},
     "output_type": "display_data"
    }
   ],
   "source": [
    "from sklearn import metrics\n",
    "from sklearn.metrics import confusion_matrix\n",
    "\n",
    "# Random forest classifier prediction\n",
    "predicted = XGBClassifier(max_depth=9).fit(X_train,y_train).predict(X_test)\n",
    "\n",
    "# Calculate the confusion matrix\n",
    "confusion_matrix = metrics.confusion_matrix(y_test, predicted)\n",
    "\n",
    "# Display confusion matrix\n",
    "cm_display = metrics.ConfusionMatrixDisplay(confusion_matrix = confusion_matrix, display_labels = [False, True])\n",
    "cm_display.plot()\n",
    "plt.show()"
   ]
  },
  {
   "cell_type": "code",
   "execution_count": 45,
   "id": "64d0aba0-d41b-49e1-a34e-43f68f2820be",
   "metadata": {},
   "outputs": [
    {
     "name": "stdout",
     "output_type": "stream",
     "text": [
      "                     precision    recall  f1-score   support\n",
      "\n",
      " Active (target 1)        0.82      0.93      0.87     11000\n",
      "Inactive (target 0)       0.92      0.79      0.85     11000\n",
      "\n",
      "           accuracy                           0.86     22000\n",
      "          macro avg       0.87      0.86      0.86     22000\n",
      "       weighted avg       0.87      0.86      0.86     22000\n",
      "\n"
     ]
    }
   ],
   "source": [
    "from sklearn.metrics import classification_report\n",
    "\n",
    "# Print the classification report \n",
    "target_names = ['Active (target 1) ', 'Inactive (target 0)']\n",
    "print(classification_report(y_test, predicted, target_names=target_names))"
   ]
  },
  {
   "cell_type": "markdown",
   "id": "5aaac897-6524-461a-96f0-c8b075c8b16b",
   "metadata": {},
   "source": [
    "[<a href=\"#content\">Back to top</a>]"
   ]
  }
 ],
 "metadata": {
  "kernelspec": {
   "display_name": "Python 3 (ipykernel)",
   "language": "python",
   "name": "python3"
  },
  "language_info": {
   "codemirror_mode": {
    "name": "ipython",
    "version": 3
   },
   "file_extension": ".py",
   "mimetype": "text/x-python",
   "name": "python",
   "nbconvert_exporter": "python",
   "pygments_lexer": "ipython3",
   "version": "3.12.2"
  }
 },
 "nbformat": 4,
 "nbformat_minor": 5
}
